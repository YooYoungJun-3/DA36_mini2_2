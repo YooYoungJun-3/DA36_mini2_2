{
 "cells": [
  {
   "cell_type": "code",
   "id": "initial_id",
   "metadata": {
    "collapsed": true,
    "ExecuteTime": {
     "end_time": "2024-11-07T05:40:54.006503Z",
     "start_time": "2024-11-07T05:40:54.003836Z"
    }
   },
   "source": [
    ""
   ],
   "outputs": [],
   "execution_count": null
  },
  {
   "metadata": {
    "collapsed": true,
    "ExecuteTime": {
     "end_time": "2024-11-07T05:40:54.035546Z",
     "start_time": "2024-11-07T05:40:54.031767Z"
    }
   },
   "cell_type": "code",
   "source": [
    "import pandas as pd\n",
    "import numpy as np\n",
    "import matplotlib.pyplot as plt\n",
    "import seaborn as sns\n",
    "from nltk.metrics.aline import similarity_matrix\n",
    "from pandas import value_counts\n",
    "from win32evtlogutil import langid"
   ],
   "id": "80eb554b25200d0b",
   "outputs": [],
   "execution_count": 334
  },
  {
   "metadata": {},
   "cell_type": "markdown",
   "source": "- kaggle dataset (초안)",
   "id": "fa6ad5725726d68d"
  },
  {
   "metadata": {
    "ExecuteTime": {
     "end_time": "2024-11-07T05:40:58.437154Z",
     "start_time": "2024-11-07T05:40:54.073486Z"
    }
   },
   "cell_type": "code",
   "source": "book_df=pd.read_csv('data/book_review_data.csv')",
   "id": "26b919861505a488",
   "outputs": [],
   "execution_count": 335
  },
  {
   "metadata": {
    "ExecuteTime": {
     "end_time": "2024-11-07T05:40:58.630811Z",
     "start_time": "2024-11-07T05:40:58.474553Z"
    }
   },
   "cell_type": "code",
   "source": [
    "# 1) 필요한 컬럼 도출\n",
    "# 2) 형변환 (float > int)\n",
    "\n",
    "book_df=book_df[['user_id',\"age\",\"rating\",\"book_title\",'book_author','year_of_publication','img_m','Summary','Category','country','Language']]\n",
    "book_df[['age',\"year_of_publication\"]]=book_df[['age',\"year_of_publication\"]].astype(int)"
   ],
   "id": "da561c105e2ef9cb",
   "outputs": [],
   "execution_count": 336
  },
  {
   "metadata": {
    "ExecuteTime": {
     "end_time": "2024-11-07T05:40:58.895993Z",
     "start_time": "2024-11-07T05:40:58.663047Z"
    }
   },
   "cell_type": "code",
   "source": [
    "# 최소 평가 개수 ( 평가가 30개보다 많은 책만 추출 )\n",
    "counts=book_df['book_title'].value_counts()\n",
    "title = counts[counts > 30].index\n",
    "book_filter_df=book_df[book_df['book_title'].isin(title)]"
   ],
   "id": "b2321f4ac05afa4f",
   "outputs": [],
   "execution_count": 337
  },
  {
   "metadata": {
    "ExecuteTime": {
     "end_time": "2024-11-07T05:40:59.109714Z",
     "start_time": "2024-11-07T05:40:58.981007Z"
    }
   },
   "cell_type": "code",
   "source": [
    "# 소문자로 만들기\n",
    "book_filter_df['book_title'] = book_filter_df['book_title'].str.lower()\n",
    "book_filter_df[\"Summary\"]= book_filter_df['Summary'].str.lower()"
   ],
   "id": "4cac203b89f25788",
   "outputs": [
    {
     "name": "stderr",
     "output_type": "stream",
     "text": [
      "C:\\Users\\playdata2\\AppData\\Local\\Temp\\ipykernel_6992\\982956339.py:2: SettingWithCopyWarning: \n",
      "A value is trying to be set on a copy of a slice from a DataFrame.\n",
      "Try using .loc[row_indexer,col_indexer] = value instead\n",
      "\n",
      "See the caveats in the documentation: https://pandas.pydata.org/pandas-docs/stable/user_guide/indexing.html#returning-a-view-versus-a-copy\n",
      "  book_filter_df['book_title'] = book_filter_df['book_title'].str.lower()\n",
      "C:\\Users\\playdata2\\AppData\\Local\\Temp\\ipykernel_6992\\982956339.py:3: SettingWithCopyWarning: \n",
      "A value is trying to be set on a copy of a slice from a DataFrame.\n",
      "Try using .loc[row_indexer,col_indexer] = value instead\n",
      "\n",
      "See the caveats in the documentation: https://pandas.pydata.org/pandas-docs/stable/user_guide/indexing.html#returning-a-view-versus-a-copy\n",
      "  book_filter_df[\"Summary\"]= book_filter_df['Summary'].str.lower()\n"
     ]
    }
   ],
   "execution_count": 338
  },
  {
   "metadata": {
    "ExecuteTime": {
     "end_time": "2024-11-07T05:40:59.194081Z",
     "start_time": "2024-11-07T05:40:59.117690Z"
    }
   },
   "cell_type": "code",
   "source": [
    "# 최소 평가 개수 ( 평가가 20개보다 많은 사용자만 추출 )\n",
    "counts=book_filter_df[\"user_id\"].value_counts()\n",
    "user_id_=counts[counts>10].index\n",
    "book_filter_df = book_filter_df[book_filter_df['user_id'].isin(user_id_)]"
   ],
   "id": "b372fedf1fc38fa6",
   "outputs": [],
   "execution_count": 339
  },
  {
   "metadata": {
    "ExecuteTime": {
     "end_time": "2024-11-07T05:40:59.320267Z",
     "start_time": "2024-11-07T05:40:59.233368Z"
    }
   },
   "cell_type": "code",
   "source": [
    "# 무의미한 0점 평가 제거\n",
    "rating_zero=book_filter_df[book_filter_df['rating']==0].index\n",
    "book_filter_df.drop(rating_zero, axis=0, inplace=True)"
   ],
   "id": "e5aadce8183e8b85",
   "outputs": [],
   "execution_count": 340
  },
  {
   "metadata": {
    "ExecuteTime": {
     "end_time": "2024-11-07T05:40:59.443929Z",
     "start_time": "2024-11-07T05:40:59.362068Z"
    }
   },
   "cell_type": "code",
   "source": [
    "# 한 카테고리안에 책이 5권 미만인 경우 제거\n",
    "counts=book_filter_df[\"Category\"].value_counts()\n",
    "categories = counts[counts > 5].index\n",
    "book_filter_df = book_filter_df[book_filter_df['Category'].isin(categories)]\n",
    "\n",
    "idx=book_filter_df[book_filter_df[\"Summary\"]=='9'].index\n",
    "book_filter_df.drop(idx,axis=0,inplace=True)\n"
   ],
   "id": "d73bd39992e21700",
   "outputs": [],
   "execution_count": 341
  },
  {
   "metadata": {
    "ExecuteTime": {
     "end_time": "2024-11-07T05:43:50.884372Z",
     "start_time": "2024-11-07T05:43:50.872226Z"
    }
   },
   "cell_type": "code",
   "source": [
    "# book_title에 Summary가 두개 이상인 것들이 있어서 첫번쨰 요약 하나만 남겨두고 나머지 제거\n",
    "# 중복 개수 확인\n",
    "# Summary 열에서 중복된 값 중 첫 번째만 남기고 나머지 제거\n",
    "book_filter_df = book_filter_df.drop_duplicates(subset='Summary', keep='first')\n",
    "\n",
    "# book_title 열에서 중복된 값 중 첫 번째만 남기고 나머지 제거\n",
    "book_filter_df = book_filter_df.drop_duplicates(subset='book_title', keep='first')\n",
    "\n",
    "duplicate_count = book_filter_df['Summary'].duplicated().sum()\n",
    "print(f\"남은 중복된 Summary 개수: {duplicate_count}\")\n",
    "# 책마다 중복되는 써머리 제거\n",
    "book_filter_df = book_filter_df.drop_duplicates(subset=['book_title', 'Summary'], keep='first')"
   ],
   "id": "8491723ef66d7d8b",
   "outputs": [
    {
     "name": "stdout",
     "output_type": "stream",
     "text": [
      "남은 중복된 Summary 개수: 0\n"
     ]
    }
   ],
   "execution_count": 362
  },
  {
   "metadata": {
    "ExecuteTime": {
     "end_time": "2024-11-07T05:44:04.882042Z",
     "start_time": "2024-11-07T05:44:04.870226Z"
    }
   },
   "cell_type": "code",
   "source": [
    "# 중복확인\n",
    "duplicate_check = book_filter_df.duplicated(subset=['book_title', 'Summary']).sum()\n",
    "print(f'중복확인:{duplicate_check}')\n",
    "\n",
    "book_filter_df[['book_title', 'Summary']]  # 3412로 동일하게 됨\n",
    "unique_book_count = book_filter_df['book_title'].nunique()  # 3450\n",
    "print(unique_book_count)\n",
    "\n",
    "unique_summary_count = book_filter_df['Summary'].nunique()  # 4781\n",
    "print(unique_summary_count)"
   ],
   "id": "b4c9fa8ee1a38e01",
   "outputs": [
    {
     "name": "stdout",
     "output_type": "stream",
     "text": [
      "중복확인:0\n",
      "3412\n",
      "3412\n"
     ]
    }
   ],
   "execution_count": 364
  },
  {
   "metadata": {
    "ExecuteTime": {
     "end_time": "2024-11-07T05:44:02.279429Z",
     "start_time": "2024-11-07T05:44:02.267831Z"
    }
   },
   "cell_type": "code",
   "source": [
    "duplicate_summary = book_filter_df.groupby('book_title')['Summary'].nunique()\n",
    "duplicate_summary"
   ],
   "id": "1c3e1b6ad39ceea5",
   "outputs": [
    {
     "data": {
      "text/plain": [
       "book_title\n",
       "'salem's lot                                                         1\n",
       "10 lb. penalty                                                       1\n",
       "101 dalmatians                                                       1\n",
       "16 lighthouse road                                                   1\n",
       "1984                                                                 1\n",
       "                                                                    ..\n",
       "zen and the art of motorcycle maintenance: an inquiry into values    1\n",
       "zia                                                                  1\n",
       "zlata's diary: a child's life in sarajevo                            1\n",
       "zodiac: the eco-thriller                                             1\n",
       "zoya                                                                 1\n",
       "Name: Summary, Length: 3412, dtype: int64"
      ]
     },
     "execution_count": 363,
     "metadata": {},
     "output_type": "execute_result"
    }
   ],
   "execution_count": 363
  },
  {
   "metadata": {
    "ExecuteTime": {
     "end_time": "2024-11-07T05:43:32.224422Z",
     "start_time": "2024-11-07T05:43:32.219422Z"
    }
   },
   "cell_type": "code",
   "source": [
    "book_filter_df.shape\n",
    "print(len(book_filter_df['book_title'].unique()))"
   ],
   "id": "4bd0adfe2ac5256",
   "outputs": [
    {
     "name": "stdout",
     "output_type": "stream",
     "text": [
      "3412\n"
     ]
    }
   ],
   "execution_count": 359
  },
  {
   "metadata": {
    "ExecuteTime": {
     "end_time": "2024-11-07T05:40:59.562153Z",
     "start_time": "2024-11-07T05:40:59.555537Z"
    }
   },
   "cell_type": "code",
   "source": "user_book_df.iloc[55].sort_values(ascending=False)[:10]",
   "id": "2164c5885be35974",
   "outputs": [
    {
     "data": {
      "text/plain": [
       "book_title\n",
       "Christine                                8\n",
       "Cujo                                     6\n",
       "'Salem's Lot                             0\n",
       "Table For Two                            0\n",
       "Swan Song                                0\n",
       "Sweet Anger                              0\n",
       "Sweet Hereafter Movie Tie-In : A Novel   0\n",
       "Sweet Liar                               0\n",
       "Sweet Revenge                            0\n",
       "Swimming to Catalina                     0\n",
       "Name: 4334, dtype: float64"
      ]
     },
     "execution_count": 343,
     "metadata": {},
     "output_type": "execute_result"
    }
   ],
   "execution_count": 343
  },
  {
   "metadata": {},
   "cell_type": "markdown",
   "source": [
    "## - summary TfidfVectorizer\n",
    "카테고리로 장르를 분류할 수 없기 때문에, 책의 Summary를 이용해 유사한 장르를 구분"
   ],
   "id": "4182197e2b64142a"
  },
  {
   "metadata": {},
   "cell_type": "markdown",
   "source": "",
   "id": "452bb6019f41938"
  },
  {
   "metadata": {
    "ExecuteTime": {
     "end_time": "2024-11-07T05:41:00.300562Z",
     "start_time": "2024-11-07T05:41:00.156921Z"
    }
   },
   "cell_type": "code",
   "source": [
    "from sklearn.feature_extraction.text import TfidfVectorizer\n",
    "\n",
    "tfidf_vectorizer = TfidfVectorizer(stop_words='english', max_df=0.90, min_df=0.005, ngram_range=(1,2))\n",
    "\n",
    "summary_vecs = tfidf_vectorizer.fit_transform(book_filter_df['Summary'])\n",
    "\n",
    "tfidf_vectorizer.get_feature_names_out()\n",
    "print(summary_vecs.shape) # (3412, 572)\n",
    "\n",
    "summary_vecs_arr=summary_vecs.toarray()\n"
   ],
   "id": "775a677d8b50abe5",
   "outputs": [
    {
     "name": "stdout",
     "output_type": "stream",
     "text": [
      "(3412, 572)\n"
     ]
    }
   ],
   "execution_count": 347
  },
  {
   "metadata": {
    "ExecuteTime": {
     "end_time": "2024-11-07T05:41:00.426406Z",
     "start_time": "2024-11-07T05:41:00.328812Z"
    }
   },
   "cell_type": "code",
   "source": [
    "from sklearn.metrics.pairwise import cosine_similarity\n",
    "\n",
    "sum_sim= cosine_similarity(summary_vecs_arr, summary_vecs_arr)  # batch 차원의 배열들의 유사도 계산\n",
    "print(sum_sim.shape)  # (3412, 3412)\n",
    "sum_sim_df=pd.DataFrame(sum_sim)\n",
    "sum_sim_df.loc[:,:5]"
   ],
   "id": "57d4f752f7048ed2",
   "outputs": [
    {
     "name": "stdout",
     "output_type": "stream",
     "text": [
      "(3412, 3412)\n"
     ]
    },
    {
     "data": {
      "text/plain": [
       "      0  1  2  3  4  5\n",
       "0     1  0  0  0  0  0\n",
       "1     0  1  0  0  0  0\n",
       "2     0  0  1  0  0  0\n",
       "3     0  0  0  1  0  0\n",
       "4     0  0  0  0  1  0\n",
       "...  .. .. .. .. .. ..\n",
       "3407  0  0  0  0  0  0\n",
       "3408  0  0  0  0  0  0\n",
       "3409  0  0  0  0  0  0\n",
       "3410  0  0  0  0  0  0\n",
       "3411  0  0  0  0  0  0\n",
       "\n",
       "[3412 rows x 6 columns]"
      ],
      "text/html": [
       "<div>\n",
       "<style scoped>\n",
       "    .dataframe tbody tr th:only-of-type {\n",
       "        vertical-align: middle;\n",
       "    }\n",
       "\n",
       "    .dataframe tbody tr th {\n",
       "        vertical-align: top;\n",
       "    }\n",
       "\n",
       "    .dataframe thead th {\n",
       "        text-align: right;\n",
       "    }\n",
       "</style>\n",
       "<table border=\"1\" class=\"dataframe\">\n",
       "  <thead>\n",
       "    <tr style=\"text-align: right;\">\n",
       "      <th></th>\n",
       "      <th>0</th>\n",
       "      <th>1</th>\n",
       "      <th>2</th>\n",
       "      <th>3</th>\n",
       "      <th>4</th>\n",
       "      <th>5</th>\n",
       "    </tr>\n",
       "  </thead>\n",
       "  <tbody>\n",
       "    <tr>\n",
       "      <th>0</th>\n",
       "      <td>1</td>\n",
       "      <td>0</td>\n",
       "      <td>0</td>\n",
       "      <td>0</td>\n",
       "      <td>0</td>\n",
       "      <td>0</td>\n",
       "    </tr>\n",
       "    <tr>\n",
       "      <th>1</th>\n",
       "      <td>0</td>\n",
       "      <td>1</td>\n",
       "      <td>0</td>\n",
       "      <td>0</td>\n",
       "      <td>0</td>\n",
       "      <td>0</td>\n",
       "    </tr>\n",
       "    <tr>\n",
       "      <th>2</th>\n",
       "      <td>0</td>\n",
       "      <td>0</td>\n",
       "      <td>1</td>\n",
       "      <td>0</td>\n",
       "      <td>0</td>\n",
       "      <td>0</td>\n",
       "    </tr>\n",
       "    <tr>\n",
       "      <th>3</th>\n",
       "      <td>0</td>\n",
       "      <td>0</td>\n",
       "      <td>0</td>\n",
       "      <td>1</td>\n",
       "      <td>0</td>\n",
       "      <td>0</td>\n",
       "    </tr>\n",
       "    <tr>\n",
       "      <th>4</th>\n",
       "      <td>0</td>\n",
       "      <td>0</td>\n",
       "      <td>0</td>\n",
       "      <td>0</td>\n",
       "      <td>1</td>\n",
       "      <td>0</td>\n",
       "    </tr>\n",
       "    <tr>\n",
       "      <th>...</th>\n",
       "      <td>...</td>\n",
       "      <td>...</td>\n",
       "      <td>...</td>\n",
       "      <td>...</td>\n",
       "      <td>...</td>\n",
       "      <td>...</td>\n",
       "    </tr>\n",
       "    <tr>\n",
       "      <th>3407</th>\n",
       "      <td>0</td>\n",
       "      <td>0</td>\n",
       "      <td>0</td>\n",
       "      <td>0</td>\n",
       "      <td>0</td>\n",
       "      <td>0</td>\n",
       "    </tr>\n",
       "    <tr>\n",
       "      <th>3408</th>\n",
       "      <td>0</td>\n",
       "      <td>0</td>\n",
       "      <td>0</td>\n",
       "      <td>0</td>\n",
       "      <td>0</td>\n",
       "      <td>0</td>\n",
       "    </tr>\n",
       "    <tr>\n",
       "      <th>3409</th>\n",
       "      <td>0</td>\n",
       "      <td>0</td>\n",
       "      <td>0</td>\n",
       "      <td>0</td>\n",
       "      <td>0</td>\n",
       "      <td>0</td>\n",
       "    </tr>\n",
       "    <tr>\n",
       "      <th>3410</th>\n",
       "      <td>0</td>\n",
       "      <td>0</td>\n",
       "      <td>0</td>\n",
       "      <td>0</td>\n",
       "      <td>0</td>\n",
       "      <td>0</td>\n",
       "    </tr>\n",
       "    <tr>\n",
       "      <th>3411</th>\n",
       "      <td>0</td>\n",
       "      <td>0</td>\n",
       "      <td>0</td>\n",
       "      <td>0</td>\n",
       "      <td>0</td>\n",
       "      <td>0</td>\n",
       "    </tr>\n",
       "  </tbody>\n",
       "</table>\n",
       "<p>3412 rows × 6 columns</p>\n",
       "</div>"
      ]
     },
     "execution_count": 348,
     "metadata": {},
     "output_type": "execute_result"
    }
   ],
   "execution_count": 348
  },
  {
   "metadata": {
    "ExecuteTime": {
     "end_time": "2024-11-07T05:41:00.726976Z",
     "start_time": "2024-11-07T05:41:00.478651Z"
    }
   },
   "cell_type": "code",
   "source": [
    "# 써머리 유사도가 높은 책 추출\n",
    "book_index_by_sum_sim = sum_sim.argsort(axis=1)[:, ::-1]\n",
    "# book_index_by_sum_sim[:2] # 유사도가 높은 영화의 인덱스를 표출해줌"
   ],
   "id": "a81380ad3ed110a1",
   "outputs": [],
   "execution_count": 349
  },
  {
   "metadata": {
    "ExecuteTime": {
     "end_time": "2024-11-07T05:41:00.763653Z",
     "start_time": "2024-11-07T05:41:00.753914Z"
    }
   },
   "cell_type": "code",
   "source": [
    "# 100인덱스를 가진 책과 써머리 유사도가 높은 영화 10개 조회\n",
    "book_idx = 100 # 100인덱스 -> 27808번\n",
    "book_filter_df.iloc[book_index_by_sum_sim[book_idx, :10]]"
   ],
   "id": "49db4e29641bcdb2",
   "outputs": [
    {
     "data": {
      "text/plain": [
       "        user_id  age  rating  \\\n",
       "27808     36003   26      10   \n",
       "212886     3719   18       6   \n",
       "684350    48025   43       8   \n",
       "188991    10819   27       7   \n",
       "168124    11993   37       8   \n",
       "584232    28634   28       9   \n",
       "425361    74056   24       8   \n",
       "212598    17950   32      10   \n",
       "329166     7569   22       9   \n",
       "54825      4938   30      10   \n",
       "\n",
       "                                                                       book_title  \\\n",
       "27808                                                                     matilda   \n",
       "212886  name dropping : what if two very different women had the same exact name?   \n",
       "684350                                                         punish the sinners   \n",
       "188991                            a wizard of earthsea (earthsea trilogy, book 1)   \n",
       "168124                                                           the silver chair   \n",
       "584232                                                               the presence   \n",
       "425361                     wayside school gets a little stranger (wayside school)   \n",
       "212598               the austere academy (a series of unfortunate events, book 5)   \n",
       "329166                                           the hangman's beautiful daughter   \n",
       "54825                            the vampire lestat (vampire chronicles, book ii)   \n",
       "\n",
       "              book_author  year_of_publication  \\\n",
       "27808          Roald Dahl                 1998   \n",
       "212886        Jane Heller                 2001   \n",
       "684350          John Saul                 1990   \n",
       "188991  URSULA K. LE GUIN                 1984   \n",
       "168124        C. S. Lewis                 1994   \n",
       "584232          John Saul                 1998   \n",
       "425361       Louis Sachar                 1996   \n",
       "212598     Lemony Snicket                 2000   \n",
       "329166     Sharyn McCrumb                 1993   \n",
       "54825           ANNE RICE                 1986   \n",
       "\n",
       "                                                               img_m  \\\n",
       "27808   http://images.amazon.com/images/P/0141301066.01.MZZZZZZZ.jpg   \n",
       "212886  http://images.amazon.com/images/P/0312978332.01.MZZZZZZZ.jpg   \n",
       "684350  http://images.amazon.com/images/P/0440170842.01.MZZZZZZZ.jpg   \n",
       "188991  http://images.amazon.com/images/P/0553262505.01.MZZZZZZZ.jpg   \n",
       "168124  http://images.amazon.com/images/P/0064471098.01.MZZZZZZZ.jpg   \n",
       "584232  http://images.amazon.com/images/P/0449002411.01.MZZZZZZZ.jpg   \n",
       "425361  http://images.amazon.com/images/P/0380723816.01.MZZZZZZZ.jpg   \n",
       "212598  http://images.amazon.com/images/P/0064408639.01.MZZZZZZZ.jpg   \n",
       "329166  http://images.amazon.com/images/P/0451403703.01.MZZZZZZZ.jpg   \n",
       "54825   http://images.amazon.com/images/P/0345313860.01.MZZZZZZZ.jpg   \n",
       "\n",
       "                                                                                                                                                                                                                                   Summary  \\\n",
       "27808                                             matilda applies her untapped mental powers to rid the school of the\\nevil, child-hating headmistress, miss trunchbull, and restore her nice\\nteacher, miss honey, to financial security.   \n",
       "212886                                                                                                                                                               pre-school teacher nancy stern is in a personal and professional rut.   \n",
       "684350                                             peter balsam, taking up residence as a teacher at the st. francis\\nxavier school, becomes the vehicle for a lingering terror which has\\nclaimed the lives of numerous schoolgirls there   \n",
       "188991                            when sparrowhawk, a young student at the school for wizards, becomes\\noveranxious and tries his dangerous powers too soon, he unleashes a\\nterrible evil throughout the land. nbsp; restore the balance.   \n",
       "168124                                                                                                                                     narnia ... where giants wreak havoc ... where evil weaves a spell ...\\nwhere enchantment rules.   \n",
       "584232                                                         anthropologist katharine sundquist, studying skeletal remains in maui,\\nrealizes that the corporation funding her research is in league with\\nan evil lurking under the sea   \n",
       "425361                                                                                                                                                                                               hooray! wayside school is open again!   \n",
       "212598  as their outrageous misfortune continues, the baudelaire orphans are\\nshipped off to a miserable boarding school, where they befriend the\\ntwo quagmire triplets and find that they have been followed by the\\ndreaded count olaf.   \n",
       "329166                                        summoned to the scene of a ghastly crime in her remote appalachian\\nvillage, laura bruce, the new minister&#39;s wife, realizes the sunday\\nschool teacher&#39;s dark visions have come true   \n",
       "54825                                                                                    when the vampire lestat becomes a rock superstar, he finds himself in\\nserious conflict with the ancients whose powers are beyond his\\nimagining.   \n",
       "\n",
       "                    Category   country Language  \n",
       "27808   ['Juvenile Fiction']  malaysia       en  \n",
       "212886           ['Fiction']       usa       en  \n",
       "684350           ['Fiction']       usa       en  \n",
       "188991           ['Fiction']       usa       en  \n",
       "168124  ['Juvenile Fiction']       usa       en  \n",
       "584232           ['Fiction']       usa       en  \n",
       "425361  ['Juvenile Fiction']       usa       en  \n",
       "212598  ['Juvenile Fiction']  malaysia       en  \n",
       "329166           ['Fiction']       usa       en  \n",
       "54825       ['Horror tales']       usa       en  "
      ],
      "text/html": [
       "<div>\n",
       "<style scoped>\n",
       "    .dataframe tbody tr th:only-of-type {\n",
       "        vertical-align: middle;\n",
       "    }\n",
       "\n",
       "    .dataframe tbody tr th {\n",
       "        vertical-align: top;\n",
       "    }\n",
       "\n",
       "    .dataframe thead th {\n",
       "        text-align: right;\n",
       "    }\n",
       "</style>\n",
       "<table border=\"1\" class=\"dataframe\">\n",
       "  <thead>\n",
       "    <tr style=\"text-align: right;\">\n",
       "      <th></th>\n",
       "      <th>user_id</th>\n",
       "      <th>age</th>\n",
       "      <th>rating</th>\n",
       "      <th>book_title</th>\n",
       "      <th>book_author</th>\n",
       "      <th>year_of_publication</th>\n",
       "      <th>img_m</th>\n",
       "      <th>Summary</th>\n",
       "      <th>Category</th>\n",
       "      <th>country</th>\n",
       "      <th>Language</th>\n",
       "    </tr>\n",
       "  </thead>\n",
       "  <tbody>\n",
       "    <tr>\n",
       "      <th>27808</th>\n",
       "      <td>36003</td>\n",
       "      <td>26</td>\n",
       "      <td>10</td>\n",
       "      <td>matilda</td>\n",
       "      <td>Roald Dahl</td>\n",
       "      <td>1998</td>\n",
       "      <td>http://images.amazon.com/images/P/0141301066.01.MZZZZZZZ.jpg</td>\n",
       "      <td>matilda applies her untapped mental powers to rid the school of the\\nevil, child-hating headmistress, miss trunchbull, and restore her nice\\nteacher, miss honey, to financial security.</td>\n",
       "      <td>['Juvenile Fiction']</td>\n",
       "      <td>malaysia</td>\n",
       "      <td>en</td>\n",
       "    </tr>\n",
       "    <tr>\n",
       "      <th>212886</th>\n",
       "      <td>3719</td>\n",
       "      <td>18</td>\n",
       "      <td>6</td>\n",
       "      <td>name dropping : what if two very different women had the same exact name?</td>\n",
       "      <td>Jane Heller</td>\n",
       "      <td>2001</td>\n",
       "      <td>http://images.amazon.com/images/P/0312978332.01.MZZZZZZZ.jpg</td>\n",
       "      <td>pre-school teacher nancy stern is in a personal and professional rut.</td>\n",
       "      <td>['Fiction']</td>\n",
       "      <td>usa</td>\n",
       "      <td>en</td>\n",
       "    </tr>\n",
       "    <tr>\n",
       "      <th>684350</th>\n",
       "      <td>48025</td>\n",
       "      <td>43</td>\n",
       "      <td>8</td>\n",
       "      <td>punish the sinners</td>\n",
       "      <td>John Saul</td>\n",
       "      <td>1990</td>\n",
       "      <td>http://images.amazon.com/images/P/0440170842.01.MZZZZZZZ.jpg</td>\n",
       "      <td>peter balsam, taking up residence as a teacher at the st. francis\\nxavier school, becomes the vehicle for a lingering terror which has\\nclaimed the lives of numerous schoolgirls there</td>\n",
       "      <td>['Fiction']</td>\n",
       "      <td>usa</td>\n",
       "      <td>en</td>\n",
       "    </tr>\n",
       "    <tr>\n",
       "      <th>188991</th>\n",
       "      <td>10819</td>\n",
       "      <td>27</td>\n",
       "      <td>7</td>\n",
       "      <td>a wizard of earthsea (earthsea trilogy, book 1)</td>\n",
       "      <td>URSULA K. LE GUIN</td>\n",
       "      <td>1984</td>\n",
       "      <td>http://images.amazon.com/images/P/0553262505.01.MZZZZZZZ.jpg</td>\n",
       "      <td>when sparrowhawk, a young student at the school for wizards, becomes\\noveranxious and tries his dangerous powers too soon, he unleashes a\\nterrible evil throughout the land. nbsp; restore the balance.</td>\n",
       "      <td>['Fiction']</td>\n",
       "      <td>usa</td>\n",
       "      <td>en</td>\n",
       "    </tr>\n",
       "    <tr>\n",
       "      <th>168124</th>\n",
       "      <td>11993</td>\n",
       "      <td>37</td>\n",
       "      <td>8</td>\n",
       "      <td>the silver chair</td>\n",
       "      <td>C. S. Lewis</td>\n",
       "      <td>1994</td>\n",
       "      <td>http://images.amazon.com/images/P/0064471098.01.MZZZZZZZ.jpg</td>\n",
       "      <td>narnia ... where giants wreak havoc ... where evil weaves a spell ...\\nwhere enchantment rules.</td>\n",
       "      <td>['Juvenile Fiction']</td>\n",
       "      <td>usa</td>\n",
       "      <td>en</td>\n",
       "    </tr>\n",
       "    <tr>\n",
       "      <th>584232</th>\n",
       "      <td>28634</td>\n",
       "      <td>28</td>\n",
       "      <td>9</td>\n",
       "      <td>the presence</td>\n",
       "      <td>John Saul</td>\n",
       "      <td>1998</td>\n",
       "      <td>http://images.amazon.com/images/P/0449002411.01.MZZZZZZZ.jpg</td>\n",
       "      <td>anthropologist katharine sundquist, studying skeletal remains in maui,\\nrealizes that the corporation funding her research is in league with\\nan evil lurking under the sea</td>\n",
       "      <td>['Fiction']</td>\n",
       "      <td>usa</td>\n",
       "      <td>en</td>\n",
       "    </tr>\n",
       "    <tr>\n",
       "      <th>425361</th>\n",
       "      <td>74056</td>\n",
       "      <td>24</td>\n",
       "      <td>8</td>\n",
       "      <td>wayside school gets a little stranger (wayside school)</td>\n",
       "      <td>Louis Sachar</td>\n",
       "      <td>1996</td>\n",
       "      <td>http://images.amazon.com/images/P/0380723816.01.MZZZZZZZ.jpg</td>\n",
       "      <td>hooray! wayside school is open again!</td>\n",
       "      <td>['Juvenile Fiction']</td>\n",
       "      <td>usa</td>\n",
       "      <td>en</td>\n",
       "    </tr>\n",
       "    <tr>\n",
       "      <th>212598</th>\n",
       "      <td>17950</td>\n",
       "      <td>32</td>\n",
       "      <td>10</td>\n",
       "      <td>the austere academy (a series of unfortunate events, book 5)</td>\n",
       "      <td>Lemony Snicket</td>\n",
       "      <td>2000</td>\n",
       "      <td>http://images.amazon.com/images/P/0064408639.01.MZZZZZZZ.jpg</td>\n",
       "      <td>as their outrageous misfortune continues, the baudelaire orphans are\\nshipped off to a miserable boarding school, where they befriend the\\ntwo quagmire triplets and find that they have been followed by the\\ndreaded count olaf.</td>\n",
       "      <td>['Juvenile Fiction']</td>\n",
       "      <td>malaysia</td>\n",
       "      <td>en</td>\n",
       "    </tr>\n",
       "    <tr>\n",
       "      <th>329166</th>\n",
       "      <td>7569</td>\n",
       "      <td>22</td>\n",
       "      <td>9</td>\n",
       "      <td>the hangman's beautiful daughter</td>\n",
       "      <td>Sharyn McCrumb</td>\n",
       "      <td>1993</td>\n",
       "      <td>http://images.amazon.com/images/P/0451403703.01.MZZZZZZZ.jpg</td>\n",
       "      <td>summoned to the scene of a ghastly crime in her remote appalachian\\nvillage, laura bruce, the new minister&amp;#39;s wife, realizes the sunday\\nschool teacher&amp;#39;s dark visions have come true</td>\n",
       "      <td>['Fiction']</td>\n",
       "      <td>usa</td>\n",
       "      <td>en</td>\n",
       "    </tr>\n",
       "    <tr>\n",
       "      <th>54825</th>\n",
       "      <td>4938</td>\n",
       "      <td>30</td>\n",
       "      <td>10</td>\n",
       "      <td>the vampire lestat (vampire chronicles, book ii)</td>\n",
       "      <td>ANNE RICE</td>\n",
       "      <td>1986</td>\n",
       "      <td>http://images.amazon.com/images/P/0345313860.01.MZZZZZZZ.jpg</td>\n",
       "      <td>when the vampire lestat becomes a rock superstar, he finds himself in\\nserious conflict with the ancients whose powers are beyond his\\nimagining.</td>\n",
       "      <td>['Horror tales']</td>\n",
       "      <td>usa</td>\n",
       "      <td>en</td>\n",
       "    </tr>\n",
       "  </tbody>\n",
       "</table>\n",
       "</div>"
      ]
     },
     "execution_count": 350,
     "metadata": {},
     "output_type": "execute_result"
    }
   ],
   "execution_count": 350
  },
  {
   "metadata": {
    "ExecuteTime": {
     "end_time": "2024-11-07T05:41:00.805711Z",
     "start_time": "2024-11-07T05:41:00.799267Z"
    }
   },
   "cell_type": "code",
   "source": "book_filter_df.iloc[book_idx]",
   "id": "78880be6770f695a",
   "outputs": [
    {
     "data": {
      "text/plain": [
       "user_id                                                                                                                                                                                                   36003\n",
       "age                                                                                                                                                                                                          26\n",
       "rating                                                                                                                                                                                                       10\n",
       "book_title                                                                                                                                                                                              matilda\n",
       "book_author                                                                                                                                                                                          Roald Dahl\n",
       "year_of_publication                                                                                                                                                                                        1998\n",
       "img_m                                                                                                                                              http://images.amazon.com/images/P/0141301066.01.MZZZZZZZ.jpg\n",
       "Summary                matilda applies her untapped mental powers to rid the school of the\\nevil, child-hating headmistress, miss trunchbull, and restore her nice\\nteacher, miss honey, to financial security.\n",
       "Category                                                                                                                                                                                   ['Juvenile Fiction']\n",
       "country                                                                                                                                                                                                malaysia\n",
       "Language                                                                                                                                                                                                     en\n",
       "Name: 27808, dtype: object"
      ]
     },
     "execution_count": 351,
     "metadata": {},
     "output_type": "execute_result"
    }
   ],
   "execution_count": 351
  },
  {
   "metadata": {
    "ExecuteTime": {
     "end_time": "2024-11-07T05:41:00.898039Z",
     "start_time": "2024-11-07T05:41:00.873722Z"
    }
   },
   "cell_type": "code",
   "source": [
    "# 특정 책과 써머리 유사도가 높은 책을 추천하는 함수\n",
    "def recommend_book_by_summary(book_title, topn=8):\n",
    "    book = book_filter_df[book_filter_df['book_title'] == book_title]\n",
    "    if book.empty:\n",
    "        return '해당 책을 찾을 수 없습니다.'\n",
    "    book_idx = book.index\n",
    "    \n",
    "    # 유사도가 높은 순으로 정리된 영화 인덱스 행렬에서 해당 영화 행을 조회\n",
    "    topn_book_idx = book_index_by_sum_sim[book_idx, :topn]\n",
    "    topn_book_idx = topn_book_idx.reshape(-1)\n",
    "    \n",
    "    return book_filter_df.iloc[topn_book_idx]\n",
    "\n",
    "recommend_book_by_summary('matilda')"
   ],
   "id": "7d20ab88198986a9",
   "outputs": [
    {
     "ename": "IndexError",
     "evalue": "index 27808 is out of bounds for axis 0 with size 3412",
     "output_type": "error",
     "traceback": [
      "\u001B[1;31m---------------------------------------------------------------------------\u001B[0m",
      "\u001B[1;31mIndexError\u001B[0m                                Traceback (most recent call last)",
      "Cell \u001B[1;32mIn[352], line 14\u001B[0m\n\u001B[0;32m     10\u001B[0m     topn_book_idx \u001B[38;5;241m=\u001B[39m topn_book_idx\u001B[38;5;241m.\u001B[39mreshape(\u001B[38;5;241m-\u001B[39m\u001B[38;5;241m1\u001B[39m)\n\u001B[0;32m     12\u001B[0m     \u001B[38;5;28;01mreturn\u001B[39;00m book_filter_df\u001B[38;5;241m.\u001B[39miloc[topn_book_idx]\n\u001B[1;32m---> 14\u001B[0m \u001B[43mrecommend_book_by_summary\u001B[49m\u001B[43m(\u001B[49m\u001B[38;5;124;43m'\u001B[39;49m\u001B[38;5;124;43mmatilda\u001B[39;49m\u001B[38;5;124;43m'\u001B[39;49m\u001B[43m)\u001B[49m\n",
      "Cell \u001B[1;32mIn[352], line 9\u001B[0m, in \u001B[0;36mrecommend_book_by_summary\u001B[1;34m(book_title, topn)\u001B[0m\n\u001B[0;32m      6\u001B[0m book_idx \u001B[38;5;241m=\u001B[39m book\u001B[38;5;241m.\u001B[39mindex\n\u001B[0;32m      8\u001B[0m \u001B[38;5;66;03m# 유사도가 높은 순으로 정리된 영화 인덱스 행렬에서 해당 영화 행을 조회\u001B[39;00m\n\u001B[1;32m----> 9\u001B[0m topn_book_idx \u001B[38;5;241m=\u001B[39m \u001B[43mbook_index_by_sum_sim\u001B[49m\u001B[43m[\u001B[49m\u001B[43mbook_idx\u001B[49m\u001B[43m,\u001B[49m\u001B[43m \u001B[49m\u001B[43m:\u001B[49m\u001B[43mtopn\u001B[49m\u001B[43m]\u001B[49m\n\u001B[0;32m     10\u001B[0m topn_book_idx \u001B[38;5;241m=\u001B[39m topn_book_idx\u001B[38;5;241m.\u001B[39mreshape(\u001B[38;5;241m-\u001B[39m\u001B[38;5;241m1\u001B[39m)\n\u001B[0;32m     12\u001B[0m \u001B[38;5;28;01mreturn\u001B[39;00m book_filter_df\u001B[38;5;241m.\u001B[39miloc[topn_book_idx]\n",
      "\u001B[1;31mIndexError\u001B[0m: index 27808 is out of bounds for axis 0 with size 3412"
     ]
    }
   ],
   "execution_count": 352
  },
  {
   "metadata": {},
   "cell_type": "code",
   "outputs": [],
   "execution_count": null,
   "source": "",
   "id": "b30c615e947aabcc"
  },
  {
   "metadata": {},
   "cell_type": "code",
   "outputs": [],
   "execution_count": null,
   "source": "",
   "id": "ce9e9f54015a3e71"
  },
  {
   "metadata": {},
   "cell_type": "code",
   "outputs": [],
   "execution_count": null,
   "source": "",
   "id": "49b95a535d877dc4"
  },
  {
   "metadata": {},
   "cell_type": "code",
   "outputs": [],
   "execution_count": null,
   "source": "",
   "id": "8f04ec0a66f167a"
  },
  {
   "metadata": {
    "ExecuteTime": {
     "end_time": "2024-11-07T05:41:00.968290Z",
     "start_time": "2024-11-07T05:30:18.294055Z"
    }
   },
   "cell_type": "code",
   "source": [
    "\n",
    "from sklearn.cluster import KMeans\n",
    "\n",
    "kmeans = KMeans(n_clusters=12, max_iter=5000, random_state=0)\n",
    "summary_label = kmeans.fit_predict(summary_vecs)\n",
    "book_filter_df['cluster'] = summary_label\n",
    "book_filter_df"
   ],
   "id": "7a4fbfdcff42c452",
   "outputs": [
    {
     "data": {
      "text/plain": [
       "         user_id  age  rating  \\\n",
       "31         11676   34       9   \n",
       "106         7346   49       9   \n",
       "521         3373   30      10   \n",
       "722        11676   34      10   \n",
       "781         1435   36       5   \n",
       "...          ...  ...     ...   \n",
       "994872    221557   30       3   \n",
       "997073    225078   46       7   \n",
       "1023785   271705   25       7   \n",
       "1024224   265115   34       8   \n",
       "1027926   273197   55       8   \n",
       "\n",
       "                                                            book_title  \\\n",
       "31                                              the kitchen god's wife   \n",
       "106                                                      the testament   \n",
       "521                               beloved (plume contemporary fiction)   \n",
       "722      new vegetarian: bold and beautiful recipes for every occasion   \n",
       "781                                                        wild animus   \n",
       "...                                                                ...   \n",
       "994872                                             blessings : a novel   \n",
       "997073       the vile village (a series of unfortunate events, book 7)   \n",
       "1023785                                           the fall of atlantis   \n",
       "1024224                                          the letter of the law   \n",
       "1027926                                                         island   \n",
       "\n",
       "                   book_author  year_of_publication  \\\n",
       "31                     Amy Tan                 1991   \n",
       "106               John Grisham                 1999   \n",
       "521              Toni Morrison                 1994   \n",
       "722         Celia Brooks Brown                 2001   \n",
       "781               Rich Shapero                 2004   \n",
       "...                        ...                  ...   \n",
       "994872        Sheneska Jackson                 1998   \n",
       "997073          Lemony Snicket                 2001   \n",
       "1023785  Marion Zimmer Bradley                 2003   \n",
       "1024224           Carole Berry                 1990   \n",
       "1027926           Thomas Perry                 1989   \n",
       "\n",
       "                                                                img_m  \\\n",
       "31       http://images.amazon.com/images/P/0399135782.01.MZZZZZZZ.jpg   \n",
       "106      http://images.amazon.com/images/P/0440234743.01.MZZZZZZZ.jpg   \n",
       "521      http://images.amazon.com/images/P/0452264464.01.MZZZZZZZ.jpg   \n",
       "722      http://images.amazon.com/images/P/1841721522.01.MZZZZZZZ.jpg   \n",
       "781      http://images.amazon.com/images/P/0971880107.01.MZZZZZZZ.jpg   \n",
       "...                                                               ...   \n",
       "994872   http://images.amazon.com/images/P/0684850354.01.MZZZZZZZ.jpg   \n",
       "997073   http://images.amazon.com/images/P/0060288906.01.MZZZZZZZ.jpg   \n",
       "1023785  http://images.amazon.com/images/P/0743471571.01.MZZZZZZZ.jpg   \n",
       "1024224  http://images.amazon.com/images/P/0440205247.01.MZZZZZZZ.jpg   \n",
       "1027926  http://images.amazon.com/images/P/0380706636.01.MZZZZZZZ.jpg   \n",
       "\n",
       "                                                                                                                                                                                                                                              Summary  \\\n",
       "31                                       a chinese immigrant who is convinced she is dying threatens to\\ncelebrate the chinese new year by unburdening herself of\\neverybody&#39;s hidden truths, thus prompting a series of comic\\nmisunderstandings   \n",
       "106                                             a suicidal billionaire, a burnt-out washington litigator, and a woman\\nwho has forsaken technology to work in the wilds of brazil are all\\nbrought together by an astounding mystery of the testament   \n",
       "521                                                                                                 staring unflinchingly into the abyss of slavery, this novel transforms\\nhistory into a story as powerful as exodus and as intimate as a\\nlullaby.   \n",
       "722                                                                                                                                                      in new vegetarian celia brooks brown presents an innovative approach\\nto vegetarian cooking.   \n",
       "781                                                                                                                                     wild animus is a search for the primordial, a test of human\\nfoundations and a journey to the breaking point.   \n",
       "...                                                                                                                                                                                                                                               ...   \n",
       "994872   four women--patricia, zuma, faye, and sandy--search for happiness in\\ntheir daily lives as they struggle with such difficult issues as\\nadoption, infertility, abortion, child discipline, and female bonding.\\n60,000 first printing. tour.   \n",
       "997073                                                           under a new government program based on the saying &quot;it takes a\\nvillage to raise a child,&quot; the baudelaire orphans are adopted by\\nan entire town, with disastrous results.   \n",
       "1023785                                                                                                                                                                                                                                      fantasy.   \n",
       "1024224                                                                                                      when a senior partner of a manhattan law firm is found murdered,\\nbonnie indermill, the office manager, acts as a liason with the police   \n",
       "1027926                                                                                a husband-and-wife con team, a soldier of fortune, and others become\\ninvolved in a dangerous money-making scheme when they take over a tiny\\ncaribbean island   \n",
       "\n",
       "                     Category country Language  cluster  \n",
       "31                ['Fiction']     NaN       en        1  \n",
       "106               ['Fiction']     usa       en        4  \n",
       "521               ['Fiction']     usa       en        3  \n",
       "722               ['Cooking']     NaN       en        1  \n",
       "781               ['Fiction']     usa       en        4  \n",
       "...                       ...     ...      ...      ...  \n",
       "994872            ['Fiction']     NaN       en        4  \n",
       "997073   ['Juvenile Fiction']     usa       en        9  \n",
       "1023785           ['Fiction']     usa       en        4  \n",
       "1024224           ['Fiction']     usa       en        4  \n",
       "1027926           ['Fiction']     usa       en        4  \n",
       "\n",
       "[3412 rows x 12 columns]"
      ],
      "text/html": [
       "<div>\n",
       "<style scoped>\n",
       "    .dataframe tbody tr th:only-of-type {\n",
       "        vertical-align: middle;\n",
       "    }\n",
       "\n",
       "    .dataframe tbody tr th {\n",
       "        vertical-align: top;\n",
       "    }\n",
       "\n",
       "    .dataframe thead th {\n",
       "        text-align: right;\n",
       "    }\n",
       "</style>\n",
       "<table border=\"1\" class=\"dataframe\">\n",
       "  <thead>\n",
       "    <tr style=\"text-align: right;\">\n",
       "      <th></th>\n",
       "      <th>user_id</th>\n",
       "      <th>age</th>\n",
       "      <th>rating</th>\n",
       "      <th>book_title</th>\n",
       "      <th>book_author</th>\n",
       "      <th>year_of_publication</th>\n",
       "      <th>img_m</th>\n",
       "      <th>Summary</th>\n",
       "      <th>Category</th>\n",
       "      <th>country</th>\n",
       "      <th>Language</th>\n",
       "      <th>cluster</th>\n",
       "    </tr>\n",
       "  </thead>\n",
       "  <tbody>\n",
       "    <tr>\n",
       "      <th>31</th>\n",
       "      <td>11676</td>\n",
       "      <td>34</td>\n",
       "      <td>9</td>\n",
       "      <td>the kitchen god's wife</td>\n",
       "      <td>Amy Tan</td>\n",
       "      <td>1991</td>\n",
       "      <td>http://images.amazon.com/images/P/0399135782.01.MZZZZZZZ.jpg</td>\n",
       "      <td>a chinese immigrant who is convinced she is dying threatens to\\ncelebrate the chinese new year by unburdening herself of\\neverybody&amp;#39;s hidden truths, thus prompting a series of comic\\nmisunderstandings</td>\n",
       "      <td>['Fiction']</td>\n",
       "      <td>NaN</td>\n",
       "      <td>en</td>\n",
       "      <td>1</td>\n",
       "    </tr>\n",
       "    <tr>\n",
       "      <th>106</th>\n",
       "      <td>7346</td>\n",
       "      <td>49</td>\n",
       "      <td>9</td>\n",
       "      <td>the testament</td>\n",
       "      <td>John Grisham</td>\n",
       "      <td>1999</td>\n",
       "      <td>http://images.amazon.com/images/P/0440234743.01.MZZZZZZZ.jpg</td>\n",
       "      <td>a suicidal billionaire, a burnt-out washington litigator, and a woman\\nwho has forsaken technology to work in the wilds of brazil are all\\nbrought together by an astounding mystery of the testament</td>\n",
       "      <td>['Fiction']</td>\n",
       "      <td>usa</td>\n",
       "      <td>en</td>\n",
       "      <td>4</td>\n",
       "    </tr>\n",
       "    <tr>\n",
       "      <th>521</th>\n",
       "      <td>3373</td>\n",
       "      <td>30</td>\n",
       "      <td>10</td>\n",
       "      <td>beloved (plume contemporary fiction)</td>\n",
       "      <td>Toni Morrison</td>\n",
       "      <td>1994</td>\n",
       "      <td>http://images.amazon.com/images/P/0452264464.01.MZZZZZZZ.jpg</td>\n",
       "      <td>staring unflinchingly into the abyss of slavery, this novel transforms\\nhistory into a story as powerful as exodus and as intimate as a\\nlullaby.</td>\n",
       "      <td>['Fiction']</td>\n",
       "      <td>usa</td>\n",
       "      <td>en</td>\n",
       "      <td>3</td>\n",
       "    </tr>\n",
       "    <tr>\n",
       "      <th>722</th>\n",
       "      <td>11676</td>\n",
       "      <td>34</td>\n",
       "      <td>10</td>\n",
       "      <td>new vegetarian: bold and beautiful recipes for every occasion</td>\n",
       "      <td>Celia Brooks Brown</td>\n",
       "      <td>2001</td>\n",
       "      <td>http://images.amazon.com/images/P/1841721522.01.MZZZZZZZ.jpg</td>\n",
       "      <td>in new vegetarian celia brooks brown presents an innovative approach\\nto vegetarian cooking.</td>\n",
       "      <td>['Cooking']</td>\n",
       "      <td>NaN</td>\n",
       "      <td>en</td>\n",
       "      <td>1</td>\n",
       "    </tr>\n",
       "    <tr>\n",
       "      <th>781</th>\n",
       "      <td>1435</td>\n",
       "      <td>36</td>\n",
       "      <td>5</td>\n",
       "      <td>wild animus</td>\n",
       "      <td>Rich Shapero</td>\n",
       "      <td>2004</td>\n",
       "      <td>http://images.amazon.com/images/P/0971880107.01.MZZZZZZZ.jpg</td>\n",
       "      <td>wild animus is a search for the primordial, a test of human\\nfoundations and a journey to the breaking point.</td>\n",
       "      <td>['Fiction']</td>\n",
       "      <td>usa</td>\n",
       "      <td>en</td>\n",
       "      <td>4</td>\n",
       "    </tr>\n",
       "    <tr>\n",
       "      <th>...</th>\n",
       "      <td>...</td>\n",
       "      <td>...</td>\n",
       "      <td>...</td>\n",
       "      <td>...</td>\n",
       "      <td>...</td>\n",
       "      <td>...</td>\n",
       "      <td>...</td>\n",
       "      <td>...</td>\n",
       "      <td>...</td>\n",
       "      <td>...</td>\n",
       "      <td>...</td>\n",
       "      <td>...</td>\n",
       "    </tr>\n",
       "    <tr>\n",
       "      <th>994872</th>\n",
       "      <td>221557</td>\n",
       "      <td>30</td>\n",
       "      <td>3</td>\n",
       "      <td>blessings : a novel</td>\n",
       "      <td>Sheneska Jackson</td>\n",
       "      <td>1998</td>\n",
       "      <td>http://images.amazon.com/images/P/0684850354.01.MZZZZZZZ.jpg</td>\n",
       "      <td>four women--patricia, zuma, faye, and sandy--search for happiness in\\ntheir daily lives as they struggle with such difficult issues as\\nadoption, infertility, abortion, child discipline, and female bonding.\\n60,000 first printing. tour.</td>\n",
       "      <td>['Fiction']</td>\n",
       "      <td>NaN</td>\n",
       "      <td>en</td>\n",
       "      <td>4</td>\n",
       "    </tr>\n",
       "    <tr>\n",
       "      <th>997073</th>\n",
       "      <td>225078</td>\n",
       "      <td>46</td>\n",
       "      <td>7</td>\n",
       "      <td>the vile village (a series of unfortunate events, book 7)</td>\n",
       "      <td>Lemony Snicket</td>\n",
       "      <td>2001</td>\n",
       "      <td>http://images.amazon.com/images/P/0060288906.01.MZZZZZZZ.jpg</td>\n",
       "      <td>under a new government program based on the saying &amp;quot;it takes a\\nvillage to raise a child,&amp;quot; the baudelaire orphans are adopted by\\nan entire town, with disastrous results.</td>\n",
       "      <td>['Juvenile Fiction']</td>\n",
       "      <td>usa</td>\n",
       "      <td>en</td>\n",
       "      <td>9</td>\n",
       "    </tr>\n",
       "    <tr>\n",
       "      <th>1023785</th>\n",
       "      <td>271705</td>\n",
       "      <td>25</td>\n",
       "      <td>7</td>\n",
       "      <td>the fall of atlantis</td>\n",
       "      <td>Marion Zimmer Bradley</td>\n",
       "      <td>2003</td>\n",
       "      <td>http://images.amazon.com/images/P/0743471571.01.MZZZZZZZ.jpg</td>\n",
       "      <td>fantasy.</td>\n",
       "      <td>['Fiction']</td>\n",
       "      <td>usa</td>\n",
       "      <td>en</td>\n",
       "      <td>4</td>\n",
       "    </tr>\n",
       "    <tr>\n",
       "      <th>1024224</th>\n",
       "      <td>265115</td>\n",
       "      <td>34</td>\n",
       "      <td>8</td>\n",
       "      <td>the letter of the law</td>\n",
       "      <td>Carole Berry</td>\n",
       "      <td>1990</td>\n",
       "      <td>http://images.amazon.com/images/P/0440205247.01.MZZZZZZZ.jpg</td>\n",
       "      <td>when a senior partner of a manhattan law firm is found murdered,\\nbonnie indermill, the office manager, acts as a liason with the police</td>\n",
       "      <td>['Fiction']</td>\n",
       "      <td>usa</td>\n",
       "      <td>en</td>\n",
       "      <td>4</td>\n",
       "    </tr>\n",
       "    <tr>\n",
       "      <th>1027926</th>\n",
       "      <td>273197</td>\n",
       "      <td>55</td>\n",
       "      <td>8</td>\n",
       "      <td>island</td>\n",
       "      <td>Thomas Perry</td>\n",
       "      <td>1989</td>\n",
       "      <td>http://images.amazon.com/images/P/0380706636.01.MZZZZZZZ.jpg</td>\n",
       "      <td>a husband-and-wife con team, a soldier of fortune, and others become\\ninvolved in a dangerous money-making scheme when they take over a tiny\\ncaribbean island</td>\n",
       "      <td>['Fiction']</td>\n",
       "      <td>usa</td>\n",
       "      <td>en</td>\n",
       "      <td>4</td>\n",
       "    </tr>\n",
       "  </tbody>\n",
       "</table>\n",
       "<p>3412 rows × 12 columns</p>\n",
       "</div>"
      ]
     },
     "execution_count": 266,
     "metadata": {},
     "output_type": "execute_result"
    }
   ],
   "execution_count": 266
  },
  {
   "metadata": {
    "ExecuteTime": {
     "end_time": "2024-11-07T05:41:00.969286900Z",
     "start_time": "2024-11-07T05:30:21.111775Z"
    }
   },
   "cell_type": "code",
   "source": [
    "from sklearn.metrics import silhouette_score\n",
    "import matplotlib.pyplot as plt\n",
    "\n",
    "silhouette_scores = []\n",
    "K = range(2, 15)  # 테스트할 군집 개수 범위 설정\n",
    "\n",
    "for k in K:\n",
    "    kmeans = KMeans(n_clusters=k, max_iter=5000, random_state=0)\n",
    "    labels = kmeans.fit_predict(summary_vecs)\n",
    "    score = silhouette_score(summary_vecs, labels)\n",
    "    silhouette_scores.append(score)\n",
    "\n",
    "# 최고점에서 완만하게 내려가는 지점이 최적의 값일수..\n",
    "# 실루엣 계수 시각화\n",
    "plt.plot(K, silhouette_scores, marker='o')\n",
    "plt.xlabel('Number of clusters, k')\n",
    "plt.ylabel('Silhouette Score')\n",
    "plt.title('Silhouette Score vs. Number of Clusters')\n",
    "plt.show()\n"
   ],
   "id": "4dafe62fdf8594f8",
   "outputs": [
    {
     "data": {
      "text/plain": [
       "<Figure size 640x480 with 1 Axes>"
      ],
      "image/png": "[encoded data removed]"
     },
     "metadata": {},
     "output_type": "display_data"
    }
   ],
   "execution_count": 267
  },
  {
   "metadata": {
    "ExecuteTime": {
     "end_time": "2024-11-07T05:41:00.969286900Z",
     "start_time": "2024-11-07T02:04:43.791440Z"
    }
   },
   "cell_type": "code",
   "source": [
    "# 코사인 유사도 계산을 통해 유사도 행렬을 만든 후, 히트맵 시각화 \n",
    "# 장르별 문서 간 유사도가 높은 군집이 형성된다면, 장르 특성이 잘 구분되는 것으로 볼 수 있음"
   ],
   "id": "7d4fee682122e127",
   "outputs": [],
   "execution_count": null
  },
  {
   "metadata": {
    "ExecuteTime": {
     "end_time": "2024-11-07T05:41:00.969286900Z",
     "start_time": "2024-11-07T02:04:43.803329Z"
    }
   },
   "cell_type": "code",
   "source": "# 써머리=써머리 간 유사도 계산",
   "id": "a00612bd848029a4",
   "outputs": [],
   "execution_count": null
  },
  {
   "metadata": {
    "ExecuteTime": {
     "end_time": "2024-11-07T05:41:00.969286900Z",
     "start_time": "2024-11-07T02:04:43.850644Z"
    }
   },
   "cell_type": "code",
   "source": "",
   "id": "21634ae0627e63ba",
   "outputs": [],
   "execution_count": null
  },
  {
   "metadata": {
    "ExecuteTime": {
     "end_time": "2024-11-07T05:41:00.969286900Z",
     "start_time": "2024-11-07T02:04:43.939161Z"
    }
   },
   "cell_type": "code",
   "source": "",
   "id": "603e901c0c719717",
   "outputs": [],
   "execution_count": null
  },
  {
   "metadata": {
    "ExecuteTime": {
     "end_time": "2024-11-07T05:41:00.969286900Z",
     "start_time": "2024-11-07T02:04:43.945272Z"
    }
   },
   "cell_type": "code",
   "source": "",
   "id": "f95f1b5280e4a477",
   "outputs": [],
   "execution_count": null
  },
  {
   "metadata": {
    "ExecuteTime": {
     "end_time": "2024-11-07T05:41:00.969286900Z",
     "start_time": "2024-11-07T02:04:45.677652Z"
    }
   },
   "cell_type": "code",
   "source": [
    "user_book_df=book_filter_df.pivot_table(index='user_id',columns='book_title',values='rating',fill_value=0)\n",
    "user_book_df.shape # user간 유사도 구할거 아니니까\n",
    "book_user_df=user_book_df.T"
   ],
   "id": "9b2e8f7877dba0f8",
   "outputs": [],
   "execution_count": 109
  },
  {
   "metadata": {
    "ExecuteTime": {
     "end_time": "2024-11-07T05:41:00.969286900Z",
     "start_time": "2024-11-07T02:02:12.039064Z"
    }
   },
   "cell_type": "code",
   "source": [
    "from sklearn.metrics.pairwise import cosine_similarity\n",
    "book_similarity=cosine_similarity(book_user_df,book_user_df)\n",
    "book_similarity_df=pd.DataFrame(book_similarity)"
   ],
   "id": "49a96821c20d1517",
   "outputs": [],
   "execution_count": 99
  },
  {
   "metadata": {
    "ExecuteTime": {
     "end_time": "2024-11-07T05:41:00.969286900Z",
     "start_time": "2024-11-07T02:02:12.472628Z"
    }
   },
   "cell_type": "code",
   "source": "book_filter_df.to_csv(\"book_filter\",index=False, encoding='utf-8')",
   "id": "381c595847b93385",
   "outputs": [],
   "execution_count": 100
  }
 ],
 "metadata": {
  "kernelspec": {
   "display_name": "Python 3",
   "language": "python",
   "name": "python3"
  },
  "language_info": {
   "codemirror_mode": {
    "name": "ipython",
    "version": 2
   },
   "file_extension": ".py",
   "mimetype": "text/x-python",
   "name": "python",
   "nbconvert_exporter": "python",
   "pygments_lexer": "ipython2",
   "version": "2.7.6"
  }
 },
 "nbformat": 4,
 "nbformat_minor": 5
}
