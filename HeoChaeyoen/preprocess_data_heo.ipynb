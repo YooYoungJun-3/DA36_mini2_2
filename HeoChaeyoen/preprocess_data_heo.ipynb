{
 "cells": [
  {
   "cell_type": "code",
   "id": "initial_id",
   "metadata": {
    "collapsed": true,
    "ExecuteTime": {
     "end_time": "2024-11-07T01:16:26.160824Z",
     "start_time": "2024-11-07T01:16:26.157090Z"
    }
   },
   "source": [
    "import pandas as pd\n",
    "import numpy as np\n",
    "import matplotlib.pyplot as plt\n",
    "import seaborn as sns\n",
    "from nltk.metrics.aline import similarity_matrix\n",
    "from pandas import value_counts\n",
    "from win32evtlogutil import langid"
   ],
   "outputs": [],
   "execution_count": 50
  },
  {
   "metadata": {},
   "cell_type": "markdown",
   "source": "- kaggle dataset (초안)",
   "id": "7ebc78c0a259c775"
  },
  {
   "metadata": {
    "ExecuteTime": {
     "end_time": "2024-11-07T01:16:31.717713Z",
     "start_time": "2024-11-07T01:16:26.168199Z"
    }
   },
   "cell_type": "code",
   "source": "book_df=pd.read_csv('book_review_data.csv')",
   "id": "c5b6e4a98a06dfbe",
   "outputs": [],
   "execution_count": 51
  },
  {
   "metadata": {
    "ExecuteTime": {
     "end_time": "2024-11-07T01:16:32.006456Z",
     "start_time": "2024-11-07T01:16:31.797033Z"
    }
   },
   "cell_type": "code",
   "source": [
    "# 1) 필요한 컬럼 도출\n",
    "# 2) 형변환 (float > int)\n",
    "\n",
    "book_df=book_df[['user_id',\"age\",\"rating\",\"book_title\",'book_author','year_of_publication','img_m','Summary','Category','country','Language']]\n",
    "book_df[['age',\"year_of_publication\"]]=book_df[['age',\"year_of_publication\"]].astype(int)"
   ],
   "id": "a91a7feaa0d36a4a",
   "outputs": [],
   "execution_count": 52
  },
  {
   "metadata": {
    "ExecuteTime": {
     "end_time": "2024-11-07T01:16:32.451444Z",
     "start_time": "2024-11-07T01:16:32.101485Z"
    }
   },
   "cell_type": "code",
   "source": [
    "# 최소 평가 개수 ( 평가가 30개보다 많은 책만 추출 )\n",
    "counts=book_df['book_title'].value_counts()\n",
    "title = counts[counts > 30].index\n",
    "book_filter_df=book_df[book_df['book_title'].isin(title)]"
   ],
   "id": "538437861c6b56cb",
   "outputs": [],
   "execution_count": 53
  },
  {
   "metadata": {
    "ExecuteTime": {
     "end_time": "2024-11-07T01:16:32.594052Z",
     "start_time": "2024-11-07T01:16:32.526841Z"
    }
   },
   "cell_type": "code",
   "source": [
    "# 최소 평가 개수 ( 평가가 20개보다 많은 사용자만 추출 )\n",
    "counts=book_filter_df[\"user_id\"].value_counts()\n",
    "user_id_=counts[counts>10].index\n",
    "book_filter_df = book_filter_df[book_filter_df['user_id'].isin(user_id_)]"
   ],
   "id": "394e64cd0b88a858",
   "outputs": [],
   "execution_count": 54
  },
  {
   "metadata": {
    "ExecuteTime": {
     "end_time": "2024-11-07T01:16:32.713298Z",
     "start_time": "2024-11-07T01:16:32.649612Z"
    }
   },
   "cell_type": "code",
   "source": [
    "# 무의미한 0점 평가 제거\n",
    "rating_zero=book_filter_df[book_filter_df['rating']==0].index\n",
    "book_filter_df.drop(rating_zero, axis=0, inplace=True)"
   ],
   "id": "8da03a2eae0c9e69",
   "outputs": [],
   "execution_count": 55
  },
  {
   "metadata": {
    "ExecuteTime": {
     "end_time": "2024-11-07T01:16:32.827078Z",
     "start_time": "2024-11-07T01:16:32.776229Z"
    }
   },
   "cell_type": "code",
   "source": [
    "# 한 카테고리안에 책이 5권 미만인 경우 제거\n",
    "counts=book_filter_df[\"Category\"].value_counts()\n",
    "categories = counts[counts > 5].index\n",
    "book_filter_df = book_filter_df[book_filter_df['Category'].isin(categories)]\n",
    "idx=book_filter_df[book_filter_df[\"Summary\"]==9].index\n",
    "book_filter_df.drop(idx,axis=0,inplace=True)"
   ],
   "id": "b779c5ab7eb237d7",
   "outputs": [],
   "execution_count": 56
  },
  {
   "metadata": {
    "ExecuteTime": {
     "end_time": "2024-11-07T01:16:32.895351Z",
     "start_time": "2024-11-07T01:16:32.887868Z"
    }
   },
   "cell_type": "code",
   "source": [
    "book_filter_df.shape\n",
    "len(book_filter_df['user_id'].unique())"
   ],
   "id": "2d6073259aeb1ef",
   "outputs": [
    {
     "data": {
      "text/plain": [
       "4920"
      ]
     },
     "execution_count": 57,
     "metadata": {},
     "output_type": "execute_result"
    }
   ],
   "execution_count": 57
  },
  {
   "metadata": {
    "ExecuteTime": {
     "end_time": "2024-11-07T01:16:33.457298Z",
     "start_time": "2024-11-07T01:16:32.954647Z"
    }
   },
   "cell_type": "code",
   "source": [
    "user_book_df=book_filter_df.pivot_table(index='user_id',columns='book_title',values='rating',fill_value=0)\n",
    "user_book_df.shape # user간 유사도 구할거 아니니까\n",
    "book_user_df=user_book_df.T"
   ],
   "id": "27a4ecd611c9f240",
   "outputs": [],
   "execution_count": 58
  },
  {
   "metadata": {
    "ExecuteTime": {
     "end_time": "2024-11-07T01:16:33.551910Z",
     "start_time": "2024-11-07T01:16:33.533641Z"
    }
   },
   "cell_type": "code",
   "source": "user_book_df.iloc[55].sort_values(ascending=False)[:10]",
   "id": "ad73a8291a2fff5e",
   "outputs": [
    {
     "data": {
      "text/plain": [
       "book_title\n",
       "It                                                                          8.0\n",
       "Buddha of Suburbia                                                          8.0\n",
       "Christine                                                                   8.0\n",
       "Thinner                                                                     8.0\n",
       "Firestarter (Signet Book)                                                   7.0\n",
       "Practical Demonkeeping                                                      7.0\n",
       "Dolores Claiborne                                                           7.0\n",
       "Something Wicked This Way Comes                                             6.0\n",
       "Cujo                                                                        6.0\n",
       "Stupid White Men ...and Other Sorry Excuses for the State of the Nation!    6.0\n",
       "Name: 4334, dtype: float64"
      ]
     },
     "execution_count": 59,
     "metadata": {},
     "output_type": "execute_result"
    }
   ],
   "execution_count": 59
  },
  {
   "metadata": {
    "ExecuteTime": {
     "end_time": "2024-11-07T01:16:37.613895Z",
     "start_time": "2024-11-07T01:16:33.799951Z"
    }
   },
   "cell_type": "code",
   "source": [
    "from sklearn.metrics.pairwise import cosine_similarity\n",
    "book_similarity=cosine_similarity(book_user_df,book_user_df)\n",
    "book_similarity_df=pd.DataFrame(book_similarity)"
   ],
   "id": "24a3cecdc0d157d4",
   "outputs": [],
   "execution_count": 60
  },
  {
   "metadata": {
    "ExecuteTime": {
     "end_time": "2024-11-07T01:16:37.735688Z",
     "start_time": "2024-11-07T01:16:37.721461Z"
    }
   },
   "cell_type": "code",
   "source": "book_filter_df[\"age\"].value_counts()",
   "id": "b19b1497e1710b5e",
   "outputs": [
    {
     "data": {
      "text/plain": [
       "age\n",
       "34    25722\n",
       "33     2853\n",
       "29     2631\n",
       "28     2565\n",
       "32     2453\n",
       "      ...  \n",
       "11        8\n",
       "76        7\n",
       "84        6\n",
       "10        5\n",
       "97        4\n",
       "Name: count, Length: 78, dtype: int64"
      ]
     },
     "execution_count": 61,
     "metadata": {},
     "output_type": "execute_result"
    }
   ],
   "execution_count": 61
  },
  {
   "metadata": {
    "ExecuteTime": {
     "end_time": "2024-11-07T01:27:30.888614Z",
     "start_time": "2024-11-07T01:27:30.884671Z"
    }
   },
   "cell_type": "code",
   "source": [
    "def make_ages(age):\n",
    "    if 10<=age<20:\n",
    "        return 10\n",
    "    elif 20<=age<30:\n",
    "        return 20\n",
    "    elif 30<=age<40:\n",
    "        return 30\n",
    "    elif 40<=age<50:\n",
    "        return 40\n",
    "    elif 50<=age<60:\n",
    "        return 50\n",
    "    elif 60<=age<70:\n",
    "        return 60\n",
    "    elif 70<=age<80:\n",
    "        return 70\n",
    "    else:\n",
    "        return 80"
   ],
   "id": "5c222ce5cf52ff8d",
   "outputs": [],
   "execution_count": 85
  },
  {
   "metadata": {
    "ExecuteTime": {
     "end_time": "2024-11-07T01:27:35.394573Z",
     "start_time": "2024-11-07T01:27:35.355525Z"
    }
   },
   "cell_type": "code",
   "source": "book_filter_df['ages'] = book_filter_df['age'].apply(make_ages)",
   "id": "5e4bb23935af805a",
   "outputs": [],
   "execution_count": 86
  },
  {
   "metadata": {
    "ExecuteTime": {
     "end_time": "2024-11-07T01:34:10.017665Z",
     "start_time": "2024-11-07T01:34:09.980687Z"
    }
   },
   "cell_type": "code",
   "source": [
    "book_filter_df[\"book_title\"]=book_filter_df['book_title'].str.lower()\n",
    "book_filter_df"
   ],
   "id": "9f25f7cd498fcd72",
   "outputs": [
    {
     "data": {
      "text/plain": [
       "         user_id  age  rating              book_title     book_author  \\\n",
       "31         11676   34       9  the kitchen god's wife         Amy Tan   \n",
       "32         29526   26       9  the kitchen god's wife         Amy Tan   \n",
       "34         46398   37       9  the kitchen god's wife         Amy Tan   \n",
       "36         49635   34       9  the kitchen god's wife         Amy Tan   \n",
       "42        148712   34      10  the kitchen god's wife         Amy Tan   \n",
       "...          ...  ...     ...                     ...             ...   \n",
       "1026938   270820   52       7              the vision  Dean R. Koontz   \n",
       "1027926   273197   55       8                  island    Thomas Perry   \n",
       "1028086   273718   32       6                   pearl            Anon   \n",
       "1029323   275970   46       9  me talk pretty one day   David Sedaris   \n",
       "1029690   277157   70       5            saving faith  DAVID BALDACCI   \n",
       "\n",
       "         year_of_publication  \\\n",
       "31                      1991   \n",
       "32                      1991   \n",
       "34                      1991   \n",
       "36                      1991   \n",
       "42                      1991   \n",
       "...                      ...   \n",
       "1026938                 1986   \n",
       "1027926                 1989   \n",
       "1028086                 1999   \n",
       "1029323                 2001   \n",
       "1029690                 2000   \n",
       "\n",
       "                                                     img_m  \\\n",
       "31       http://images.amazon.com/images/P/0399135782.0...   \n",
       "32       http://images.amazon.com/images/P/0399135782.0...   \n",
       "34       http://images.amazon.com/images/P/0399135782.0...   \n",
       "36       http://images.amazon.com/images/P/0399135782.0...   \n",
       "42       http://images.amazon.com/images/P/0399135782.0...   \n",
       "...                                                    ...   \n",
       "1026938  http://images.amazon.com/images/P/0606298347.0...   \n",
       "1027926  http://images.amazon.com/images/P/0380706636.0...   \n",
       "1028086  http://images.amazon.com/images/P/1853266094.0...   \n",
       "1029323  http://images.amazon.com/images/P/1586210661.0...   \n",
       "1029690  http://images.amazon.com/images/P/0375727981.0...   \n",
       "\n",
       "                                                   Summary     Category  \\\n",
       "31       A Chinese immigrant who is convinced she is dy...  ['Fiction']   \n",
       "32       A Chinese immigrant who is convinced she is dy...  ['Fiction']   \n",
       "34       A Chinese immigrant who is convinced she is dy...  ['Fiction']   \n",
       "36       A Chinese immigrant who is convinced she is dy...  ['Fiction']   \n",
       "42       A Chinese immigrant who is convinced she is dy...  ['Fiction']   \n",
       "...                                                    ...          ...   \n",
       "1026938                                                  9            9   \n",
       "1027926  A husband-and-wife con team, a soldier of fort...  ['Fiction']   \n",
       "1028086                                                  9            9   \n",
       "1029323                                                  9            9   \n",
       "1029690  In a novel of Washington insider intrigue, inf...  ['Fiction']   \n",
       "\n",
       "                country Language  ages  \n",
       "31                  NaN       en    30  \n",
       "32                  usa       en    20  \n",
       "34                  usa       en    30  \n",
       "36                  usa       en    30  \n",
       "42                  usa       en    30  \n",
       "...                 ...      ...   ...  \n",
       "1026938             usa        9    50  \n",
       "1027926             usa       en    50  \n",
       "1028086  united kingdom        9    30  \n",
       "1029323             usa        9    40  \n",
       "1029690             usa       en    70  \n",
       "\n",
       "[84280 rows x 12 columns]"
      ],
      "text/html": [
       "<div>\n",
       "<style scoped>\n",
       "    .dataframe tbody tr th:only-of-type {\n",
       "        vertical-align: middle;\n",
       "    }\n",
       "\n",
       "    .dataframe tbody tr th {\n",
       "        vertical-align: top;\n",
       "    }\n",
       "\n",
       "    .dataframe thead th {\n",
       "        text-align: right;\n",
       "    }\n",
       "</style>\n",
       "<table border=\"1\" class=\"dataframe\">\n",
       "  <thead>\n",
       "    <tr style=\"text-align: right;\">\n",
       "      <th></th>\n",
       "      <th>user_id</th>\n",
       "      <th>age</th>\n",
       "      <th>rating</th>\n",
       "      <th>book_title</th>\n",
       "      <th>book_author</th>\n",
       "      <th>year_of_publication</th>\n",
       "      <th>img_m</th>\n",
       "      <th>Summary</th>\n",
       "      <th>Category</th>\n",
       "      <th>country</th>\n",
       "      <th>Language</th>\n",
       "      <th>ages</th>\n",
       "    </tr>\n",
       "  </thead>\n",
       "  <tbody>\n",
       "    <tr>\n",
       "      <th>31</th>\n",
       "      <td>11676</td>\n",
       "      <td>34</td>\n",
       "      <td>9</td>\n",
       "      <td>the kitchen god's wife</td>\n",
       "      <td>Amy Tan</td>\n",
       "      <td>1991</td>\n",
       "      <td>http://images.amazon.com/images/P/0399135782.0...</td>\n",
       "      <td>A Chinese immigrant who is convinced she is dy...</td>\n",
       "      <td>['Fiction']</td>\n",
       "      <td>NaN</td>\n",
       "      <td>en</td>\n",
       "      <td>30</td>\n",
       "    </tr>\n",
       "    <tr>\n",
       "      <th>32</th>\n",
       "      <td>29526</td>\n",
       "      <td>26</td>\n",
       "      <td>9</td>\n",
       "      <td>the kitchen god's wife</td>\n",
       "      <td>Amy Tan</td>\n",
       "      <td>1991</td>\n",
       "      <td>http://images.amazon.com/images/P/0399135782.0...</td>\n",
       "      <td>A Chinese immigrant who is convinced she is dy...</td>\n",
       "      <td>['Fiction']</td>\n",
       "      <td>usa</td>\n",
       "      <td>en</td>\n",
       "      <td>20</td>\n",
       "    </tr>\n",
       "    <tr>\n",
       "      <th>34</th>\n",
       "      <td>46398</td>\n",
       "      <td>37</td>\n",
       "      <td>9</td>\n",
       "      <td>the kitchen god's wife</td>\n",
       "      <td>Amy Tan</td>\n",
       "      <td>1991</td>\n",
       "      <td>http://images.amazon.com/images/P/0399135782.0...</td>\n",
       "      <td>A Chinese immigrant who is convinced she is dy...</td>\n",
       "      <td>['Fiction']</td>\n",
       "      <td>usa</td>\n",
       "      <td>en</td>\n",
       "      <td>30</td>\n",
       "    </tr>\n",
       "    <tr>\n",
       "      <th>36</th>\n",
       "      <td>49635</td>\n",
       "      <td>34</td>\n",
       "      <td>9</td>\n",
       "      <td>the kitchen god's wife</td>\n",
       "      <td>Amy Tan</td>\n",
       "      <td>1991</td>\n",
       "      <td>http://images.amazon.com/images/P/0399135782.0...</td>\n",
       "      <td>A Chinese immigrant who is convinced she is dy...</td>\n",
       "      <td>['Fiction']</td>\n",
       "      <td>usa</td>\n",
       "      <td>en</td>\n",
       "      <td>30</td>\n",
       "    </tr>\n",
       "    <tr>\n",
       "      <th>42</th>\n",
       "      <td>148712</td>\n",
       "      <td>34</td>\n",
       "      <td>10</td>\n",
       "      <td>the kitchen god's wife</td>\n",
       "      <td>Amy Tan</td>\n",
       "      <td>1991</td>\n",
       "      <td>http://images.amazon.com/images/P/0399135782.0...</td>\n",
       "      <td>A Chinese immigrant who is convinced she is dy...</td>\n",
       "      <td>['Fiction']</td>\n",
       "      <td>usa</td>\n",
       "      <td>en</td>\n",
       "      <td>30</td>\n",
       "    </tr>\n",
       "    <tr>\n",
       "      <th>...</th>\n",
       "      <td>...</td>\n",
       "      <td>...</td>\n",
       "      <td>...</td>\n",
       "      <td>...</td>\n",
       "      <td>...</td>\n",
       "      <td>...</td>\n",
       "      <td>...</td>\n",
       "      <td>...</td>\n",
       "      <td>...</td>\n",
       "      <td>...</td>\n",
       "      <td>...</td>\n",
       "      <td>...</td>\n",
       "    </tr>\n",
       "    <tr>\n",
       "      <th>1026938</th>\n",
       "      <td>270820</td>\n",
       "      <td>52</td>\n",
       "      <td>7</td>\n",
       "      <td>the vision</td>\n",
       "      <td>Dean R. Koontz</td>\n",
       "      <td>1986</td>\n",
       "      <td>http://images.amazon.com/images/P/0606298347.0...</td>\n",
       "      <td>9</td>\n",
       "      <td>9</td>\n",
       "      <td>usa</td>\n",
       "      <td>9</td>\n",
       "      <td>50</td>\n",
       "    </tr>\n",
       "    <tr>\n",
       "      <th>1027926</th>\n",
       "      <td>273197</td>\n",
       "      <td>55</td>\n",
       "      <td>8</td>\n",
       "      <td>island</td>\n",
       "      <td>Thomas Perry</td>\n",
       "      <td>1989</td>\n",
       "      <td>http://images.amazon.com/images/P/0380706636.0...</td>\n",
       "      <td>A husband-and-wife con team, a soldier of fort...</td>\n",
       "      <td>['Fiction']</td>\n",
       "      <td>usa</td>\n",
       "      <td>en</td>\n",
       "      <td>50</td>\n",
       "    </tr>\n",
       "    <tr>\n",
       "      <th>1028086</th>\n",
       "      <td>273718</td>\n",
       "      <td>32</td>\n",
       "      <td>6</td>\n",
       "      <td>pearl</td>\n",
       "      <td>Anon</td>\n",
       "      <td>1999</td>\n",
       "      <td>http://images.amazon.com/images/P/1853266094.0...</td>\n",
       "      <td>9</td>\n",
       "      <td>9</td>\n",
       "      <td>united kingdom</td>\n",
       "      <td>9</td>\n",
       "      <td>30</td>\n",
       "    </tr>\n",
       "    <tr>\n",
       "      <th>1029323</th>\n",
       "      <td>275970</td>\n",
       "      <td>46</td>\n",
       "      <td>9</td>\n",
       "      <td>me talk pretty one day</td>\n",
       "      <td>David Sedaris</td>\n",
       "      <td>2001</td>\n",
       "      <td>http://images.amazon.com/images/P/1586210661.0...</td>\n",
       "      <td>9</td>\n",
       "      <td>9</td>\n",
       "      <td>usa</td>\n",
       "      <td>9</td>\n",
       "      <td>40</td>\n",
       "    </tr>\n",
       "    <tr>\n",
       "      <th>1029690</th>\n",
       "      <td>277157</td>\n",
       "      <td>70</td>\n",
       "      <td>5</td>\n",
       "      <td>saving faith</td>\n",
       "      <td>DAVID BALDACCI</td>\n",
       "      <td>2000</td>\n",
       "      <td>http://images.amazon.com/images/P/0375727981.0...</td>\n",
       "      <td>In a novel of Washington insider intrigue, inf...</td>\n",
       "      <td>['Fiction']</td>\n",
       "      <td>usa</td>\n",
       "      <td>en</td>\n",
       "      <td>70</td>\n",
       "    </tr>\n",
       "  </tbody>\n",
       "</table>\n",
       "<p>84280 rows × 12 columns</p>\n",
       "</div>"
      ]
     },
     "execution_count": 106,
     "metadata": {},
     "output_type": "execute_result"
    }
   ],
   "execution_count": 106
  },
  {
   "metadata": {
    "ExecuteTime": {
     "end_time": "2024-11-07T02:17:15.368840Z",
     "start_time": "2024-11-07T02:17:15.339926Z"
    }
   },
   "cell_type": "code",
   "source": "ages_book_=book_filter_df.groupby(['ages','book_title']).size().reset_index(name='count')",
   "id": "c3157ad7d03f7a60",
   "outputs": [
    {
     "data": {
      "text/plain": [
       "       ages                                              book_title  count\n",
       "0        10                                            'salem's lot      1\n",
       "1        10                                      16 lighthouse road      1\n",
       "2        10                                                    1984      5\n",
       "3        10                                     1st to die: a novel      1\n",
       "4        10                                 3001: the final odyssey      1\n",
       "...     ...                                                     ...    ...\n",
       "17214    80  wayside school gets a little stranger (wayside school)      1\n",
       "17215    80                           what to expect the first year      1\n",
       "17216    80                                             wild horses      1\n",
       "17217    80                                  writing down the bones      1\n",
       "17218    80                 you can't scare me! (goosebumps, no 15)      1\n",
       "\n",
       "[17219 rows x 3 columns]"
      ],
      "text/html": [
       "<div>\n",
       "<style scoped>\n",
       "    .dataframe tbody tr th:only-of-type {\n",
       "        vertical-align: middle;\n",
       "    }\n",
       "\n",
       "    .dataframe tbody tr th {\n",
       "        vertical-align: top;\n",
       "    }\n",
       "\n",
       "    .dataframe thead th {\n",
       "        text-align: right;\n",
       "    }\n",
       "</style>\n",
       "<table border=\"1\" class=\"dataframe\">\n",
       "  <thead>\n",
       "    <tr style=\"text-align: right;\">\n",
       "      <th></th>\n",
       "      <th>ages</th>\n",
       "      <th>book_title</th>\n",
       "      <th>count</th>\n",
       "    </tr>\n",
       "  </thead>\n",
       "  <tbody>\n",
       "    <tr>\n",
       "      <th>0</th>\n",
       "      <td>10</td>\n",
       "      <td>'salem's lot</td>\n",
       "      <td>1</td>\n",
       "    </tr>\n",
       "    <tr>\n",
       "      <th>1</th>\n",
       "      <td>10</td>\n",
       "      <td>16 lighthouse road</td>\n",
       "      <td>1</td>\n",
       "    </tr>\n",
       "    <tr>\n",
       "      <th>2</th>\n",
       "      <td>10</td>\n",
       "      <td>1984</td>\n",
       "      <td>5</td>\n",
       "    </tr>\n",
       "    <tr>\n",
       "      <th>3</th>\n",
       "      <td>10</td>\n",
       "      <td>1st to die: a novel</td>\n",
       "      <td>1</td>\n",
       "    </tr>\n",
       "    <tr>\n",
       "      <th>4</th>\n",
       "      <td>10</td>\n",
       "      <td>3001: the final odyssey</td>\n",
       "      <td>1</td>\n",
       "    </tr>\n",
       "    <tr>\n",
       "      <th>...</th>\n",
       "      <td>...</td>\n",
       "      <td>...</td>\n",
       "      <td>...</td>\n",
       "    </tr>\n",
       "    <tr>\n",
       "      <th>17214</th>\n",
       "      <td>80</td>\n",
       "      <td>wayside school gets a little stranger (wayside school)</td>\n",
       "      <td>1</td>\n",
       "    </tr>\n",
       "    <tr>\n",
       "      <th>17215</th>\n",
       "      <td>80</td>\n",
       "      <td>what to expect the first year</td>\n",
       "      <td>1</td>\n",
       "    </tr>\n",
       "    <tr>\n",
       "      <th>17216</th>\n",
       "      <td>80</td>\n",
       "      <td>wild horses</td>\n",
       "      <td>1</td>\n",
       "    </tr>\n",
       "    <tr>\n",
       "      <th>17217</th>\n",
       "      <td>80</td>\n",
       "      <td>writing down the bones</td>\n",
       "      <td>1</td>\n",
       "    </tr>\n",
       "    <tr>\n",
       "      <th>17218</th>\n",
       "      <td>80</td>\n",
       "      <td>you can't scare me! (goosebumps, no 15)</td>\n",
       "      <td>1</td>\n",
       "    </tr>\n",
       "  </tbody>\n",
       "</table>\n",
       "<p>17219 rows × 3 columns</p>\n",
       "</div>"
      ]
     },
     "execution_count": 141,
     "metadata": {},
     "output_type": "execute_result"
    }
   ],
   "execution_count": 141
  },
  {
   "metadata": {
    "ExecuteTime": {
     "end_time": "2024-11-07T02:18:20.117728Z",
     "start_time": "2024-11-07T02:18:20.092912Z"
    }
   },
   "cell_type": "code",
   "source": [
    "ages_book_df=ages_book_.pivot_table(index='ages',columns='book_title',values='count',fill_value=0)\n",
    "book_ages_df=ages_book_df.T\n",
    "book_ages_df[:5]"
   ],
   "id": "3ba5858d68532ae5",
   "outputs": [
    {
     "data": {
      "text/plain": [
       "ages                 10    20    30    40   50   60   70   80\n",
       "book_title                                                   \n",
       "'salem's lot        1.0   5.0   6.0   1.0  2.0  0.0  0.0  0.0\n",
       "10 lb. penalty      0.0   1.0   5.0   4.0  1.0  1.0  1.0  0.0\n",
       "101 dalmatians      0.0   3.0   2.0   2.0  1.0  0.0  0.0  0.0\n",
       "16 lighthouse road  1.0   1.0   6.0   3.0  2.0  0.0  0.0  0.0\n",
       "1984                5.0  28.0  24.0  12.0  1.0  0.0  0.0  0.0"
      ],
      "text/html": [
       "<div>\n",
       "<style scoped>\n",
       "    .dataframe tbody tr th:only-of-type {\n",
       "        vertical-align: middle;\n",
       "    }\n",
       "\n",
       "    .dataframe tbody tr th {\n",
       "        vertical-align: top;\n",
       "    }\n",
       "\n",
       "    .dataframe thead th {\n",
       "        text-align: right;\n",
       "    }\n",
       "</style>\n",
       "<table border=\"1\" class=\"dataframe\">\n",
       "  <thead>\n",
       "    <tr style=\"text-align: right;\">\n",
       "      <th>ages</th>\n",
       "      <th>10</th>\n",
       "      <th>20</th>\n",
       "      <th>30</th>\n",
       "      <th>40</th>\n",
       "      <th>50</th>\n",
       "      <th>60</th>\n",
       "      <th>70</th>\n",
       "      <th>80</th>\n",
       "    </tr>\n",
       "    <tr>\n",
       "      <th>book_title</th>\n",
       "      <th></th>\n",
       "      <th></th>\n",
       "      <th></th>\n",
       "      <th></th>\n",
       "      <th></th>\n",
       "      <th></th>\n",
       "      <th></th>\n",
       "      <th></th>\n",
       "    </tr>\n",
       "  </thead>\n",
       "  <tbody>\n",
       "    <tr>\n",
       "      <th>'salem's lot</th>\n",
       "      <td>1.0</td>\n",
       "      <td>5.0</td>\n",
       "      <td>6.0</td>\n",
       "      <td>1.0</td>\n",
       "      <td>2.0</td>\n",
       "      <td>0.0</td>\n",
       "      <td>0.0</td>\n",
       "      <td>0.0</td>\n",
       "    </tr>\n",
       "    <tr>\n",
       "      <th>10 lb. penalty</th>\n",
       "      <td>0.0</td>\n",
       "      <td>1.0</td>\n",
       "      <td>5.0</td>\n",
       "      <td>4.0</td>\n",
       "      <td>1.0</td>\n",
       "      <td>1.0</td>\n",
       "      <td>1.0</td>\n",
       "      <td>0.0</td>\n",
       "    </tr>\n",
       "    <tr>\n",
       "      <th>101 dalmatians</th>\n",
       "      <td>0.0</td>\n",
       "      <td>3.0</td>\n",
       "      <td>2.0</td>\n",
       "      <td>2.0</td>\n",
       "      <td>1.0</td>\n",
       "      <td>0.0</td>\n",
       "      <td>0.0</td>\n",
       "      <td>0.0</td>\n",
       "    </tr>\n",
       "    <tr>\n",
       "      <th>16 lighthouse road</th>\n",
       "      <td>1.0</td>\n",
       "      <td>1.0</td>\n",
       "      <td>6.0</td>\n",
       "      <td>3.0</td>\n",
       "      <td>2.0</td>\n",
       "      <td>0.0</td>\n",
       "      <td>0.0</td>\n",
       "      <td>0.0</td>\n",
       "    </tr>\n",
       "    <tr>\n",
       "      <th>1984</th>\n",
       "      <td>5.0</td>\n",
       "      <td>28.0</td>\n",
       "      <td>24.0</td>\n",
       "      <td>12.0</td>\n",
       "      <td>1.0</td>\n",
       "      <td>0.0</td>\n",
       "      <td>0.0</td>\n",
       "      <td>0.0</td>\n",
       "    </tr>\n",
       "  </tbody>\n",
       "</table>\n",
       "</div>"
      ]
     },
     "execution_count": 142,
     "metadata": {},
     "output_type": "execute_result"
    }
   ],
   "execution_count": 142
  },
  {
   "metadata": {
    "ExecuteTime": {
     "end_time": "2024-11-07T02:18:20.253053Z",
     "start_time": "2024-11-07T02:18:20.224300Z"
    }
   },
   "cell_type": "code",
   "source": [
    "from sklearn.metrics.pairwise import cosine_similarity\n",
    "ages_similarity=cosine_similarity(book_ages_df,book_ages_df)\n",
    "ages_similarity_df=pd.DataFrame(ages_similarity)"
   ],
   "id": "6987c525daaeae04",
   "outputs": [],
   "execution_count": 143
  }
 ],
 "metadata": {
  "kernelspec": {
   "display_name": "Python 3",
   "language": "python",
   "name": "python3"
  },
  "language_info": {
   "codemirror_mode": {
    "name": "ipython",
    "version": 2
   },
   "file_extension": ".py",
   "mimetype": "text/x-python",
   "name": "python",
   "nbconvert_exporter": "python",
   "pygments_lexer": "ipython2",
   "version": "2.7.6"
  }
 },
 "nbformat": 4,
 "nbformat_minor": 5
}
