{
 "cells": [
  {
   "cell_type": "code",
   "id": "initial_id",
   "metadata": {
    "collapsed": true,
    "ExecuteTime": {
     "end_time": "2024-11-07T05:28:08.096804Z",
     "start_time": "2024-11-07T05:28:07.991582Z"
    }
   },
   "source": [
    "import pandas as pd\n",
    "import numpy as np\n",
    "import matplotlib.pyplot as plt\n",
    "import seaborn as sns\n",
    "from anyio.abc import value\n",
    "from nltk.metrics.aline import similarity_matrix\n",
    "from pandas import value_counts\n",
    "from win32evtlogutil import langid"
   ],
   "outputs": [],
   "execution_count": 234
  },
  {
   "metadata": {},
   "cell_type": "markdown",
   "source": [
    "#### 데이터 전처리\n",
    "- kaggle dataset "
   ],
   "id": "7ebc78c0a259c775"
  },
  {
   "metadata": {
    "ExecuteTime": {
     "end_time": "2024-11-07T05:28:12.693921Z",
     "start_time": "2024-11-07T05:28:08.100807Z"
    }
   },
   "cell_type": "code",
   "source": "book_df=pd.read_csv('book_review_data.csv')",
   "id": "c5b6e4a98a06dfbe",
   "outputs": [],
   "execution_count": 235
  },
  {
   "metadata": {
    "ExecuteTime": {
     "end_time": "2024-11-07T05:28:12.914208Z",
     "start_time": "2024-11-07T05:28:12.773490Z"
    }
   },
   "cell_type": "code",
   "source": [
    "# 1) 필요한 컬럼 도출\n",
    "# 2) 형변환 (float > int)\n",
    "\n",
    "book_df=book_df[['user_id',\"age\",\"rating\",\"book_title\",'book_author','year_of_publication','img_m','Summary','Category','country','Language']]\n",
    "book_df[['age',\"year_of_publication\"]]=book_df[['age',\"year_of_publication\"]].astype(int)"
   ],
   "id": "a91a7feaa0d36a4a",
   "outputs": [],
   "execution_count": 236
  },
  {
   "metadata": {
    "ExecuteTime": {
     "end_time": "2024-11-07T05:28:13.208322Z",
     "start_time": "2024-11-07T05:28:12.977989Z"
    }
   },
   "cell_type": "code",
   "source": [
    "# 최소 평가 개수 ( 평가가 30개보다 많은 책만 추출 )\n",
    "counts=book_df['book_title'].value_counts()\n",
    "title = counts[counts > 30].index\n",
    "book_filter_df=book_df[book_df['book_title'].isin(title)]\n"
   ],
   "id": "538437861c6b56cb",
   "outputs": [],
   "execution_count": 237
  },
  {
   "metadata": {
    "ExecuteTime": {
     "end_time": "2024-11-07T05:28:13.336817Z",
     "start_time": "2024-11-07T05:28:13.276737Z"
    }
   },
   "cell_type": "code",
   "source": [
    "# 최소 평가 개수 ( 평가가 20개보다 많은 사용자만 추출 )\n",
    "counts=book_filter_df[\"user_id\"].value_counts()\n",
    "user_id_=counts[counts>10].index\n",
    "book_filter_df = book_filter_df[book_filter_df['user_id'].isin(user_id_)]"
   ],
   "id": "394e64cd0b88a858",
   "outputs": [],
   "execution_count": 238
  },
  {
   "metadata": {
    "ExecuteTime": {
     "end_time": "2024-11-07T05:28:13.463868Z",
     "start_time": "2024-11-07T05:28:13.414325Z"
    }
   },
   "cell_type": "code",
   "source": [
    "# 무의미한 0점 평가 제거\n",
    "rating_zero=book_filter_df[book_filter_df['rating']==0].index\n",
    "book_filter_df.drop(rating_zero, axis=0, inplace=True)"
   ],
   "id": "8da03a2eae0c9e69",
   "outputs": [],
   "execution_count": 239
  },
  {
   "metadata": {
    "ExecuteTime": {
     "end_time": "2024-11-07T05:28:13.585763Z",
     "start_time": "2024-11-07T05:28:13.527269Z"
    }
   },
   "cell_type": "code",
   "source": [
    "# 한 카테고리안에 책이 5권 미만인 경우 제거\n",
    "counts=book_filter_df[\"Category\"].value_counts()\n",
    "450categories = counts[counts > 5].index\n",
    "book_filter_df = book_filter_df[book_filter_df['Category'].isin(categories)]\n",
    "\n",
    "idx=book_filter_df[book_filter_df[\"Summary\"]=='9'].index\n",
    "book_filter_df.drop(idx,axis=0,inplace=True)\n",
    "\n",
    "book_filter_df[\"book_title\"]=book_filter_df['book_title'].str.lower()\n",
    "book_filter_df[\"Summary\"]=book_filter_df[\"Summary\"].str.lower()"
   ],
   "id": "b779c5ab7eb237d7",
   "outputs": [],
   "execution_count": 240
  },
  {
   "metadata": {
    "ExecuteTime": {
     "end_time": "2024-11-07T05:28:13.673809Z",
     "start_time": "2024-11-07T05:28:13.661190Z"
    }
   },
   "cell_type": "code",
   "source": [
    "book_filter_df.shape\n",
    "len(book_filter_df['book_title'].unique())"
   ],
   "id": "2d6073259aeb1ef",
   "outputs": [
    {
     "data": {
      "text/plain": [
       "3450"
      ]
     },
     "execution_count": 241,
     "metadata": {},
     "output_type": "execute_result"
    }
   ],
   "execution_count": 241
  },
  {
   "metadata": {},
   "cell_type": "markdown",
   "source": "#### user_book_rating dataframe",
   "id": "9e240d4c93668c34"
  },
  {
   "metadata": {
    "ExecuteTime": {
     "end_time": "2024-11-07T05:28:14.020577Z",
     "start_time": "2024-11-07T05:28:13.747646Z"
    }
   },
   "cell_type": "code",
   "source": [
    "user_book_df=book_filter_df.pivot_table(index='user_id',columns='book_title',values='rating',fill_value=0)\n",
    "book_user_df=user_book_df.T\n",
    "user_book_df.shape # user간 유사도 구할거 아니니까"
   ],
   "id": "27a4ecd611c9f240",
   "outputs": [
    {
     "data": {
      "text/plain": [
       "(4836, 3450)"
      ]
     },
     "execution_count": 242,
     "metadata": {},
     "output_type": "execute_result"
    }
   ],
   "execution_count": 242
  },
  {
   "metadata": {
    "ExecuteTime": {
     "end_time": "2024-11-07T05:28:14.098620Z",
     "start_time": "2024-11-07T05:28:14.090658Z"
    }
   },
   "cell_type": "code",
   "source": "user_book_df.iloc[55].sort_values(ascending=False)[:10]",
   "id": "ad73a8291a2fff5e",
   "outputs": [
    {
     "data": {
      "text/plain": [
       "book_title\n",
       "thinner                                                                     8.0\n",
       "christine                                                                   8.0\n",
       "stupid white men ...and other sorry excuses for the state of the nation!    6.0\n",
       "cujo                                                                        6.0\n",
       "'salem's lot                                                                0.0\n",
       "sweet hereafter movie tie-in : a novel                                      0.0\n",
       "sunset in st. tropez                                                        0.0\n",
       "superfudge (yearling books (paperback))                                     0.0\n",
       "superstitious                                                               0.0\n",
       "surfacing                                                                   0.0\n",
       "Name: 4334, dtype: float64"
      ]
     },
     "execution_count": 243,
     "metadata": {},
     "output_type": "execute_result"
    }
   ],
   "execution_count": 243
  },
  {
   "metadata": {},
   "cell_type": "markdown",
   "source": "#### age_title_count dataframe",
   "id": "fc30f1dca0d21f9e"
  },
  {
   "metadata": {
    "ExecuteTime": {
     "end_time": "2024-11-07T05:28:14.203082Z",
     "start_time": "2024-11-07T05:28:14.195586Z"
    }
   },
   "cell_type": "code",
   "source": "book_filter_df[\"age\"].value_counts()",
   "id": "b19b1497e1710b5e",
   "outputs": [
    {
     "data": {
      "text/plain": [
       "age\n",
       "34    16829\n",
       "33     1882\n",
       "29     1708\n",
       "28     1689\n",
       "32     1585\n",
       "      ...  \n",
       "76        6\n",
       "11        5\n",
       "84        5\n",
       "10        3\n",
       "97        2\n",
       "Name: count, Length: 78, dtype: int64"
      ]
     },
     "execution_count": 244,
     "metadata": {},
     "output_type": "execute_result"
    }
   ],
   "execution_count": 244
  },
  {
   "metadata": {
    "ExecuteTime": {
     "end_time": "2024-11-07T05:28:14.282465Z",
     "start_time": "2024-11-07T05:28:14.278119Z"
    }
   },
   "cell_type": "code",
   "source": [
    "def make_ages(age):\n",
    "    if 10<=age<20:\n",
    "        return 10\n",
    "    elif 20<=age<30:\n",
    "        return 20\n",
    "    elif 30<=age<40:\n",
    "        return 30\n",
    "    elif 40<=age<50:\n",
    "        return 40\n",
    "    elif 50<=age<60:\n",
    "        return 50\n",
    "    elif 60<=age<70:\n",
    "        return 60\n",
    "    else:\n",
    "        return 70"
   ],
   "id": "5c222ce5cf52ff8d",
   "outputs": [],
   "execution_count": 245
  },
  {
   "metadata": {
    "ExecuteTime": {
     "end_time": "2024-11-07T05:28:14.355965Z",
     "start_time": "2024-11-07T05:28:14.334832Z"
    }
   },
   "cell_type": "code",
   "source": "book_filter_df['ages'] = book_filter_df['age'].apply(make_ages)",
   "id": "5e4bb23935af805a",
   "outputs": [],
   "execution_count": 246
  },
  {
   "metadata": {
    "ExecuteTime": {
     "end_time": "2024-11-07T05:28:14.495255Z",
     "start_time": "2024-11-07T05:28:14.478565Z"
    }
   },
   "cell_type": "code",
   "source": "ages_book_=book_filter_df.groupby(['ages','book_title']).size().reset_index(name='count')",
   "id": "c3157ad7d03f7a60",
   "outputs": [],
   "execution_count": 248
  },
  {
   "metadata": {
    "ExecuteTime": {
     "end_time": "2024-11-07T05:28:14.580300Z",
     "start_time": "2024-11-07T05:28:14.552412Z"
    }
   },
   "cell_type": "code",
   "source": [
    "ages_book_df=ages_book_.pivot_table(index='ages',columns='book_title',values='count',fill_value=0)\n",
    "book_ages_df=ages_book_df.T\n",
    "book_ages_df[:100]"
   ],
   "id": "3ba5858d68532ae5",
   "outputs": [
    {
     "data": {
      "text/plain": [
       "ages                                       10    20    30   40   50   60   70\n",
       "book_title                                                                   \n",
       "'salem's lot                              0.0   0.0   4.0  1.0  0.0  0.0  0.0\n",
       "10 lb. penalty                            0.0   1.0   5.0  4.0  1.0  1.0  1.0\n",
       "101 dalmatians                            0.0   2.0   0.0  1.0  0.0  0.0  0.0\n",
       "16 lighthouse road                        1.0   1.0   6.0  3.0  2.0  0.0  0.0\n",
       "1984                                      3.0  26.0  18.0  8.0  1.0  0.0  0.0\n",
       "...                                       ...   ...   ...  ...  ...  ...  ...\n",
       "a stitch in time (needlecraft mysteries)  0.0   1.0   4.0  1.0  3.0  0.0  0.0\n",
       "a streetcar named desire                  1.0   7.0   3.0  0.0  1.0  0.0  0.0\n",
       "a sudden change of heart                  0.0   1.0   5.0  1.0  0.0  0.0  0.0\n",
       "a suitable vengeance                      0.0   0.0   4.0  1.0  2.0  0.0  0.0\n",
       "a superior death                          0.0   0.0   4.0  1.0  3.0  0.0  0.0\n",
       "\n",
       "[100 rows x 7 columns]"
      ],
      "text/html": [
       "<div>\n",
       "<style scoped>\n",
       "    .dataframe tbody tr th:only-of-type {\n",
       "        vertical-align: middle;\n",
       "    }\n",
       "\n",
       "    .dataframe tbody tr th {\n",
       "        vertical-align: top;\n",
       "    }\n",
       "\n",
       "    .dataframe thead th {\n",
       "        text-align: right;\n",
       "    }\n",
       "</style>\n",
       "<table border=\"1\" class=\"dataframe\">\n",
       "  <thead>\n",
       "    <tr style=\"text-align: right;\">\n",
       "      <th>ages</th>\n",
       "      <th>10</th>\n",
       "      <th>20</th>\n",
       "      <th>30</th>\n",
       "      <th>40</th>\n",
       "      <th>50</th>\n",
       "      <th>60</th>\n",
       "      <th>70</th>\n",
       "    </tr>\n",
       "    <tr>\n",
       "      <th>book_title</th>\n",
       "      <th></th>\n",
       "      <th></th>\n",
       "      <th></th>\n",
       "      <th></th>\n",
       "      <th></th>\n",
       "      <th></th>\n",
       "      <th></th>\n",
       "    </tr>\n",
       "  </thead>\n",
       "  <tbody>\n",
       "    <tr>\n",
       "      <th>'salem's lot</th>\n",
       "      <td>0.0</td>\n",
       "      <td>0.0</td>\n",
       "      <td>4.0</td>\n",
       "      <td>1.0</td>\n",
       "      <td>0.0</td>\n",
       "      <td>0.0</td>\n",
       "      <td>0.0</td>\n",
       "    </tr>\n",
       "    <tr>\n",
       "      <th>10 lb. penalty</th>\n",
       "      <td>0.0</td>\n",
       "      <td>1.0</td>\n",
       "      <td>5.0</td>\n",
       "      <td>4.0</td>\n",
       "      <td>1.0</td>\n",
       "      <td>1.0</td>\n",
       "      <td>1.0</td>\n",
       "    </tr>\n",
       "    <tr>\n",
       "      <th>101 dalmatians</th>\n",
       "      <td>0.0</td>\n",
       "      <td>2.0</td>\n",
       "      <td>0.0</td>\n",
       "      <td>1.0</td>\n",
       "      <td>0.0</td>\n",
       "      <td>0.0</td>\n",
       "      <td>0.0</td>\n",
       "    </tr>\n",
       "    <tr>\n",
       "      <th>16 lighthouse road</th>\n",
       "      <td>1.0</td>\n",
       "      <td>1.0</td>\n",
       "      <td>6.0</td>\n",
       "      <td>3.0</td>\n",
       "      <td>2.0</td>\n",
       "      <td>0.0</td>\n",
       "      <td>0.0</td>\n",
       "    </tr>\n",
       "    <tr>\n",
       "      <th>1984</th>\n",
       "      <td>3.0</td>\n",
       "      <td>26.0</td>\n",
       "      <td>18.0</td>\n",
       "      <td>8.0</td>\n",
       "      <td>1.0</td>\n",
       "      <td>0.0</td>\n",
       "      <td>0.0</td>\n",
       "    </tr>\n",
       "    <tr>\n",
       "      <th>...</th>\n",
       "      <td>...</td>\n",
       "      <td>...</td>\n",
       "      <td>...</td>\n",
       "      <td>...</td>\n",
       "      <td>...</td>\n",
       "      <td>...</td>\n",
       "      <td>...</td>\n",
       "    </tr>\n",
       "    <tr>\n",
       "      <th>a stitch in time (needlecraft mysteries)</th>\n",
       "      <td>0.0</td>\n",
       "      <td>1.0</td>\n",
       "      <td>4.0</td>\n",
       "      <td>1.0</td>\n",
       "      <td>3.0</td>\n",
       "      <td>0.0</td>\n",
       "      <td>0.0</td>\n",
       "    </tr>\n",
       "    <tr>\n",
       "      <th>a streetcar named desire</th>\n",
       "      <td>1.0</td>\n",
       "      <td>7.0</td>\n",
       "      <td>3.0</td>\n",
       "      <td>0.0</td>\n",
       "      <td>1.0</td>\n",
       "      <td>0.0</td>\n",
       "      <td>0.0</td>\n",
       "    </tr>\n",
       "    <tr>\n",
       "      <th>a sudden change of heart</th>\n",
       "      <td>0.0</td>\n",
       "      <td>1.0</td>\n",
       "      <td>5.0</td>\n",
       "      <td>1.0</td>\n",
       "      <td>0.0</td>\n",
       "      <td>0.0</td>\n",
       "      <td>0.0</td>\n",
       "    </tr>\n",
       "    <tr>\n",
       "      <th>a suitable vengeance</th>\n",
       "      <td>0.0</td>\n",
       "      <td>0.0</td>\n",
       "      <td>4.0</td>\n",
       "      <td>1.0</td>\n",
       "      <td>2.0</td>\n",
       "      <td>0.0</td>\n",
       "      <td>0.0</td>\n",
       "    </tr>\n",
       "    <tr>\n",
       "      <th>a superior death</th>\n",
       "      <td>0.0</td>\n",
       "      <td>0.0</td>\n",
       "      <td>4.0</td>\n",
       "      <td>1.0</td>\n",
       "      <td>3.0</td>\n",
       "      <td>0.0</td>\n",
       "      <td>0.0</td>\n",
       "    </tr>\n",
       "  </tbody>\n",
       "</table>\n",
       "<p>100 rows × 7 columns</p>\n",
       "</div>"
      ]
     },
     "execution_count": 249,
     "metadata": {},
     "output_type": "execute_result"
    }
   ],
   "execution_count": 249
  },
  {
   "metadata": {
    "ExecuteTime": {
     "end_time": "2024-11-07T05:28:14.663976Z",
     "start_time": "2024-11-07T05:28:14.635018Z"
    }
   },
   "cell_type": "code",
   "source": [
    "from sklearn.metrics.pairwise import cosine_similarity\n",
    "ages_similarity=cosine_similarity(book_ages_df,book_ages_df)\n",
    "ages_similarity_df=pd.DataFrame(ages_similarity,index=ages_book_df.columns, columns=ages_book_df.columns)"
   ],
   "id": "6987c525daaeae04",
   "outputs": [],
   "execution_count": 250
  },
  {
   "metadata": {
    "ExecuteTime": {
     "end_time": "2024-11-07T05:28:14.712472Z",
     "start_time": "2024-11-07T05:28:14.708361Z"
    }
   },
   "cell_type": "code",
   "source": "ages_similarity_df.shape",
   "id": "d275a063e545f456",
   "outputs": [
    {
     "data": {
      "text/plain": [
       "(3450, 3450)"
      ]
     },
     "execution_count": 251,
     "metadata": {},
     "output_type": "execute_result"
    }
   ],
   "execution_count": 251
  },
  {
   "metadata": {},
   "cell_type": "markdown",
   "source": "#### user별 안 읽은 책 추천",
   "id": "6d848eef72b55f9b"
  },
  {
   "metadata": {
    "ExecuteTime": {
     "end_time": "2024-11-07T05:28:14.762149Z",
     "start_time": "2024-11-07T05:28:14.758776Z"
    }
   },
   "cell_type": "code",
   "source": [
    "def get_unseen_books(user_idx):\n",
    "    user_read_df=user_book_df.iloc[user_idx,:]\n",
    "    return user_read_df[user_read_df==0].index"
   ],
   "id": "66c8d6674c448d8b",
   "outputs": [],
   "execution_count": 252
  },
  {
   "metadata": {
    "ExecuteTime": {
     "end_time": "2024-11-07T05:28:14.925030Z",
     "start_time": "2024-11-07T05:28:14.921103Z"
    }
   },
   "cell_type": "code",
   "source": [
    "def ages_popular_book(user_idx):\n",
    "    user_ages=book_filter_df.iloc[user_idx][\"ages\"]\n",
    "ages_popular_book(176)"
   ],
   "id": "58bb8ecb66d11050",
   "outputs": [],
   "execution_count": 253
  },
  {
   "metadata": {
    "ExecuteTime": {
     "end_time": "2024-11-07T05:28:14.931921Z",
     "start_time": "2024-11-07T05:28:14.929033Z"
    }
   },
   "cell_type": "code",
   "source": "",
   "id": "3338030820579882",
   "outputs": [],
   "execution_count": null
  }
 ],
 "metadata": {
  "kernelspec": {
   "display_name": "Python 3",
   "language": "python",
   "name": "python3"
  },
  "language_info": {
   "codemirror_mode": {
    "name": "ipython",
    "version": 2
   },
   "file_extension": ".py",
   "mimetype": "text/x-python",
   "name": "python",
   "nbconvert_exporter": "python",
   "pygments_lexer": "ipython2",
   "version": "2.7.6"
  }
 },
 "nbformat": 4,
 "nbformat_minor": 5
}
