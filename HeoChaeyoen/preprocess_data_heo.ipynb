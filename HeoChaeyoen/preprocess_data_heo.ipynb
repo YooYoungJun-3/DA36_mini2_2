{
 "cells": [
  {
   "cell_type": "code",
   "id": "initial_id",
   "metadata": {
    "collapsed": true,
    "ExecuteTime": {
     "end_time": "2024-11-07T09:40:30.813582Z",
     "start_time": "2024-11-07T09:40:30.808988Z"
    }
   },
   "source": [
    "import pandas as pd\n",
    "import numpy as np\n",
    "import matplotlib.pyplot as plt\n",
    "import seaborn as sns\n",
    "from catboost.carry import carry"
   ],
   "outputs": [],
   "execution_count": 105
  },
  {
   "metadata": {},
   "cell_type": "markdown",
   "source": [
    "#### 데이터 전처리\n",
    "- kaggle dataset "
   ],
   "id": "7ebc78c0a259c775"
  },
  {
   "metadata": {
    "ExecuteTime": {
     "end_time": "2024-11-07T09:40:35.268524Z",
     "start_time": "2024-11-07T09:40:30.825053Z"
    }
   },
   "cell_type": "code",
   "source": "book_df=pd.read_csv('book_review_data.csv')",
   "id": "c5b6e4a98a06dfbe",
   "outputs": [],
   "execution_count": 106
  },
  {
   "metadata": {
    "ExecuteTime": {
     "end_time": "2024-11-07T09:40:35.487252Z",
     "start_time": "2024-11-07T09:40:35.348807Z"
    }
   },
   "cell_type": "code",
   "source": [
    "# 1) 필요한 컬럼 도출\n",
    "# 2) 형변환 (float > int)\n",
    "\n",
    "book_df=book_df[['user_id',\"age\",\"rating\",\"book_title\",'book_author','year_of_publication','img_m','Summary','Category','country','Language']]\n",
    "book_df[['age',\"year_of_publication\"]]=book_df[['age',\"year_of_publication\"]].astype(int)"
   ],
   "id": "a91a7feaa0d36a4a",
   "outputs": [],
   "execution_count": 107
  },
  {
   "metadata": {
    "ExecuteTime": {
     "end_time": "2024-11-07T09:40:35.782520Z",
     "start_time": "2024-11-07T09:40:35.550026Z"
    }
   },
   "cell_type": "code",
   "source": [
    "# 최소 평가 개수 ( 평가가 30개보다 많은 책만 추출 )\n",
    "counts=book_df['book_title'].value_counts()\n",
    "title = counts[counts > 30].index\n",
    "book_filter_df=book_df[book_df['book_title'].isin(title)]\n"
   ],
   "id": "538437861c6b56cb",
   "outputs": [],
   "execution_count": 108
  },
  {
   "metadata": {
    "ExecuteTime": {
     "end_time": "2024-11-07T09:40:35.909253Z",
     "start_time": "2024-11-07T09:40:35.856843Z"
    }
   },
   "cell_type": "code",
   "source": [
    "# 최소 평가 개수 ( 평가가 20개보다 많은 사용자만 추출 )\n",
    "counts=book_filter_df[\"user_id\"].value_counts()\n",
    "user_id_=counts[counts>10].index\n",
    "book_filter_df = book_filter_df[book_filter_df['user_id'].isin(user_id_)]"
   ],
   "id": "394e64cd0b88a858",
   "outputs": [],
   "execution_count": 109
  },
  {
   "metadata": {
    "ExecuteTime": {
     "end_time": "2024-11-07T09:40:36.019562Z",
     "start_time": "2024-11-07T09:40:35.971415Z"
    }
   },
   "cell_type": "code",
   "source": [
    "# 무의미한 0점 평가 제거\n",
    "rating_zero=book_filter_df[book_filter_df['rating']==0].index\n",
    "book_filter_df.drop(rating_zero, axis=0, inplace=True)"
   ],
   "id": "8da03a2eae0c9e69",
   "outputs": [],
   "execution_count": 110
  },
  {
   "metadata": {
    "ExecuteTime": {
     "end_time": "2024-11-07T09:40:36.181648Z",
     "start_time": "2024-11-07T09:40:36.082115Z"
    }
   },
   "cell_type": "code",
   "source": [
    "# 한 카테고리안에 책이 5권 미만인 경우 제거\n",
    "counts=book_filter_df[\"Category\"].value_counts()\n",
    "categories = counts[counts > 5].index\n",
    "idx=book_filter_df[book_filter_df['Category']=='9'].index\n",
    "book_filter_df.drop(idx, axis=0, inplace=True)\n",
    "book_filter_df = book_filter_df[book_filter_df['Category'].isin(categories)]\n",
    "\n",
    "idx=book_filter_df[book_filter_df[\"Summary\"]=='9'].index\n",
    "book_filter_df.drop(idx,axis=0,inplace=True)\n",
    "\n",
    "\n",
    "book_filter_df[\"Category\"]=book_filter_df['Category'].str.lower()\n",
    "book_filter_df[\"book_title\"]=book_filter_df['book_title'].str.lower()\n",
    "book_filter_df[\"Summary\"]=book_filter_df[\"Summary\"].str.lower()\n",
    "book_filter_df[\"book_author\"]=book_filter_df[\"book_author\"].str.lower()\n",
    "book_filter_df[\"book_author\"]=book_filter_df[\"book_author\"].str.replace(\" \",\"\")\n",
    "book_filter_df[\"book_author\"]=book_filter_df[\"book_author\"].str.replace(\".\",\"\")"
   ],
   "id": "b779c5ab7eb237d7",
   "outputs": [],
   "execution_count": 111
  },
  {
   "metadata": {
    "ExecuteTime": {
     "end_time": "2024-11-07T09:40:36.271697Z",
     "start_time": "2024-11-07T09:40:36.258269Z"
    }
   },
   "cell_type": "code",
   "source": [
    "book_filter_df.shape\n",
    "len(book_filter_df['book_title'].unique())"
   ],
   "id": "2d6073259aeb1ef",
   "outputs": [
    {
     "data": {
      "text/plain": [
       "3442"
      ]
     },
     "execution_count": 112,
     "metadata": {},
     "output_type": "execute_result"
    }
   ],
   "execution_count": 112
  },
  {
   "metadata": {},
   "cell_type": "markdown",
   "source": "#### category 대분류 만들기",
   "id": "26b7a18a8378b83c"
  },
  {
   "metadata": {
    "ExecuteTime": {
     "end_time": "2024-11-07T09:40:36.440922Z",
     "start_time": "2024-11-07T09:40:36.344218Z"
    }
   },
   "cell_type": "code",
   "source": [
    "def categorize(categories):\n",
    "    if \"nonfiction\" in categories:\n",
    "        return \"nonfic\"\n",
    "    elif any(word in categories for word in [\"fiction\",\"fictitious\"]):\n",
    "        return \"fiction\"\n",
    "    elif any(word in categories for word in ['lovely',\"behavior\",\"entertain\",\"book\",\"read\",\"choco\",\"relation\",\"actor\",\"comic\",\"drama\",\"travel\",\"liter\",\"humor\",\"life\",\"cooking\", \"art\", \"poetry\",'philosophy',\"community\",\"character\",\"courtship\",\"geishas\",\"bildung\",\"christmas\",\"boy\"]):\n",
    "        return 'culture'\n",
    "    elif any(word in categories for word in [\"children\", \"child\",\"adolescence\",\"school\"]):\n",
    "        return \"child\"\n",
    "    elif any(word in categories for word in ['famil','aunts','cousin','fathers', 'mothers', 'parents', 'marriage', 'brothers', 'sisters', 'divorced', 'relationship','adult','abortion',\"sex\",\"married\",'orphan','wives']):\n",
    "        return \"family\"\n",
    "    elif any(word in categories for word in ['church', 'christian', 'religion','jerusalem','apologetics']):\n",
    "        return \"religion\"\n",
    "    elif any(word in categories for word in ['dragons', 'aliens', 'imaginary', 'planet', 'adventure','fantasy','spirit']):\n",
    "        return \"sf\"\n",
    "    elif any(word in categories for word in ['pets', 'dogs', 'animals','cats']):\n",
    "        return \"animals\"\n",
    "    elif any(word in categories for word in [\"history\", \"regions\", \"england\", \"california\", \"boston\", \"brooklyn\", \"africa\", \"chicago\", \"france\", \"american\",\"cornwall\", \"amsterdam\", \"cape cod\", \"capitalists\",\"britain\",\"indian\",\"middle west\",\"town\",\"soldier\",\"baltimore\",\"amerikan\",\"british\"]):\n",
    "        return \"history\"\n",
    "    elif any(word in categories for word in [\"science\", \"computers\", \"intelligence\", \"medical\", \"health\", \"medical\", \"engineers\", \"automotives\", \"management\",\"bio\",\"nature\",\"mental\",\"social\",\"psychology\",\"archit\",\"reference\",\"compulsive\",\"medica\",\"vet\",\"auto\",\"cancer\"]):\n",
    "        return \"sci&tech\"\n",
    "    elif any(word in categories for word in [\"mystery\", \"crime\", \"haunted\", \"horror\", \"murder\",\"burglar\",\"accidents\",\"death\",\"assassins\",'conspiracies']):\n",
    "        return \"mystery\"\n",
    "    elif any(word in categories for word in [\"econo\",\"business\",\"law\"]):\n",
    "        return \"e&b\"\n",
    "    elif any(word in categories for word in [\"self-help\",\"audio\",\"brewing\",\"kindness\",\"avarice\",'curious']):\n",
    "        return \"etc\"\n",
    "\n",
    "book_filter_df[\"L_Category\"]=book_filter_df[\"Category\"].apply(categorize)"
   ],
   "id": "d4fbecb5c526e2cd",
   "outputs": [],
   "execution_count": 113
  },
  {
   "metadata": {
    "ExecuteTime": {
     "end_time": "2024-11-07T09:40:36.518557Z",
     "start_time": "2024-11-07T09:40:36.508204Z"
    }
   },
   "cell_type": "code",
   "source": "book_filter_df.head()",
   "id": "bd2f217549acfb08",
   "outputs": [
    {
     "data": {
      "text/plain": [
       "    user_id  age  rating              book_title book_author  \\\n",
       "31    11676   34       9  the kitchen god's wife      amytan   \n",
       "32    29526   26       9  the kitchen god's wife      amytan   \n",
       "34    46398   37       9  the kitchen god's wife      amytan   \n",
       "36    49635   34       9  the kitchen god's wife      amytan   \n",
       "42   148712   34      10  the kitchen god's wife      amytan   \n",
       "\n",
       "    year_of_publication                                              img_m  \\\n",
       "31                 1991  http://images.amazon.com/images/P/0399135782.0...   \n",
       "32                 1991  http://images.amazon.com/images/P/0399135782.0...   \n",
       "34                 1991  http://images.amazon.com/images/P/0399135782.0...   \n",
       "36                 1991  http://images.amazon.com/images/P/0399135782.0...   \n",
       "42                 1991  http://images.amazon.com/images/P/0399135782.0...   \n",
       "\n",
       "                                              Summary     Category country  \\\n",
       "31  a chinese immigrant who is convinced she is dy...  ['fiction']     NaN   \n",
       "32  a chinese immigrant who is convinced she is dy...  ['fiction']     usa   \n",
       "34  a chinese immigrant who is convinced she is dy...  ['fiction']     usa   \n",
       "36  a chinese immigrant who is convinced she is dy...  ['fiction']     usa   \n",
       "42  a chinese immigrant who is convinced she is dy...  ['fiction']     usa   \n",
       "\n",
       "   Language L_Category  \n",
       "31       en    fiction  \n",
       "32       en    fiction  \n",
       "34       en    fiction  \n",
       "36       en    fiction  \n",
       "42       en    fiction  "
      ],
      "text/html": [
       "<div>\n",
       "<style scoped>\n",
       "    .dataframe tbody tr th:only-of-type {\n",
       "        vertical-align: middle;\n",
       "    }\n",
       "\n",
       "    .dataframe tbody tr th {\n",
       "        vertical-align: top;\n",
       "    }\n",
       "\n",
       "    .dataframe thead th {\n",
       "        text-align: right;\n",
       "    }\n",
       "</style>\n",
       "<table border=\"1\" class=\"dataframe\">\n",
       "  <thead>\n",
       "    <tr style=\"text-align: right;\">\n",
       "      <th></th>\n",
       "      <th>user_id</th>\n",
       "      <th>age</th>\n",
       "      <th>rating</th>\n",
       "      <th>book_title</th>\n",
       "      <th>book_author</th>\n",
       "      <th>year_of_publication</th>\n",
       "      <th>img_m</th>\n",
       "      <th>Summary</th>\n",
       "      <th>Category</th>\n",
       "      <th>country</th>\n",
       "      <th>Language</th>\n",
       "      <th>L_Category</th>\n",
       "    </tr>\n",
       "  </thead>\n",
       "  <tbody>\n",
       "    <tr>\n",
       "      <th>31</th>\n",
       "      <td>11676</td>\n",
       "      <td>34</td>\n",
       "      <td>9</td>\n",
       "      <td>the kitchen god's wife</td>\n",
       "      <td>amytan</td>\n",
       "      <td>1991</td>\n",
       "      <td>http://images.amazon.com/images/P/0399135782.0...</td>\n",
       "      <td>a chinese immigrant who is convinced she is dy...</td>\n",
       "      <td>['fiction']</td>\n",
       "      <td>NaN</td>\n",
       "      <td>en</td>\n",
       "      <td>fiction</td>\n",
       "    </tr>\n",
       "    <tr>\n",
       "      <th>32</th>\n",
       "      <td>29526</td>\n",
       "      <td>26</td>\n",
       "      <td>9</td>\n",
       "      <td>the kitchen god's wife</td>\n",
       "      <td>amytan</td>\n",
       "      <td>1991</td>\n",
       "      <td>http://images.amazon.com/images/P/0399135782.0...</td>\n",
       "      <td>a chinese immigrant who is convinced she is dy...</td>\n",
       "      <td>['fiction']</td>\n",
       "      <td>usa</td>\n",
       "      <td>en</td>\n",
       "      <td>fiction</td>\n",
       "    </tr>\n",
       "    <tr>\n",
       "      <th>34</th>\n",
       "      <td>46398</td>\n",
       "      <td>37</td>\n",
       "      <td>9</td>\n",
       "      <td>the kitchen god's wife</td>\n",
       "      <td>amytan</td>\n",
       "      <td>1991</td>\n",
       "      <td>http://images.amazon.com/images/P/0399135782.0...</td>\n",
       "      <td>a chinese immigrant who is convinced she is dy...</td>\n",
       "      <td>['fiction']</td>\n",
       "      <td>usa</td>\n",
       "      <td>en</td>\n",
       "      <td>fiction</td>\n",
       "    </tr>\n",
       "    <tr>\n",
       "      <th>36</th>\n",
       "      <td>49635</td>\n",
       "      <td>34</td>\n",
       "      <td>9</td>\n",
       "      <td>the kitchen god's wife</td>\n",
       "      <td>amytan</td>\n",
       "      <td>1991</td>\n",
       "      <td>http://images.amazon.com/images/P/0399135782.0...</td>\n",
       "      <td>a chinese immigrant who is convinced she is dy...</td>\n",
       "      <td>['fiction']</td>\n",
       "      <td>usa</td>\n",
       "      <td>en</td>\n",
       "      <td>fiction</td>\n",
       "    </tr>\n",
       "    <tr>\n",
       "      <th>42</th>\n",
       "      <td>148712</td>\n",
       "      <td>34</td>\n",
       "      <td>10</td>\n",
       "      <td>the kitchen god's wife</td>\n",
       "      <td>amytan</td>\n",
       "      <td>1991</td>\n",
       "      <td>http://images.amazon.com/images/P/0399135782.0...</td>\n",
       "      <td>a chinese immigrant who is convinced she is dy...</td>\n",
       "      <td>['fiction']</td>\n",
       "      <td>usa</td>\n",
       "      <td>en</td>\n",
       "      <td>fiction</td>\n",
       "    </tr>\n",
       "  </tbody>\n",
       "</table>\n",
       "</div>"
      ]
     },
     "execution_count": 114,
     "metadata": {},
     "output_type": "execute_result"
    }
   ],
   "execution_count": 114
  },
  {
   "metadata": {},
   "cell_type": "markdown",
   "source": "#### user_book_rating dataframe",
   "id": "9e240d4c93668c34"
  },
  {
   "metadata": {
    "ExecuteTime": {
     "end_time": "2024-11-07T09:40:36.882461Z",
     "start_time": "2024-11-07T09:40:36.608769Z"
    }
   },
   "cell_type": "code",
   "source": [
    "user_book_df=book_filter_df.pivot_table(index='user_id',columns='book_title',values='rating',fill_value=0)\n",
    "book_user_df=user_book_df.T\n",
    "user_book_df.shape # user간 유사도 구할거 아니니까"
   ],
   "id": "27a4ecd611c9f240",
   "outputs": [
    {
     "data": {
      "text/plain": [
       "(4835, 3442)"
      ]
     },
     "execution_count": 115,
     "metadata": {},
     "output_type": "execute_result"
    }
   ],
   "execution_count": 115
  },
  {
   "metadata": {
    "ExecuteTime": {
     "end_time": "2024-11-07T09:40:36.918435Z",
     "start_time": "2024-11-07T09:40:36.910444Z"
    }
   },
   "cell_type": "code",
   "source": "user_book_df.iloc[55].sort_values(ascending=False)[:10]",
   "id": "ad73a8291a2fff5e",
   "outputs": [
    {
     "data": {
      "text/plain": [
       "book_title\n",
       "thinner                                                                     8.0\n",
       "christine                                                                   8.0\n",
       "cujo                                                                        6.0\n",
       "stupid white men ...and other sorry excuses for the state of the nation!    6.0\n",
       "'salem's lot                                                                0.0\n",
       "sweet anger                                                                 0.0\n",
       "sundiver (the uplift saga, book 1)                                          0.0\n",
       "sunset in st. tropez                                                        0.0\n",
       "superfudge (yearling books (paperback))                                     0.0\n",
       "superstitious                                                               0.0\n",
       "Name: 4334, dtype: float64"
      ]
     },
     "execution_count": 116,
     "metadata": {},
     "output_type": "execute_result"
    }
   ],
   "execution_count": 116
  },
  {
   "metadata": {},
   "cell_type": "markdown",
   "source": "#### age_title_count dataframe",
   "id": "fc30f1dca0d21f9e"
  },
  {
   "metadata": {
    "ExecuteTime": {
     "end_time": "2024-11-07T09:40:36.986323Z",
     "start_time": "2024-11-07T09:40:36.979196Z"
    }
   },
   "cell_type": "code",
   "source": "book_filter_df[\"age\"].value_counts()",
   "id": "b19b1497e1710b5e",
   "outputs": [
    {
     "data": {
      "text/plain": [
       "age\n",
       "34    16793\n",
       "33     1876\n",
       "29     1699\n",
       "28     1681\n",
       "32     1580\n",
       "      ...  \n",
       "76        6\n",
       "11        5\n",
       "84        5\n",
       "10        3\n",
       "97        2\n",
       "Name: count, Length: 78, dtype: int64"
      ]
     },
     "execution_count": 117,
     "metadata": {},
     "output_type": "execute_result"
    }
   ],
   "execution_count": 117
  },
  {
   "metadata": {
    "ExecuteTime": {
     "end_time": "2024-11-07T09:40:37.080043Z",
     "start_time": "2024-11-07T09:40:37.075144Z"
    }
   },
   "cell_type": "code",
   "source": [
    "def make_ages(age):\n",
    "    if 10<=age<20:\n",
    "        return 10\n",
    "    elif 20<=age<30:\n",
    "        return 20\n",
    "    elif 30<=age<40:\n",
    "        return 30\n",
    "    elif 40<=age<50:\n",
    "        return 40\n",
    "    elif 50<=age<60:\n",
    "        return 50\n",
    "    elif 60<=age<70:\n",
    "        return 60\n",
    "    else:\n",
    "        return 70"
   ],
   "id": "5c222ce5cf52ff8d",
   "outputs": [],
   "execution_count": 118
  },
  {
   "metadata": {
    "ExecuteTime": {
     "end_time": "2024-11-07T09:40:37.163845Z",
     "start_time": "2024-11-07T09:40:37.139397Z"
    }
   },
   "cell_type": "code",
   "source": "book_filter_df['ages'] = book_filter_df['age'].apply(make_ages)",
   "id": "5e4bb23935af805a",
   "outputs": [],
   "execution_count": 119
  },
  {
   "metadata": {
    "ExecuteTime": {
     "end_time": "2024-11-07T09:40:37.205677Z",
     "start_time": "2024-11-07T09:40:37.185009Z"
    }
   },
   "cell_type": "code",
   "source": "ages_book_=book_filter_df.groupby(['ages','book_title']).size().reset_index(name='count')",
   "id": "c3157ad7d03f7a60",
   "outputs": [],
   "execution_count": 120
  },
  {
   "metadata": {
    "ExecuteTime": {
     "end_time": "2024-11-07T09:40:37.300781Z",
     "start_time": "2024-11-07T09:40:37.280502Z"
    }
   },
   "cell_type": "code",
   "source": [
    "ages_book_df=ages_book_.pivot_table(index='ages',columns='book_title',values='count',fill_value=0)\n",
    "book_ages_df=ages_book_df.T\n",
    "book_ages_df[:100]"
   ],
   "id": "3ba5858d68532ae5",
   "outputs": [
    {
     "data": {
      "text/plain": [
       "ages                       10    20    30   40   50   60   70\n",
       "book_title                                                   \n",
       "'salem's lot              0.0   0.0   4.0  1.0  0.0  0.0  0.0\n",
       "10 lb. penalty            0.0   1.0   5.0  4.0  1.0  1.0  1.0\n",
       "101 dalmatians            0.0   2.0   0.0  1.0  0.0  0.0  0.0\n",
       "16 lighthouse road        1.0   1.0   6.0  3.0  2.0  0.0  0.0\n",
       "1984                      3.0  26.0  18.0  8.0  1.0  0.0  0.0\n",
       "...                       ...   ...   ...  ...  ...  ...  ...\n",
       "a streetcar named desire  1.0   7.0   3.0  0.0  1.0  0.0  0.0\n",
       "a sudden change of heart  0.0   1.0   5.0  1.0  0.0  0.0  0.0\n",
       "a suitable vengeance      0.0   0.0   4.0  1.0  2.0  0.0  0.0\n",
       "a superior death          0.0   0.0   4.0  1.0  3.0  0.0  0.0\n",
       "a swiftly tilting planet  1.0   6.0   7.0  1.0  0.0  0.0  0.0\n",
       "\n",
       "[100 rows x 7 columns]"
      ],
      "text/html": [
       "<div>\n",
       "<style scoped>\n",
       "    .dataframe tbody tr th:only-of-type {\n",
       "        vertical-align: middle;\n",
       "    }\n",
       "\n",
       "    .dataframe tbody tr th {\n",
       "        vertical-align: top;\n",
       "    }\n",
       "\n",
       "    .dataframe thead th {\n",
       "        text-align: right;\n",
       "    }\n",
       "</style>\n",
       "<table border=\"1\" class=\"dataframe\">\n",
       "  <thead>\n",
       "    <tr style=\"text-align: right;\">\n",
       "      <th>ages</th>\n",
       "      <th>10</th>\n",
       "      <th>20</th>\n",
       "      <th>30</th>\n",
       "      <th>40</th>\n",
       "      <th>50</th>\n",
       "      <th>60</th>\n",
       "      <th>70</th>\n",
       "    </tr>\n",
       "    <tr>\n",
       "      <th>book_title</th>\n",
       "      <th></th>\n",
       "      <th></th>\n",
       "      <th></th>\n",
       "      <th></th>\n",
       "      <th></th>\n",
       "      <th></th>\n",
       "      <th></th>\n",
       "    </tr>\n",
       "  </thead>\n",
       "  <tbody>\n",
       "    <tr>\n",
       "      <th>'salem's lot</th>\n",
       "      <td>0.0</td>\n",
       "      <td>0.0</td>\n",
       "      <td>4.0</td>\n",
       "      <td>1.0</td>\n",
       "      <td>0.0</td>\n",
       "      <td>0.0</td>\n",
       "      <td>0.0</td>\n",
       "    </tr>\n",
       "    <tr>\n",
       "      <th>10 lb. penalty</th>\n",
       "      <td>0.0</td>\n",
       "      <td>1.0</td>\n",
       "      <td>5.0</td>\n",
       "      <td>4.0</td>\n",
       "      <td>1.0</td>\n",
       "      <td>1.0</td>\n",
       "      <td>1.0</td>\n",
       "    </tr>\n",
       "    <tr>\n",
       "      <th>101 dalmatians</th>\n",
       "      <td>0.0</td>\n",
       "      <td>2.0</td>\n",
       "      <td>0.0</td>\n",
       "      <td>1.0</td>\n",
       "      <td>0.0</td>\n",
       "      <td>0.0</td>\n",
       "      <td>0.0</td>\n",
       "    </tr>\n",
       "    <tr>\n",
       "      <th>16 lighthouse road</th>\n",
       "      <td>1.0</td>\n",
       "      <td>1.0</td>\n",
       "      <td>6.0</td>\n",
       "      <td>3.0</td>\n",
       "      <td>2.0</td>\n",
       "      <td>0.0</td>\n",
       "      <td>0.0</td>\n",
       "    </tr>\n",
       "    <tr>\n",
       "      <th>1984</th>\n",
       "      <td>3.0</td>\n",
       "      <td>26.0</td>\n",
       "      <td>18.0</td>\n",
       "      <td>8.0</td>\n",
       "      <td>1.0</td>\n",
       "      <td>0.0</td>\n",
       "      <td>0.0</td>\n",
       "    </tr>\n",
       "    <tr>\n",
       "      <th>...</th>\n",
       "      <td>...</td>\n",
       "      <td>...</td>\n",
       "      <td>...</td>\n",
       "      <td>...</td>\n",
       "      <td>...</td>\n",
       "      <td>...</td>\n",
       "      <td>...</td>\n",
       "    </tr>\n",
       "    <tr>\n",
       "      <th>a streetcar named desire</th>\n",
       "      <td>1.0</td>\n",
       "      <td>7.0</td>\n",
       "      <td>3.0</td>\n",
       "      <td>0.0</td>\n",
       "      <td>1.0</td>\n",
       "      <td>0.0</td>\n",
       "      <td>0.0</td>\n",
       "    </tr>\n",
       "    <tr>\n",
       "      <th>a sudden change of heart</th>\n",
       "      <td>0.0</td>\n",
       "      <td>1.0</td>\n",
       "      <td>5.0</td>\n",
       "      <td>1.0</td>\n",
       "      <td>0.0</td>\n",
       "      <td>0.0</td>\n",
       "      <td>0.0</td>\n",
       "    </tr>\n",
       "    <tr>\n",
       "      <th>a suitable vengeance</th>\n",
       "      <td>0.0</td>\n",
       "      <td>0.0</td>\n",
       "      <td>4.0</td>\n",
       "      <td>1.0</td>\n",
       "      <td>2.0</td>\n",
       "      <td>0.0</td>\n",
       "      <td>0.0</td>\n",
       "    </tr>\n",
       "    <tr>\n",
       "      <th>a superior death</th>\n",
       "      <td>0.0</td>\n",
       "      <td>0.0</td>\n",
       "      <td>4.0</td>\n",
       "      <td>1.0</td>\n",
       "      <td>3.0</td>\n",
       "      <td>0.0</td>\n",
       "      <td>0.0</td>\n",
       "    </tr>\n",
       "    <tr>\n",
       "      <th>a swiftly tilting planet</th>\n",
       "      <td>1.0</td>\n",
       "      <td>6.0</td>\n",
       "      <td>7.0</td>\n",
       "      <td>1.0</td>\n",
       "      <td>0.0</td>\n",
       "      <td>0.0</td>\n",
       "      <td>0.0</td>\n",
       "    </tr>\n",
       "  </tbody>\n",
       "</table>\n",
       "<p>100 rows × 7 columns</p>\n",
       "</div>"
      ]
     },
     "execution_count": 121,
     "metadata": {},
     "output_type": "execute_result"
    }
   ],
   "execution_count": 121
  },
  {
   "metadata": {
    "ExecuteTime": {
     "end_time": "2024-11-07T09:40:37.425580Z",
     "start_time": "2024-11-07T09:40:37.398366Z"
    }
   },
   "cell_type": "code",
   "source": [
    "from sklearn.metrics.pairwise import cosine_similarity\n",
    "ages_similarity=cosine_similarity(book_ages_df,book_ages_df)\n",
    "ages_similarity_df=pd.DataFrame(ages_similarity,index=ages_book_df.columns, columns=ages_book_df.columns)"
   ],
   "id": "6987c525daaeae04",
   "outputs": [],
   "execution_count": 122
  },
  {
   "metadata": {
    "ExecuteTime": {
     "end_time": "2024-11-07T09:40:37.480352Z",
     "start_time": "2024-11-07T09:40:37.475446Z"
    }
   },
   "cell_type": "code",
   "source": "ages_similarity_df.shape",
   "id": "d275a063e545f456",
   "outputs": [
    {
     "data": {
      "text/plain": [
       "(3442, 3442)"
      ]
     },
     "execution_count": 123,
     "metadata": {},
     "output_type": "execute_result"
    }
   ],
   "execution_count": 123
  },
  {
   "metadata": {},
   "cell_type": "markdown",
   "source": "#### user별 안 읽은 책 추천",
   "id": "6d848eef72b55f9b"
  },
  {
   "metadata": {
    "ExecuteTime": {
     "end_time": "2024-11-07T09:40:37.537597Z",
     "start_time": "2024-11-07T09:40:37.534632Z"
    }
   },
   "cell_type": "code",
   "source": [
    "def get_unseen_books(user_idx):\n",
    "    user_read_df=user_book_df.loc[user_idx,:]\n",
    "    return user_read_df[user_read_df==0].index"
   ],
   "id": "66c8d6674c448d8b",
   "outputs": [],
   "execution_count": 124
  },
  {
   "metadata": {
    "ExecuteTime": {
     "end_time": "2024-11-07T09:40:37.629429Z",
     "start_time": "2024-11-07T09:40:37.626438Z"
    }
   },
   "cell_type": "code",
   "source": [
    "def user_fav_book(user_idx):\n",
    "    user_ages=pd.DataFrame(book_filter_df[book_filter_df['user_id']==user_idx])\n",
    "    user_ages.sort_values(by='rating',ascending=False,inplace=True)\n",
    "    user_favorite_book=user_ages.iloc[0]['book_title']\n",
    "    print(user_favorite_book)\n",
    "    return user_favorite_book"
   ],
   "id": "58bb8ecb66d11050",
   "outputs": [],
   "execution_count": 125
  },
  {
   "metadata": {
    "ExecuteTime": {
     "end_time": "2024-11-07T09:40:57.518991Z",
     "start_time": "2024-11-07T09:40:57.506601Z"
    }
   },
   "cell_type": "code",
   "source": [
    "def predict_books(user_idx):\n",
    "    unseen_idx=get_unseen_books(user_idx)\n",
    "    fav_idx=user_fav_book(user_idx)\n",
    "    temp=ages_similarity_df.loc[fav_idx][unseen_idx].sort_values(ascending=False)\n",
    "    return temp\n",
    "predict_books(29526)"
   ],
   "id": "3338030820579882",
   "outputs": [
    {
     "name": "stdout",
     "output_type": "stream",
     "text": [
      "bridget jones's diary\n"
     ]
    },
    {
     "data": {
      "text/plain": [
       "book_title\n",
       "wicked: the life and times of the wicked witch of the west       0.999275\n",
       "what should i do with my life?                                   0.999116\n",
       "more than you know: a novel                                      0.999116\n",
       "chronicle of a death foretold                                    0.999116\n",
       "kiss my tiara : how to rule the world as a smartmouth goddess    0.999116\n",
       "                                                                   ...   \n",
       "travels                                                          0.015175\n",
       "eternity                                                         0.015175\n",
       "the bride                                                        0.015175\n",
       "minotaur                                                         0.007588\n",
       "strong medicine                                                  0.000000\n",
       "Name: bridget jones's diary, Length: 3404, dtype: float64"
      ]
     },
     "execution_count": 130,
     "metadata": {},
     "output_type": "execute_result"
    }
   ],
   "execution_count": 130
  },
  {
   "metadata": {},
   "cell_type": "markdown",
   "source": "#### 작가별 평점유사도",
   "id": "9157df0d64b798a2"
  },
  {
   "metadata": {
    "ExecuteTime": {
     "end_time": "2024-11-07T09:40:37.908207Z",
     "start_time": "2024-11-07T09:40:37.869843Z"
    }
   },
   "cell_type": "code",
   "source": [
    "# user별 작가 평점으로 평균내기\n",
    "bm_df = book_filter_df.groupby(['user_id', 'book_author'])['rating'].mean().reset_index()\n",
    "print(bm_df.shape)\n",
    "bm_df=bm_df.rename(columns={'rating':'author_mean_rating'})\n",
    "bm_df"
   ],
   "id": "c6dfc1fd53bda956",
   "outputs": [
    {
     "name": "stdout",
     "output_type": "stream",
     "text": [
      "(43044, 3)\n"
     ]
    },
    {
     "data": {
      "text/plain": [
       "       user_id     book_author  author_mean_rating\n",
       "0          243    arthurgolden                10.0\n",
       "1          243    arundhatiroy                 7.0\n",
       "2          243      belvaplain                 6.0\n",
       "3          243    jackcanfield                 5.0\n",
       "4          243    janehamilton                 7.0\n",
       "...        ...             ...                 ...\n",
       "43039   278843       jkrowling                 8.0\n",
       "43040   278843     maevebinchy                 7.0\n",
       "43041   278843    rebeccawells                 7.0\n",
       "43042   278843  richardcarlson                 8.0\n",
       "43043   278843      timo'brien                 9.0\n",
       "\n",
       "[43044 rows x 3 columns]"
      ],
      "text/html": [
       "<div>\n",
       "<style scoped>\n",
       "    .dataframe tbody tr th:only-of-type {\n",
       "        vertical-align: middle;\n",
       "    }\n",
       "\n",
       "    .dataframe tbody tr th {\n",
       "        vertical-align: top;\n",
       "    }\n",
       "\n",
       "    .dataframe thead th {\n",
       "        text-align: right;\n",
       "    }\n",
       "</style>\n",
       "<table border=\"1\" class=\"dataframe\">\n",
       "  <thead>\n",
       "    <tr style=\"text-align: right;\">\n",
       "      <th></th>\n",
       "      <th>user_id</th>\n",
       "      <th>book_author</th>\n",
       "      <th>author_mean_rating</th>\n",
       "    </tr>\n",
       "  </thead>\n",
       "  <tbody>\n",
       "    <tr>\n",
       "      <th>0</th>\n",
       "      <td>243</td>\n",
       "      <td>arthurgolden</td>\n",
       "      <td>10.0</td>\n",
       "    </tr>\n",
       "    <tr>\n",
       "      <th>1</th>\n",
       "      <td>243</td>\n",
       "      <td>arundhatiroy</td>\n",
       "      <td>7.0</td>\n",
       "    </tr>\n",
       "    <tr>\n",
       "      <th>2</th>\n",
       "      <td>243</td>\n",
       "      <td>belvaplain</td>\n",
       "      <td>6.0</td>\n",
       "    </tr>\n",
       "    <tr>\n",
       "      <th>3</th>\n",
       "      <td>243</td>\n",
       "      <td>jackcanfield</td>\n",
       "      <td>5.0</td>\n",
       "    </tr>\n",
       "    <tr>\n",
       "      <th>4</th>\n",
       "      <td>243</td>\n",
       "      <td>janehamilton</td>\n",
       "      <td>7.0</td>\n",
       "    </tr>\n",
       "    <tr>\n",
       "      <th>...</th>\n",
       "      <td>...</td>\n",
       "      <td>...</td>\n",
       "      <td>...</td>\n",
       "    </tr>\n",
       "    <tr>\n",
       "      <th>43039</th>\n",
       "      <td>278843</td>\n",
       "      <td>jkrowling</td>\n",
       "      <td>8.0</td>\n",
       "    </tr>\n",
       "    <tr>\n",
       "      <th>43040</th>\n",
       "      <td>278843</td>\n",
       "      <td>maevebinchy</td>\n",
       "      <td>7.0</td>\n",
       "    </tr>\n",
       "    <tr>\n",
       "      <th>43041</th>\n",
       "      <td>278843</td>\n",
       "      <td>rebeccawells</td>\n",
       "      <td>7.0</td>\n",
       "    </tr>\n",
       "    <tr>\n",
       "      <th>43042</th>\n",
       "      <td>278843</td>\n",
       "      <td>richardcarlson</td>\n",
       "      <td>8.0</td>\n",
       "    </tr>\n",
       "    <tr>\n",
       "      <th>43043</th>\n",
       "      <td>278843</td>\n",
       "      <td>timo'brien</td>\n",
       "      <td>9.0</td>\n",
       "    </tr>\n",
       "  </tbody>\n",
       "</table>\n",
       "<p>43044 rows × 3 columns</p>\n",
       "</div>"
      ]
     },
     "execution_count": 128,
     "metadata": {},
     "output_type": "execute_result"
    }
   ],
   "execution_count": 128
  },
  {
   "metadata": {
    "ExecuteTime": {
     "end_time": "2024-11-07T09:40:38.085730Z",
     "start_time": "2024-11-07T09:40:37.956917Z"
    }
   },
   "cell_type": "code",
   "source": "user_author_df=bm_df.pivot_table(index=\"user_id\",columns=\"book_author\",values=\"author_mean_rating\",fill_value=0)",
   "id": "e7efe4a2c82a785d",
   "outputs": [],
   "execution_count": 129
  },
  {
   "metadata": {
    "ExecuteTime": {
     "end_time": "2024-11-07T09:40:38.123123Z",
     "start_time": "2024-11-07T09:40:38.119961Z"
    }
   },
   "cell_type": "code",
   "source": "",
   "id": "a902f3564d4ba0d5",
   "outputs": [],
   "execution_count": null
  }
 ],
 "metadata": {
  "kernelspec": {
   "display_name": "Python 3",
   "language": "python",
   "name": "python3"
  },
  "language_info": {
   "codemirror_mode": {
    "name": "ipython",
    "version": 2
   },
   "file_extension": ".py",
   "mimetype": "text/x-python",
   "name": "python",
   "nbconvert_exporter": "python",
   "pygments_lexer": "ipython2",
   "version": "2.7.6"
  }
 },
 "nbformat": 4,
 "nbformat_minor": 5
}
