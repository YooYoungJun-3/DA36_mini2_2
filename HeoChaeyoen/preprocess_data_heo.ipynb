{
 "cells": [
  {
   "cell_type": "code",
   "id": "initial_id",
   "metadata": {
    "collapsed": true,
    "ExecuteTime": {
     "end_time": "2024-11-07T00:37:36.545192Z",
     "start_time": "2024-11-07T00:37:35.700332Z"
    }
   },
   "source": [
    "import pandas as pd\n",
    "import numpy as np\n",
    "import matplotlib.pyplot as plt\n",
    "import seaborn as sns\n",
    "from nltk.metrics.aline import similarity_matrix\n",
    "from pandas import value_counts\n",
    "from win32evtlogutil import langid"
   ],
   "outputs": [],
   "execution_count": 1
  },
  {
   "metadata": {},
   "cell_type": "markdown",
   "source": "- kaggle dataset (초안)",
   "id": "7ebc78c0a259c775"
  },
  {
   "metadata": {
    "ExecuteTime": {
     "end_time": "2024-11-07T00:37:41.010520Z",
     "start_time": "2024-11-07T00:37:36.557537Z"
    }
   },
   "cell_type": "code",
   "source": "book_df=pd.read_csv('book_review_data.csv')",
   "id": "c5b6e4a98a06dfbe",
   "outputs": [],
   "execution_count": 2
  },
  {
   "metadata": {
    "ExecuteTime": {
     "end_time": "2024-11-07T00:37:41.411988Z",
     "start_time": "2024-11-07T00:37:41.250964Z"
    }
   },
   "cell_type": "code",
   "source": [
    "# 1) 필요한 컬럼 도출\n",
    "# 2) 형변환 (float > int)\n",
    "\n",
    "book_df=book_df[['user_id',\"age\",\"rating\",\"book_title\",'book_author','year_of_publication','img_m','Summary','Category','country','Language']]\n",
    "book_df[['age',\"year_of_publication\"]]=book_df[['age',\"year_of_publication\"]].astype(int)"
   ],
   "id": "a91a7feaa0d36a4a",
   "outputs": [],
   "execution_count": 3
  },
  {
   "metadata": {
    "ExecuteTime": {
     "end_time": "2024-11-07T00:43:28.844032Z",
     "start_time": "2024-11-07T00:43:28.610902Z"
    }
   },
   "cell_type": "code",
   "source": [
    "# 최소 평가 개수 ( 평가가 30개보다 많은 책만 추출 )\n",
    "counts=book_df['book_title'].value_counts()\n",
    "title = counts[counts > 30].index\n",
    "book_filter_df=book_df[book_df['book_title'].isin(title)]"
   ],
   "id": "538437861c6b56cb",
   "outputs": [],
   "execution_count": 21
  },
  {
   "metadata": {
    "ExecuteTime": {
     "end_time": "2024-11-07T00:43:29.779135Z",
     "start_time": "2024-11-07T00:43:29.714237Z"
    }
   },
   "cell_type": "code",
   "source": [
    "# 최소 평가 개수 ( 평가가 20개보다 많은 사용자만 추출 )\n",
    "counts=book_filter_df[\"user_id\"].value_counts()\n",
    "user_id_=counts[counts>10].index\n",
    "book_filter_df = book_filter_df[book_filter_df['user_id'].isin(user_id_)]"
   ],
   "id": "394e64cd0b88a858",
   "outputs": [],
   "execution_count": 22
  },
  {
   "metadata": {
    "ExecuteTime": {
     "end_time": "2024-11-07T00:43:31.822757Z",
     "start_time": "2024-11-07T00:43:31.763110Z"
    }
   },
   "cell_type": "code",
   "source": [
    "# 무의미한 0점 평가 제거\n",
    "rating_zero=book_filter_df[book_filter_df['rating']==0].index\n",
    "book_filter_df.drop(rating_zero, axis=0, inplace=True)"
   ],
   "id": "8da03a2eae0c9e69",
   "outputs": [],
   "execution_count": 23
  },
  {
   "metadata": {
    "ExecuteTime": {
     "end_time": "2024-11-07T00:43:32.508720Z",
     "start_time": "2024-11-07T00:43:32.463104Z"
    }
   },
   "cell_type": "code",
   "source": [
    "# 한 카테고리안에 책이 5권 미만인 경우 제거\n",
    "counts=book_filter_df[\"Category\"].value_counts()\n",
    "categories = counts[counts > 5].index\n",
    "book_filter_df = book_filter_df[book_filter_df['Category'].isin(categories)]\n",
    "idx=book_filter_df[book_filter_df[\"Summary\"]==9].index\n",
    "book_filter_df.drop(idx,axis=0,inplace=True)"
   ],
   "id": "b779c5ab7eb237d7",
   "outputs": [],
   "execution_count": 24
  },
  {
   "metadata": {
    "ExecuteTime": {
     "end_time": "2024-11-07T00:43:33.841172Z",
     "start_time": "2024-11-07T00:43:33.822543Z"
    }
   },
   "cell_type": "code",
   "source": [
    "book_filter_df.shape\n",
    "len(book_filter_df['user_id'].unique())"
   ],
   "id": "2d6073259aeb1ef",
   "outputs": [
    {
     "data": {
      "text/plain": [
       "4920"
      ]
     },
     "execution_count": 25,
     "metadata": {},
     "output_type": "execute_result"
    }
   ],
   "execution_count": 25
  },
  {
   "metadata": {
    "ExecuteTime": {
     "end_time": "2024-11-07T00:43:35.006883Z",
     "start_time": "2024-11-07T00:43:34.572888Z"
    }
   },
   "cell_type": "code",
   "source": [
    "user_book_df=book_filter_df.pivot_table(index='user_id',columns='book_title',values='rating',fill_value=0)\n",
    "user_book_df.shape # user간 유사도 구할거 아니니까\n",
    "book_user_df=user_book_df.T"
   ],
   "id": "27a4ecd611c9f240",
   "outputs": [],
   "execution_count": 26
  },
  {
   "metadata": {
    "ExecuteTime": {
     "end_time": "2024-11-07T00:43:36.059302Z",
     "start_time": "2024-11-07T00:43:36.047191Z"
    }
   },
   "cell_type": "code",
   "source": "user_book_df.iloc[55].sort_values(ascending=False)[:10]",
   "id": "ad73a8291a2fff5e",
   "outputs": [
    {
     "data": {
      "text/plain": [
       "book_title\n",
       "It                                                                          8.0\n",
       "Buddha of Suburbia                                                          8.0\n",
       "Christine                                                                   8.0\n",
       "Thinner                                                                     8.0\n",
       "Firestarter (Signet Book)                                                   7.0\n",
       "Practical Demonkeeping                                                      7.0\n",
       "Dolores Claiborne                                                           7.0\n",
       "Something Wicked This Way Comes                                             6.0\n",
       "Cujo                                                                        6.0\n",
       "Stupid White Men ...and Other Sorry Excuses for the State of the Nation!    6.0\n",
       "Name: 4334, dtype: float64"
      ]
     },
     "execution_count": 27,
     "metadata": {},
     "output_type": "execute_result"
    }
   ],
   "execution_count": 27
  },
  {
   "metadata": {
    "ExecuteTime": {
     "end_time": "2024-11-07T00:43:45.739990Z",
     "start_time": "2024-11-07T00:43:44.306440Z"
    }
   },
   "cell_type": "code",
   "source": [
    "from sklearn.metrics.pairwise import cosine_similarity\n",
    "book_similarity=cosine_similarity(book_user_df,book_user_df)\n",
    "book_similarity_df=pd.DataFrame(book_similarity)"
   ],
   "id": "24a3cecdc0d157d4",
   "outputs": [],
   "execution_count": 28
  },
  {
   "metadata": {
    "ExecuteTime": {
     "end_time": "2024-11-07T00:48:34.617771Z",
     "start_time": "2024-11-07T00:48:34.153919Z"
    }
   },
   "cell_type": "code",
   "source": "book_filter_df.to_csv(\"book_filter\",index=False, encoding='utf-8')",
   "id": "5e4bb23935af805a",
   "outputs": [],
   "execution_count": 30
  },
  {
   "metadata": {},
   "cell_type": "code",
   "outputs": [],
   "execution_count": null,
   "source": "",
   "id": "9f25f7cd498fcd72"
  }
 ],
 "metadata": {
  "kernelspec": {
   "display_name": "Python 3",
   "language": "python",
   "name": "python3"
  },
  "language_info": {
   "codemirror_mode": {
    "name": "ipython",
    "version": 2
   },
   "file_extension": ".py",
   "mimetype": "text/x-python",
   "name": "python",
   "nbconvert_exporter": "python",
   "pygments_lexer": "ipython2",
   "version": "2.7.6"
  }
 },
 "nbformat": 4,
 "nbformat_minor": 5
}
