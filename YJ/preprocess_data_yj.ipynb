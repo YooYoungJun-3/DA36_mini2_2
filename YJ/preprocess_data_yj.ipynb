{
 "cells": [
  {
   "cell_type": "code",
   "id": "initial_id",
   "metadata": {
    "collapsed": true,
    "ExecuteTime": {
     "end_time": "2024-11-08T06:40:26.144395Z",
     "start_time": "2024-11-08T06:40:26.130431Z"
    }
   },
   "source": [
    "import pandas as pd\n",
    "import numpy as np\n",
    "import matplotlib.pyplot as plt\n",
    "import seaborn as sns"
   ],
   "outputs": [],
   "execution_count": 145
  },
  {
   "metadata": {},
   "cell_type": "markdown",
   "source": "- kaggle dataset (초안)",
   "id": "7ebc78c0a259c775"
  },
  {
   "metadata": {
    "ExecuteTime": {
     "end_time": "2024-11-08T06:40:33.090686Z",
     "start_time": "2024-11-08T06:40:28.483508Z"
    }
   },
   "cell_type": "code",
   "source": "book_df=pd.read_csv('C:\\\\Workspaces\\\\Bookitoki\\\\YJ\\\\data\\\\book_review_data.csv')",
   "id": "c5b6e4a98a06dfbe",
   "outputs": [],
   "execution_count": 146
  },
  {
   "metadata": {
    "ExecuteTime": {
     "end_time": "2024-11-08T06:40:33.105153Z",
     "start_time": "2024-11-08T06:40:33.090686Z"
    }
   },
   "cell_type": "code",
   "source": [
    "print(book_df.columns)\n",
    "print(book_df.shape)"
   ],
   "id": "1028f546f0061eb3",
   "outputs": [
    {
     "name": "stdout",
     "output_type": "stream",
     "text": [
      "Index(['Unnamed: 0', 'user_id', 'location', 'age', 'isbn', 'rating',\n",
      "       'book_title', 'book_author', 'year_of_publication', 'publisher',\n",
      "       'img_s', 'img_m', 'img_l', 'Summary', 'Language', 'Category', 'city',\n",
      "       'state', 'country'],\n",
      "      dtype='object')\n",
      "(1031175, 19)\n"
     ]
    }
   ],
   "execution_count": 147
  },
  {
   "metadata": {
    "ExecuteTime": {
     "end_time": "2024-11-08T06:40:35.796954Z",
     "start_time": "2024-11-08T06:40:35.639007Z"
    }
   },
   "cell_type": "code",
   "source": [
    "# 1) 필요한 컬럼 도출\n",
    "# 2) 형변환 (float > int)\n",
    "\n",
    "book_df=book_df[['user_id',\"age\",\"rating\",\"book_title\",'book_author','year_of_publication','img_m','Summary','Category','country','Language']]\n",
    "book_df[['age',\"year_of_publication\"]]=book_df[['age',\"year_of_publication\"]].astype(int)"
   ],
   "id": "a91a7feaa0d36a4a",
   "outputs": [],
   "execution_count": 148
  },
  {
   "metadata": {
    "ExecuteTime": {
     "end_time": "2024-11-08T06:40:36.695687Z",
     "start_time": "2024-11-08T06:40:36.473193Z"
    }
   },
   "cell_type": "code",
   "source": [
    "# 최소 평가 개수 ( 평가가 30개보다 많은 책만 추출 )\n",
    "counts=book_df['book_title'].value_counts()\n",
    "counts.head()"
   ],
   "id": "b4010872a0dfb09",
   "outputs": [
    {
     "data": {
      "text/plain": [
       "book_title\n",
       "Wild Animus                   2502\n",
       "The Lovely Bones: A Novel     1295\n",
       "The Da Vinci Code              898\n",
       "A Painted House                838\n",
       "The Nanny Diaries: A Novel     828\n",
       "Name: count, dtype: int64"
      ]
     },
     "execution_count": 149,
     "metadata": {},
     "output_type": "execute_result"
    }
   ],
   "execution_count": 149
  },
  {
   "metadata": {
    "ExecuteTime": {
     "end_time": "2024-11-08T06:40:37.717870Z",
     "start_time": "2024-11-08T06:40:37.673470Z"
    }
   },
   "cell_type": "code",
   "source": [
    "title = counts[counts > 30].index\n",
    "title[:5]"
   ],
   "id": "e4893cd7110ab0cb",
   "outputs": [
    {
     "data": {
      "text/plain": [
       "Index(['Wild Animus', 'The Lovely Bones: A Novel', 'The Da Vinci Code',\n",
       "       'A Painted House', 'The Nanny Diaries: A Novel'],\n",
       "      dtype='object', name='book_title')"
      ]
     },
     "execution_count": 150,
     "metadata": {},
     "output_type": "execute_result"
    }
   ],
   "execution_count": 150
  },
  {
   "metadata": {
    "ExecuteTime": {
     "end_time": "2024-11-08T06:40:38.400212Z",
     "start_time": "2024-11-08T06:40:38.313639Z"
    }
   },
   "cell_type": "code",
   "source": "book_filter_df=book_df[book_df['book_title'].isin(title)]",
   "id": "538437861c6b56cb",
   "outputs": [],
   "execution_count": 151
  },
  {
   "metadata": {
    "ExecuteTime": {
     "end_time": "2024-11-08T06:40:40.150550Z",
     "start_time": "2024-11-08T06:40:40.070935Z"
    }
   },
   "cell_type": "code",
   "source": [
    "# 최소 평가 개수 ( 평가가 20개보다 많은 사용자만 추출 )\n",
    "counts=book_filter_df[\"user_id\"].value_counts()\n",
    "user_id_=counts[counts>10].index\n",
    "book_filter_df = book_filter_df[book_filter_df['user_id'].isin(user_id_)]"
   ],
   "id": "394e64cd0b88a858",
   "outputs": [],
   "execution_count": 152
  },
  {
   "metadata": {
    "ExecuteTime": {
     "end_time": "2024-11-08T06:40:41.153851Z",
     "start_time": "2024-11-08T06:40:41.096053Z"
    }
   },
   "cell_type": "code",
   "source": [
    "# 무의미한 0점 평가 제거\n",
    "rating_zero=book_filter_df[book_filter_df['rating']==0].index\n",
    "book_filter_df.drop(rating_zero, axis=0, inplace=True)"
   ],
   "id": "8da03a2eae0c9e69",
   "outputs": [],
   "execution_count": 153
  },
  {
   "metadata": {
    "ExecuteTime": {
     "end_time": "2024-11-08T06:40:42.308264Z",
     "start_time": "2024-11-08T06:40:42.265040Z"
    }
   },
   "cell_type": "code",
   "source": [
    "# 한 카테고리안에 책이 5권 미만인 경우 제거\n",
    "counts=book_filter_df[\"Category\"].value_counts()\n",
    "categories = counts[counts > 5].index\n",
    "book_filter_df = book_filter_df[book_filter_df['Category'].isin(categories)]\n",
    "idx=book_filter_df[book_filter_df[\"Summary\"]==9].index\n",
    "book_filter_df.drop(idx,axis=0,inplace=True)"
   ],
   "id": "b779c5ab7eb237d7",
   "outputs": [],
   "execution_count": 154
  },
  {
   "metadata": {
    "ExecuteTime": {
     "end_time": "2024-11-08T06:40:43.230616Z",
     "start_time": "2024-11-08T06:40:43.211361Z"
    }
   },
   "cell_type": "code",
   "source": [
    "print(book_filter_df.shape)\n",
    "len(book_filter_df['user_id'].unique()), len(book_filter_df['book_title'].unique())"
   ],
   "id": "2d6073259aeb1ef",
   "outputs": [
    {
     "name": "stdout",
     "output_type": "stream",
     "text": [
      "(84280, 11)\n"
     ]
    },
    {
     "data": {
      "text/plain": [
       "(4920, 4437)"
      ]
     },
     "execution_count": 155,
     "metadata": {},
     "output_type": "execute_result"
    }
   ],
   "execution_count": 155
  },
  {
   "metadata": {
    "ExecuteTime": {
     "end_time": "2024-11-08T06:40:44.214323Z",
     "start_time": "2024-11-08T06:40:44.185801Z"
    }
   },
   "cell_type": "code",
   "source": "book_filter_df[\"book_title\"]=book_filter_df['book_title'].str.lower()",
   "id": "51584e1e5191d52e",
   "outputs": [],
   "execution_count": 156
  },
  {
   "metadata": {
    "ExecuteTime": {
     "end_time": "2024-11-08T06:40:45.579946Z",
     "start_time": "2024-11-08T06:40:45.090201Z"
    }
   },
   "cell_type": "code",
   "source": [
    "user_book_df=book_filter_df.pivot_table(index='user_id',columns='book_title',values='rating',fill_value=0)\n",
    "print(user_book_df.shape) # user간 유사도 구할거 아니니까\n",
    "book_user_df=user_book_df.T\n",
    "\n"
   ],
   "id": "27a4ecd611c9f240",
   "outputs": [
    {
     "name": "stdout",
     "output_type": "stream",
     "text": [
      "(4920, 4401)\n"
     ]
    }
   ],
   "execution_count": 157
  },
  {
   "metadata": {
    "ExecuteTime": {
     "end_time": "2024-11-08T06:40:46.280610Z",
     "start_time": "2024-11-08T06:40:46.248783Z"
    }
   },
   "cell_type": "code",
   "source": "user_book_df.iloc[55].sort_values(ascending=False)[:10]",
   "id": "ad73a8291a2fff5e",
   "outputs": [
    {
     "data": {
      "text/plain": [
       "book_title\n",
       "it                                                                          8.0\n",
       "buddha of suburbia                                                          8.0\n",
       "christine                                                                   8.0\n",
       "thinner                                                                     8.0\n",
       "practical demonkeeping                                                      7.0\n",
       "firestarter (signet book)                                                   7.0\n",
       "dolores claiborne                                                           7.0\n",
       "cujo                                                                        6.0\n",
       "something wicked this way comes                                             6.0\n",
       "stupid white men ...and other sorry excuses for the state of the nation!    6.0\n",
       "Name: 4334, dtype: float64"
      ]
     },
     "execution_count": 158,
     "metadata": {},
     "output_type": "execute_result"
    }
   ],
   "execution_count": 158
  },
  {
   "metadata": {
    "ExecuteTime": {
     "end_time": "2024-11-08T06:40:49.053780Z",
     "start_time": "2024-11-08T06:40:47.399143Z"
    }
   },
   "cell_type": "code",
   "source": [
    "from sklearn.metrics.pairwise import cosine_similarity\n",
    "\n",
    "book_sim = cosine_similarity(book_user_df, book_user_df)\n",
    "print(book_sim.shape)\n",
    "\n",
    "book_sim_df = pd.DataFrame(book_sim, index=user_book_df.columns, columns=user_book_df.columns)w"
   ],
   "id": "790b766d9d1d4a3e",
   "outputs": [
    {
     "name": "stdout",
     "output_type": "stream",
     "text": [
      "(4401, 4401)\n"
     ]
    }
   ],
   "execution_count": 159
  },
  {
   "metadata": {
    "ExecuteTime": {
     "end_time": "2024-11-08T06:40:51.792530Z",
     "start_time": "2024-11-08T06:40:50.408673Z"
    }
   },
   "cell_type": "code",
   "source": [
    "# 전체 가중평점 예측하기 (4920,4401)\n",
    "\n",
    "def predict_ratings(book_user_df, book_sim_df):\n",
    "\n",
    "\n",
    " return user_book_df.dot(book_sim_df) / np.abs(book_sim_df).sum(axis=1)\n",
    "ratings_pred_df = predict_ratings(user_book_df, book_sim_df)\n",
    "print(ratings_pred_df.shape)\n",
    "ratings_pred_df.head(1).T\n",
    "\n",
    "\n"
   ],
   "id": "27cf7ba3c2ab9391",
   "outputs": [
    {
     "name": "stdout",
     "output_type": "stream",
     "text": [
      "(4920, 4401)\n"
     ]
    },
    {
     "data": {
      "text/plain": [
       "user_id                                                  243\n",
       "book_title                                                  \n",
       "'salem's lot                                        0.026268\n",
       "10 lb. penalty                                      0.015752\n",
       "101 dalmatians                                      0.044246\n",
       "16 lighthouse road                                  0.010331\n",
       "1984                                                0.033637\n",
       "...                                                      ...\n",
       "zen and the art of motorcycle maintenance: an i...  0.044673\n",
       "zia                                                 0.000000\n",
       "zlata's diary: a child's life in sarajevo           0.032801\n",
       "zodiac: the eco-thriller                            0.032659\n",
       "zoya                                                0.041534\n",
       "\n",
       "[4401 rows x 1 columns]"
      ],
      "text/html": [
       "<div>\n",
       "<style scoped>\n",
       "    .dataframe tbody tr th:only-of-type {\n",
       "        vertical-align: middle;\n",
       "    }\n",
       "\n",
       "    .dataframe tbody tr th {\n",
       "        vertical-align: top;\n",
       "    }\n",
       "\n",
       "    .dataframe thead th {\n",
       "        text-align: right;\n",
       "    }\n",
       "</style>\n",
       "<table border=\"1\" class=\"dataframe\">\n",
       "  <thead>\n",
       "    <tr style=\"text-align: right;\">\n",
       "      <th>user_id</th>\n",
       "      <th>243</th>\n",
       "    </tr>\n",
       "    <tr>\n",
       "      <th>book_title</th>\n",
       "      <th></th>\n",
       "    </tr>\n",
       "  </thead>\n",
       "  <tbody>\n",
       "    <tr>\n",
       "      <th>'salem's lot</th>\n",
       "      <td>0.026268</td>\n",
       "    </tr>\n",
       "    <tr>\n",
       "      <th>10 lb. penalty</th>\n",
       "      <td>0.015752</td>\n",
       "    </tr>\n",
       "    <tr>\n",
       "      <th>101 dalmatians</th>\n",
       "      <td>0.044246</td>\n",
       "    </tr>\n",
       "    <tr>\n",
       "      <th>16 lighthouse road</th>\n",
       "      <td>0.010331</td>\n",
       "    </tr>\n",
       "    <tr>\n",
       "      <th>1984</th>\n",
       "      <td>0.033637</td>\n",
       "    </tr>\n",
       "    <tr>\n",
       "      <th>...</th>\n",
       "      <td>...</td>\n",
       "    </tr>\n",
       "    <tr>\n",
       "      <th>zen and the art of motorcycle maintenance: an inquiry into values</th>\n",
       "      <td>0.044673</td>\n",
       "    </tr>\n",
       "    <tr>\n",
       "      <th>zia</th>\n",
       "      <td>0.000000</td>\n",
       "    </tr>\n",
       "    <tr>\n",
       "      <th>zlata's diary: a child's life in sarajevo</th>\n",
       "      <td>0.032801</td>\n",
       "    </tr>\n",
       "    <tr>\n",
       "      <th>zodiac: the eco-thriller</th>\n",
       "      <td>0.032659</td>\n",
       "    </tr>\n",
       "    <tr>\n",
       "      <th>zoya</th>\n",
       "      <td>0.041534</td>\n",
       "    </tr>\n",
       "  </tbody>\n",
       "</table>\n",
       "<p>4401 rows × 1 columns</p>\n",
       "</div>"
      ]
     },
     "execution_count": 160,
     "metadata": {},
     "output_type": "execute_result"
    }
   ],
   "execution_count": 160
  },
  {
   "metadata": {
    "ExecuteTime": {
     "end_time": "2024-11-08T06:40:53.122395Z",
     "start_time": "2024-11-08T06:40:52.947798Z"
    }
   },
   "cell_type": "code",
   "source": [
    "#실제 평점과 예측평점 오차 비교\n",
    "\n",
    "from sklearn.metrics import mean_squared_error\n",
    "\n",
    "def get_mse(actual, pred):\n",
    "    non_zero_idx = actual.nonzero()\n",
    "    \n",
    "    actual = actual[non_zero_idx]\n",
    "    pred = pred[non_zero_idx]\n",
    "    return mean_squared_error(actual, pred)\n",
    "get_mse(user_book_df.values, ratings_pred_df.values)"
   ],
   "id": "172aa419be379a77",
   "outputs": [
    {
     "data": {
      "text/plain": [
       "54.54519201221758"
      ]
     },
     "execution_count": 161,
     "metadata": {},
     "output_type": "execute_result"
    }
   ],
   "execution_count": 161
  },
  {
   "metadata": {},
   "cell_type": "code",
   "outputs": [],
   "execution_count": null,
   "source": "#  모델 실험\n",
   "id": "169d246ee07c000e"
  },
  {
   "metadata": {
    "ExecuteTime": {
     "end_time": "2024-11-08T06:40:58.967368Z",
     "start_time": "2024-11-08T06:40:58.939546Z"
    }
   },
   "cell_type": "code",
   "source": [
    "def predict_ratings_by_user_book(user_book_idx,movie_idx, topn_sim_idx):\n",
    "    #영화별 평점 유사도\n",
    "    topn_sim = book_sim[book_idx,:][topn_sim_idx]\n",
    "    # 평점유사도 topn건에 대한 사용점 \n",
    "    topn_rating = user_book_df.values[user_idx,:][topn_sim_idx\n",
    "    ]\n",
    "    return topn_sim.dot(topn_rating) / np.abs(topn_sim).sum()\n",
    "topn = 20 \n",
    "user_idx = 135\n",
    "book_idx = 33\n",
    "topn_sim_idx = book_sim_df.iloc[book_idx].argsort()[:-(topn + 1) :-1]\n",
    "predict_ratings_by_user_book(user_idx,book_idx,topn_sim_idx)"
   ],
   "id": "688dfcd7b9078d90",
   "outputs": [
    {
     "data": {
      "text/plain": [
       "0.0"
      ]
     },
     "execution_count": 163,
     "metadata": {},
     "output_type": "execute_result"
    }
   ],
   "execution_count": 163
  },
  {
   "metadata": {
    "ExecuteTime": {
     "end_time": "2024-11-08T06:41:02.496711Z",
     "start_time": "2024-11-08T06:41:00.887659Z"
    }
   },
   "cell_type": "code",
   "source": [
    "from sklearn.metrics.pairwise import cosine_similarity                     \n",
    "\n",
    "book_sim = cosine_similarity(book_user_df, book_user_df)\n",
    "#print(book_sim.shape)\n",
    "book_sim[:5, :100]\n",
    "\n",
    "book_sim_df = pd.DataFrame(book_sim, index=book_user_df.index, columns=book_user_df.index)\n",
    "print(book_sim_df.shape)"
   ],
   "id": "205b747ed8c9df46",
   "outputs": [
    {
     "name": "stdout",
     "output_type": "stream",
     "text": [
      "(4401, 4401)\n"
     ]
    }
   ],
   "execution_count": 164
  },
  {
   "metadata": {
    "ExecuteTime": {
     "end_time": "2024-11-08T06:41:05.503754Z",
     "start_time": "2024-11-08T06:41:04.397264Z"
    }
   },
   "cell_type": "code",
   "source": [
    "def predict_ratings(topn=10):\n",
    "    pred = np.zeros(user_book_df.shape)\n",
    "    for book_idx in range(pred.shape[1]):\n",
    "        topn_sim_idx = book_sim_df.iloc[book_idx].argsort()[:-(topn + 1):-1]\n",
    "    for user_idx in range(pred.shape[0]):\n",
    "        pred[user_idx, book_idx] = predict_ratings_by_user_book(user_idx, book_idx, topn_sim_idx)\n",
    "        \n",
    "    return pred\n",
    "\n",
    "ratings_pred = predict_ratings(20)\n",
    "print(ratings_pred.shape)"
   ],
   "id": "b373ce7abfd688da",
   "outputs": [
    {
     "name": "stdout",
     "output_type": "stream",
     "text": [
      "(4920, 4401)\n"
     ]
    }
   ],
   "execution_count": 165
  },
  {
   "metadata": {
    "ExecuteTime": {
     "end_time": "2024-11-08T06:44:45.404991Z",
     "start_time": "2024-11-08T06:44:45.379267Z"
    }
   },
   "cell_type": "code",
   "source": [
    "# 예측평점 df\n",
    "ratings_pred_df = pd.DataFrame(ratings_pred, index= user_book_df.index, columns = user_book_df.columns)\n",
    "ratings_pred_df.head(87).T"
   ],
   "id": "fe9b881304c630d2",
   "outputs": [
    {
     "data": {
      "text/plain": [
       "user_id                                             243   254   383   388   \\\n",
       "book_title                                                                   \n",
       "'salem's lot                                         0.0   0.0   0.0   0.0   \n",
       "10 lb. penalty                                       0.0   0.0   0.0   0.0   \n",
       "101 dalmatians                                       0.0   0.0   0.0   0.0   \n",
       "16 lighthouse road                                   0.0   0.0   0.0   0.0   \n",
       "1984                                                 0.0   0.0   0.0   0.0   \n",
       "...                                                  ...   ...   ...   ...   \n",
       "zen and the art of motorcycle maintenance: an i...   0.0   0.0   0.0   0.0   \n",
       "zia                                                  0.0   0.0   0.0   0.0   \n",
       "zlata's diary: a child's life in sarajevo            0.0   0.0   0.0   0.0   \n",
       "zodiac: the eco-thriller                             0.0   0.0   0.0   0.0   \n",
       "zoya                                                 0.0   0.0   0.0   0.0   \n",
       "\n",
       "user_id                                             487   503   507   638   \\\n",
       "book_title                                                                   \n",
       "'salem's lot                                         0.0   0.0   0.0   0.0   \n",
       "10 lb. penalty                                       0.0   0.0   0.0   0.0   \n",
       "101 dalmatians                                       0.0   0.0   0.0   0.0   \n",
       "16 lighthouse road                                   0.0   0.0   0.0   0.0   \n",
       "1984                                                 0.0   0.0   0.0   0.0   \n",
       "...                                                  ...   ...   ...   ...   \n",
       "zen and the art of motorcycle maintenance: an i...   0.0   0.0   0.0   0.0   \n",
       "zia                                                  0.0   0.0   0.0   0.0   \n",
       "zlata's diary: a child's life in sarajevo            0.0   0.0   0.0   0.0   \n",
       "zodiac: the eco-thriller                             0.0   0.0   0.0   0.0   \n",
       "zoya                                                 0.0   0.0   0.0   0.0   \n",
       "\n",
       "user_id                                             735   741   ...  6333  \\\n",
       "book_title                                                      ...         \n",
       "'salem's lot                                         0.0   0.0  ...   0.0   \n",
       "10 lb. penalty                                       0.0   0.0  ...   0.0   \n",
       "101 dalmatians                                       0.0   0.0  ...   0.0   \n",
       "16 lighthouse road                                   0.0   0.0  ...   0.0   \n",
       "1984                                                 0.0   0.0  ...   0.0   \n",
       "...                                                  ...   ...  ...   ...   \n",
       "zen and the art of motorcycle maintenance: an i...   0.0   0.0  ...   0.0   \n",
       "zia                                                  0.0   0.0  ...   0.0   \n",
       "zlata's diary: a child's life in sarajevo            0.0   0.0  ...   0.0   \n",
       "zodiac: the eco-thriller                             0.0   0.0  ...   0.0   \n",
       "zoya                                                 0.0   0.0  ...   0.0   \n",
       "\n",
       "user_id                                             6345  6431  6532  6537  \\\n",
       "book_title                                                                   \n",
       "'salem's lot                                         0.0   0.0   0.0   0.0   \n",
       "10 lb. penalty                                       0.0   0.0   0.0   0.0   \n",
       "101 dalmatians                                       0.0   0.0   0.0   0.0   \n",
       "16 lighthouse road                                   0.0   0.0   0.0   0.0   \n",
       "1984                                                 0.0   0.0   0.0   0.0   \n",
       "...                                                  ...   ...   ...   ...   \n",
       "zen and the art of motorcycle maintenance: an i...   0.0   0.0   0.0   0.0   \n",
       "zia                                                  0.0   0.0   0.0   0.0   \n",
       "zlata's diary: a child's life in sarajevo            0.0   0.0   0.0   0.0   \n",
       "zodiac: the eco-thriller                             0.0   0.0   0.0   0.0   \n",
       "zoya                                                 0.0   0.0   0.0   0.0   \n",
       "\n",
       "user_id                                             6543  6563  6566  6575  \\\n",
       "book_title                                                                   \n",
       "'salem's lot                                         0.0   0.0   0.0   0.0   \n",
       "10 lb. penalty                                       0.0   0.0   0.0   0.0   \n",
       "101 dalmatians                                       0.0   0.0   0.0   0.0   \n",
       "16 lighthouse road                                   0.0   0.0   0.0   0.0   \n",
       "1984                                                 0.0   0.0   0.0   0.0   \n",
       "...                                                  ...   ...   ...   ...   \n",
       "zen and the art of motorcycle maintenance: an i...   0.0   0.0   0.0   0.0   \n",
       "zia                                                  0.0   0.0   0.0   0.0   \n",
       "zlata's diary: a child's life in sarajevo            0.0   0.0   0.0   0.0   \n",
       "zodiac: the eco-thriller                             0.0   0.0   0.0   0.0   \n",
       "zoya                                                 0.0   0.0   0.0   0.0   \n",
       "\n",
       "user_id                                             6577  \n",
       "book_title                                                \n",
       "'salem's lot                                         0.0  \n",
       "10 lb. penalty                                       0.0  \n",
       "101 dalmatians                                       0.0  \n",
       "16 lighthouse road                                   0.0  \n",
       "1984                                                 0.0  \n",
       "...                                                  ...  \n",
       "zen and the art of motorcycle maintenance: an i...   0.0  \n",
       "zia                                                  0.0  \n",
       "zlata's diary: a child's life in sarajevo            0.0  \n",
       "zodiac: the eco-thriller                             0.0  \n",
       "zoya                                                 0.0  \n",
       "\n",
       "[4401 rows x 87 columns]"
      ],
      "text/html": [
       "<div>\n",
       "<style scoped>\n",
       "    .dataframe tbody tr th:only-of-type {\n",
       "        vertical-align: middle;\n",
       "    }\n",
       "\n",
       "    .dataframe tbody tr th {\n",
       "        vertical-align: top;\n",
       "    }\n",
       "\n",
       "    .dataframe thead th {\n",
       "        text-align: right;\n",
       "    }\n",
       "</style>\n",
       "<table border=\"1\" class=\"dataframe\">\n",
       "  <thead>\n",
       "    <tr style=\"text-align: right;\">\n",
       "      <th>user_id</th>\n",
       "      <th>243</th>\n",
       "      <th>254</th>\n",
       "      <th>383</th>\n",
       "      <th>388</th>\n",
       "      <th>487</th>\n",
       "      <th>503</th>\n",
       "      <th>507</th>\n",
       "      <th>638</th>\n",
       "      <th>735</th>\n",
       "      <th>741</th>\n",
       "      <th>...</th>\n",
       "      <th>6333</th>\n",
       "      <th>6345</th>\n",
       "      <th>6431</th>\n",
       "      <th>6532</th>\n",
       "      <th>6537</th>\n",
       "      <th>6543</th>\n",
       "      <th>6563</th>\n",
       "      <th>6566</th>\n",
       "      <th>6575</th>\n",
       "      <th>6577</th>\n",
       "    </tr>\n",
       "    <tr>\n",
       "      <th>book_title</th>\n",
       "      <th></th>\n",
       "      <th></th>\n",
       "      <th></th>\n",
       "      <th></th>\n",
       "      <th></th>\n",
       "      <th></th>\n",
       "      <th></th>\n",
       "      <th></th>\n",
       "      <th></th>\n",
       "      <th></th>\n",
       "      <th></th>\n",
       "      <th></th>\n",
       "      <th></th>\n",
       "      <th></th>\n",
       "      <th></th>\n",
       "      <th></th>\n",
       "      <th></th>\n",
       "      <th></th>\n",
       "      <th></th>\n",
       "      <th></th>\n",
       "      <th></th>\n",
       "    </tr>\n",
       "  </thead>\n",
       "  <tbody>\n",
       "    <tr>\n",
       "      <th>'salem's lot</th>\n",
       "      <td>0.0</td>\n",
       "      <td>0.0</td>\n",
       "      <td>0.0</td>\n",
       "      <td>0.0</td>\n",
       "      <td>0.0</td>\n",
       "      <td>0.0</td>\n",
       "      <td>0.0</td>\n",
       "      <td>0.0</td>\n",
       "      <td>0.0</td>\n",
       "      <td>0.0</td>\n",
       "      <td>...</td>\n",
       "      <td>0.0</td>\n",
       "      <td>0.0</td>\n",
       "      <td>0.0</td>\n",
       "      <td>0.0</td>\n",
       "      <td>0.0</td>\n",
       "      <td>0.0</td>\n",
       "      <td>0.0</td>\n",
       "      <td>0.0</td>\n",
       "      <td>0.0</td>\n",
       "      <td>0.0</td>\n",
       "    </tr>\n",
       "    <tr>\n",
       "      <th>10 lb. penalty</th>\n",
       "      <td>0.0</td>\n",
       "      <td>0.0</td>\n",
       "      <td>0.0</td>\n",
       "      <td>0.0</td>\n",
       "      <td>0.0</td>\n",
       "      <td>0.0</td>\n",
       "      <td>0.0</td>\n",
       "      <td>0.0</td>\n",
       "      <td>0.0</td>\n",
       "      <td>0.0</td>\n",
       "      <td>...</td>\n",
       "      <td>0.0</td>\n",
       "      <td>0.0</td>\n",
       "      <td>0.0</td>\n",
       "      <td>0.0</td>\n",
       "      <td>0.0</td>\n",
       "      <td>0.0</td>\n",
       "      <td>0.0</td>\n",
       "      <td>0.0</td>\n",
       "      <td>0.0</td>\n",
       "      <td>0.0</td>\n",
       "    </tr>\n",
       "    <tr>\n",
       "      <th>101 dalmatians</th>\n",
       "      <td>0.0</td>\n",
       "      <td>0.0</td>\n",
       "      <td>0.0</td>\n",
       "      <td>0.0</td>\n",
       "      <td>0.0</td>\n",
       "      <td>0.0</td>\n",
       "      <td>0.0</td>\n",
       "      <td>0.0</td>\n",
       "      <td>0.0</td>\n",
       "      <td>0.0</td>\n",
       "      <td>...</td>\n",
       "      <td>0.0</td>\n",
       "      <td>0.0</td>\n",
       "      <td>0.0</td>\n",
       "      <td>0.0</td>\n",
       "      <td>0.0</td>\n",
       "      <td>0.0</td>\n",
       "      <td>0.0</td>\n",
       "      <td>0.0</td>\n",
       "      <td>0.0</td>\n",
       "      <td>0.0</td>\n",
       "    </tr>\n",
       "    <tr>\n",
       "      <th>16 lighthouse road</th>\n",
       "      <td>0.0</td>\n",
       "      <td>0.0</td>\n",
       "      <td>0.0</td>\n",
       "      <td>0.0</td>\n",
       "      <td>0.0</td>\n",
       "      <td>0.0</td>\n",
       "      <td>0.0</td>\n",
       "      <td>0.0</td>\n",
       "      <td>0.0</td>\n",
       "      <td>0.0</td>\n",
       "      <td>...</td>\n",
       "      <td>0.0</td>\n",
       "      <td>0.0</td>\n",
       "      <td>0.0</td>\n",
       "      <td>0.0</td>\n",
       "      <td>0.0</td>\n",
       "      <td>0.0</td>\n",
       "      <td>0.0</td>\n",
       "      <td>0.0</td>\n",
       "      <td>0.0</td>\n",
       "      <td>0.0</td>\n",
       "    </tr>\n",
       "    <tr>\n",
       "      <th>1984</th>\n",
       "      <td>0.0</td>\n",
       "      <td>0.0</td>\n",
       "      <td>0.0</td>\n",
       "      <td>0.0</td>\n",
       "      <td>0.0</td>\n",
       "      <td>0.0</td>\n",
       "      <td>0.0</td>\n",
       "      <td>0.0</td>\n",
       "      <td>0.0</td>\n",
       "      <td>0.0</td>\n",
       "      <td>...</td>\n",
       "      <td>0.0</td>\n",
       "      <td>0.0</td>\n",
       "      <td>0.0</td>\n",
       "      <td>0.0</td>\n",
       "      <td>0.0</td>\n",
       "      <td>0.0</td>\n",
       "      <td>0.0</td>\n",
       "      <td>0.0</td>\n",
       "      <td>0.0</td>\n",
       "      <td>0.0</td>\n",
       "    </tr>\n",
       "    <tr>\n",
       "      <th>...</th>\n",
       "      <td>...</td>\n",
       "      <td>...</td>\n",
       "      <td>...</td>\n",
       "      <td>...</td>\n",
       "      <td>...</td>\n",
       "      <td>...</td>\n",
       "      <td>...</td>\n",
       "      <td>...</td>\n",
       "      <td>...</td>\n",
       "      <td>...</td>\n",
       "      <td>...</td>\n",
       "      <td>...</td>\n",
       "      <td>...</td>\n",
       "      <td>...</td>\n",
       "      <td>...</td>\n",
       "      <td>...</td>\n",
       "      <td>...</td>\n",
       "      <td>...</td>\n",
       "      <td>...</td>\n",
       "      <td>...</td>\n",
       "      <td>...</td>\n",
       "    </tr>\n",
       "    <tr>\n",
       "      <th>zen and the art of motorcycle maintenance: an inquiry into values</th>\n",
       "      <td>0.0</td>\n",
       "      <td>0.0</td>\n",
       "      <td>0.0</td>\n",
       "      <td>0.0</td>\n",
       "      <td>0.0</td>\n",
       "      <td>0.0</td>\n",
       "      <td>0.0</td>\n",
       "      <td>0.0</td>\n",
       "      <td>0.0</td>\n",
       "      <td>0.0</td>\n",
       "      <td>...</td>\n",
       "      <td>0.0</td>\n",
       "      <td>0.0</td>\n",
       "      <td>0.0</td>\n",
       "      <td>0.0</td>\n",
       "      <td>0.0</td>\n",
       "      <td>0.0</td>\n",
       "      <td>0.0</td>\n",
       "      <td>0.0</td>\n",
       "      <td>0.0</td>\n",
       "      <td>0.0</td>\n",
       "    </tr>\n",
       "    <tr>\n",
       "      <th>zia</th>\n",
       "      <td>0.0</td>\n",
       "      <td>0.0</td>\n",
       "      <td>0.0</td>\n",
       "      <td>0.0</td>\n",
       "      <td>0.0</td>\n",
       "      <td>0.0</td>\n",
       "      <td>0.0</td>\n",
       "      <td>0.0</td>\n",
       "      <td>0.0</td>\n",
       "      <td>0.0</td>\n",
       "      <td>...</td>\n",
       "      <td>0.0</td>\n",
       "      <td>0.0</td>\n",
       "      <td>0.0</td>\n",
       "      <td>0.0</td>\n",
       "      <td>0.0</td>\n",
       "      <td>0.0</td>\n",
       "      <td>0.0</td>\n",
       "      <td>0.0</td>\n",
       "      <td>0.0</td>\n",
       "      <td>0.0</td>\n",
       "    </tr>\n",
       "    <tr>\n",
       "      <th>zlata's diary: a child's life in sarajevo</th>\n",
       "      <td>0.0</td>\n",
       "      <td>0.0</td>\n",
       "      <td>0.0</td>\n",
       "      <td>0.0</td>\n",
       "      <td>0.0</td>\n",
       "      <td>0.0</td>\n",
       "      <td>0.0</td>\n",
       "      <td>0.0</td>\n",
       "      <td>0.0</td>\n",
       "      <td>0.0</td>\n",
       "      <td>...</td>\n",
       "      <td>0.0</td>\n",
       "      <td>0.0</td>\n",
       "      <td>0.0</td>\n",
       "      <td>0.0</td>\n",
       "      <td>0.0</td>\n",
       "      <td>0.0</td>\n",
       "      <td>0.0</td>\n",
       "      <td>0.0</td>\n",
       "      <td>0.0</td>\n",
       "      <td>0.0</td>\n",
       "    </tr>\n",
       "    <tr>\n",
       "      <th>zodiac: the eco-thriller</th>\n",
       "      <td>0.0</td>\n",
       "      <td>0.0</td>\n",
       "      <td>0.0</td>\n",
       "      <td>0.0</td>\n",
       "      <td>0.0</td>\n",
       "      <td>0.0</td>\n",
       "      <td>0.0</td>\n",
       "      <td>0.0</td>\n",
       "      <td>0.0</td>\n",
       "      <td>0.0</td>\n",
       "      <td>...</td>\n",
       "      <td>0.0</td>\n",
       "      <td>0.0</td>\n",
       "      <td>0.0</td>\n",
       "      <td>0.0</td>\n",
       "      <td>0.0</td>\n",
       "      <td>0.0</td>\n",
       "      <td>0.0</td>\n",
       "      <td>0.0</td>\n",
       "      <td>0.0</td>\n",
       "      <td>0.0</td>\n",
       "    </tr>\n",
       "    <tr>\n",
       "      <th>zoya</th>\n",
       "      <td>0.0</td>\n",
       "      <td>0.0</td>\n",
       "      <td>0.0</td>\n",
       "      <td>0.0</td>\n",
       "      <td>0.0</td>\n",
       "      <td>0.0</td>\n",
       "      <td>0.0</td>\n",
       "      <td>0.0</td>\n",
       "      <td>0.0</td>\n",
       "      <td>0.0</td>\n",
       "      <td>...</td>\n",
       "      <td>0.0</td>\n",
       "      <td>0.0</td>\n",
       "      <td>0.0</td>\n",
       "      <td>0.0</td>\n",
       "      <td>0.0</td>\n",
       "      <td>0.0</td>\n",
       "      <td>0.0</td>\n",
       "      <td>0.0</td>\n",
       "      <td>0.0</td>\n",
       "      <td>0.0</td>\n",
       "    </tr>\n",
       "  </tbody>\n",
       "</table>\n",
       "<p>4401 rows × 87 columns</p>\n",
       "</div>"
      ]
     },
     "execution_count": 192,
     "metadata": {},
     "output_type": "execute_result"
    }
   ],
   "execution_count": 192
  },
  {
   "metadata": {
    "ExecuteTime": {
     "end_time": "2024-11-08T06:41:11.497321Z",
     "start_time": "2024-11-08T06:41:11.477647Z"
    }
   },
   "cell_type": "code",
   "source": [
    "#특정사용자에게 영화 추천\n",
    "book_df.iloc[(ratings_pred[162].argsort()[:-11:-1])]"
   ],
   "id": "a0d1a1180c8fafea",
   "outputs": [
    {
     "data": {
      "text/plain": [
       "      user_id  age  rating             book_title   book_author  \\\n",
       "4400   119341   33       8  To Kill a Mockingbird    Harper Lee   \n",
       "1468    77480   51       2            Wild Animus  Rich Shapero   \n",
       "1462    76436   24       0            Wild Animus  Rich Shapero   \n",
       "1463    76901   16       7            Wild Animus  Rich Shapero   \n",
       "1464    76942   25       0            Wild Animus  Rich Shapero   \n",
       "1465    76968   21       0            Wild Animus  Rich Shapero   \n",
       "1466    77181   33       0            Wild Animus  Rich Shapero   \n",
       "1467    77332   58       0            Wild Animus  Rich Shapero   \n",
       "1469    77809   29       0            Wild Animus  Rich Shapero   \n",
       "1443    74640   28       0            Wild Animus  Rich Shapero   \n",
       "\n",
       "      year_of_publication                                              img_m  \\\n",
       "4400                 1988  http://images.amazon.com/images/P/0446310786.0...   \n",
       "1468                 2004  http://images.amazon.com/images/P/0971880107.0...   \n",
       "1462                 2004  http://images.amazon.com/images/P/0971880107.0...   \n",
       "1463                 2004  http://images.amazon.com/images/P/0971880107.0...   \n",
       "1464                 2004  http://images.amazon.com/images/P/0971880107.0...   \n",
       "1465                 2004  http://images.amazon.com/images/P/0971880107.0...   \n",
       "1466                 2004  http://images.amazon.com/images/P/0971880107.0...   \n",
       "1467                 2004  http://images.amazon.com/images/P/0971880107.0...   \n",
       "1469                 2004  http://images.amazon.com/images/P/0971880107.0...   \n",
       "1443                 2004  http://images.amazon.com/images/P/0971880107.0...   \n",
       "\n",
       "                                                Summary     Category  \\\n",
       "4400  The unforgettable novel of a childhood in a sl...  ['Fiction']   \n",
       "1468  Wild animus is a search for the primordial, a ...  ['Fiction']   \n",
       "1462  Wild animus is a search for the primordial, a ...  ['Fiction']   \n",
       "1463  Wild animus is a search for the primordial, a ...  ['Fiction']   \n",
       "1464  Wild animus is a search for the primordial, a ...  ['Fiction']   \n",
       "1465  Wild animus is a search for the primordial, a ...  ['Fiction']   \n",
       "1466  Wild animus is a search for the primordial, a ...  ['Fiction']   \n",
       "1467  Wild animus is a search for the primordial, a ...  ['Fiction']   \n",
       "1469  Wild animus is a search for the primordial, a ...  ['Fiction']   \n",
       "1443  Wild animus is a search for the primordial, a ...  ['Fiction']   \n",
       "\n",
       "        country Language  \n",
       "4400  australia       en  \n",
       "1468        usa       en  \n",
       "1462   portugal       en  \n",
       "1463     canada       en  \n",
       "1464        usa       en  \n",
       "1465    germany       en  \n",
       "1466        usa       en  \n",
       "1467        usa       en  \n",
       "1469        usa       en  \n",
       "1443        usa       en  "
      ],
      "text/html": [
       "<div>\n",
       "<style scoped>\n",
       "    .dataframe tbody tr th:only-of-type {\n",
       "        vertical-align: middle;\n",
       "    }\n",
       "\n",
       "    .dataframe tbody tr th {\n",
       "        vertical-align: top;\n",
       "    }\n",
       "\n",
       "    .dataframe thead th {\n",
       "        text-align: right;\n",
       "    }\n",
       "</style>\n",
       "<table border=\"1\" class=\"dataframe\">\n",
       "  <thead>\n",
       "    <tr style=\"text-align: right;\">\n",
       "      <th></th>\n",
       "      <th>user_id</th>\n",
       "      <th>age</th>\n",
       "      <th>rating</th>\n",
       "      <th>book_title</th>\n",
       "      <th>book_author</th>\n",
       "      <th>year_of_publication</th>\n",
       "      <th>img_m</th>\n",
       "      <th>Summary</th>\n",
       "      <th>Category</th>\n",
       "      <th>country</th>\n",
       "      <th>Language</th>\n",
       "    </tr>\n",
       "  </thead>\n",
       "  <tbody>\n",
       "    <tr>\n",
       "      <th>4400</th>\n",
       "      <td>119341</td>\n",
       "      <td>33</td>\n",
       "      <td>8</td>\n",
       "      <td>To Kill a Mockingbird</td>\n",
       "      <td>Harper Lee</td>\n",
       "      <td>1988</td>\n",
       "      <td>http://images.amazon.com/images/P/0446310786.0...</td>\n",
       "      <td>The unforgettable novel of a childhood in a sl...</td>\n",
       "      <td>['Fiction']</td>\n",
       "      <td>australia</td>\n",
       "      <td>en</td>\n",
       "    </tr>\n",
       "    <tr>\n",
       "      <th>1468</th>\n",
       "      <td>77480</td>\n",
       "      <td>51</td>\n",
       "      <td>2</td>\n",
       "      <td>Wild Animus</td>\n",
       "      <td>Rich Shapero</td>\n",
       "      <td>2004</td>\n",
       "      <td>http://images.amazon.com/images/P/0971880107.0...</td>\n",
       "      <td>Wild animus is a search for the primordial, a ...</td>\n",
       "      <td>['Fiction']</td>\n",
       "      <td>usa</td>\n",
       "      <td>en</td>\n",
       "    </tr>\n",
       "    <tr>\n",
       "      <th>1462</th>\n",
       "      <td>76436</td>\n",
       "      <td>24</td>\n",
       "      <td>0</td>\n",
       "      <td>Wild Animus</td>\n",
       "      <td>Rich Shapero</td>\n",
       "      <td>2004</td>\n",
       "      <td>http://images.amazon.com/images/P/0971880107.0...</td>\n",
       "      <td>Wild animus is a search for the primordial, a ...</td>\n",
       "      <td>['Fiction']</td>\n",
       "      <td>portugal</td>\n",
       "      <td>en</td>\n",
       "    </tr>\n",
       "    <tr>\n",
       "      <th>1463</th>\n",
       "      <td>76901</td>\n",
       "      <td>16</td>\n",
       "      <td>7</td>\n",
       "      <td>Wild Animus</td>\n",
       "      <td>Rich Shapero</td>\n",
       "      <td>2004</td>\n",
       "      <td>http://images.amazon.com/images/P/0971880107.0...</td>\n",
       "      <td>Wild animus is a search for the primordial, a ...</td>\n",
       "      <td>['Fiction']</td>\n",
       "      <td>canada</td>\n",
       "      <td>en</td>\n",
       "    </tr>\n",
       "    <tr>\n",
       "      <th>1464</th>\n",
       "      <td>76942</td>\n",
       "      <td>25</td>\n",
       "      <td>0</td>\n",
       "      <td>Wild Animus</td>\n",
       "      <td>Rich Shapero</td>\n",
       "      <td>2004</td>\n",
       "      <td>http://images.amazon.com/images/P/0971880107.0...</td>\n",
       "      <td>Wild animus is a search for the primordial, a ...</td>\n",
       "      <td>['Fiction']</td>\n",
       "      <td>usa</td>\n",
       "      <td>en</td>\n",
       "    </tr>\n",
       "    <tr>\n",
       "      <th>1465</th>\n",
       "      <td>76968</td>\n",
       "      <td>21</td>\n",
       "      <td>0</td>\n",
       "      <td>Wild Animus</td>\n",
       "      <td>Rich Shapero</td>\n",
       "      <td>2004</td>\n",
       "      <td>http://images.amazon.com/images/P/0971880107.0...</td>\n",
       "      <td>Wild animus is a search for the primordial, a ...</td>\n",
       "      <td>['Fiction']</td>\n",
       "      <td>germany</td>\n",
       "      <td>en</td>\n",
       "    </tr>\n",
       "    <tr>\n",
       "      <th>1466</th>\n",
       "      <td>77181</td>\n",
       "      <td>33</td>\n",
       "      <td>0</td>\n",
       "      <td>Wild Animus</td>\n",
       "      <td>Rich Shapero</td>\n",
       "      <td>2004</td>\n",
       "      <td>http://images.amazon.com/images/P/0971880107.0...</td>\n",
       "      <td>Wild animus is a search for the primordial, a ...</td>\n",
       "      <td>['Fiction']</td>\n",
       "      <td>usa</td>\n",
       "      <td>en</td>\n",
       "    </tr>\n",
       "    <tr>\n",
       "      <th>1467</th>\n",
       "      <td>77332</td>\n",
       "      <td>58</td>\n",
       "      <td>0</td>\n",
       "      <td>Wild Animus</td>\n",
       "      <td>Rich Shapero</td>\n",
       "      <td>2004</td>\n",
       "      <td>http://images.amazon.com/images/P/0971880107.0...</td>\n",
       "      <td>Wild animus is a search for the primordial, a ...</td>\n",
       "      <td>['Fiction']</td>\n",
       "      <td>usa</td>\n",
       "      <td>en</td>\n",
       "    </tr>\n",
       "    <tr>\n",
       "      <th>1469</th>\n",
       "      <td>77809</td>\n",
       "      <td>29</td>\n",
       "      <td>0</td>\n",
       "      <td>Wild Animus</td>\n",
       "      <td>Rich Shapero</td>\n",
       "      <td>2004</td>\n",
       "      <td>http://images.amazon.com/images/P/0971880107.0...</td>\n",
       "      <td>Wild animus is a search for the primordial, a ...</td>\n",
       "      <td>['Fiction']</td>\n",
       "      <td>usa</td>\n",
       "      <td>en</td>\n",
       "    </tr>\n",
       "    <tr>\n",
       "      <th>1443</th>\n",
       "      <td>74640</td>\n",
       "      <td>28</td>\n",
       "      <td>0</td>\n",
       "      <td>Wild Animus</td>\n",
       "      <td>Rich Shapero</td>\n",
       "      <td>2004</td>\n",
       "      <td>http://images.amazon.com/images/P/0971880107.0...</td>\n",
       "      <td>Wild animus is a search for the primordial, a ...</td>\n",
       "      <td>['Fiction']</td>\n",
       "      <td>usa</td>\n",
       "      <td>en</td>\n",
       "    </tr>\n",
       "  </tbody>\n",
       "</table>\n",
       "</div>"
      ]
     },
     "execution_count": 167,
     "metadata": {},
     "output_type": "execute_result"
    }
   ],
   "execution_count": 167
  },
  {
   "metadata": {
    "ExecuteTime": {
     "end_time": "2024-11-08T06:41:13.521567Z",
     "start_time": "2024-11-08T06:41:13.501708Z"
    }
   },
   "cell_type": "code",
   "source": [
    "# 사용자별 안본 영화 조회\n",
    "\n",
    "def get_unseen_book(user_idx):\n",
    "    user_ratings_df = user_book_df.iloc[user_idx]\n",
    "    return user_ratings_df[user_ratings_df == 0]\n",
    "'1984' in get_unseen_book(162)"
   ],
   "id": "9c27114b479b026a",
   "outputs": [
    {
     "data": {
      "text/plain": [
       "True"
      ]
     },
     "execution_count": 168,
     "metadata": {},
     "output_type": "execute_result"
    }
   ],
   "execution_count": 168
  },
  {
   "metadata": {
    "ExecuteTime": {
     "end_time": "2024-11-08T06:41:15.552855Z",
     "start_time": "2024-11-08T06:41:15.446322Z"
    }
   },
   "cell_type": "code",
   "source": [
    "def recommend_book(user_idx, topn=10):\n",
    "    # 안 본 책을 찾기\n",
    "    unseen = get_unseen_book(user_idx).index\n",
    "    \n",
    "    # 예측 평점 상위 topn 개의 책 추천\n",
    "    temp = ratings_pred_df.loc[user_idx, unseen].sort_values(ascending=False)[:topn]\n",
    "    \n",
    "    # 사용자 평점 조회\n",
    "    user_ratings_df = user_book_df.loc[user_idx, temp.index]\n",
    "\n",
    "    # 추천 결과 반환\n",
    "    return pd.DataFrame({\n",
    "        'title': temp.index,\n",
    "        'pred_rating': temp.values,\n",
    "        'user_rating': user_ratings_df.values\n",
    "    })\n",
    "\n",
    "# 추천 함수 호출\n",
    "recommend_book(23)"
   ],
   "id": "446edda96cf0e133",
   "outputs": [
    {
     "ename": "KeyError",
     "evalue": "23",
     "output_type": "error",
     "traceback": [
      "\u001B[1;31m---------------------------------------------------------------------------\u001B[0m",
      "\u001B[1;31mKeyError\u001B[0m                                  Traceback (most recent call last)",
      "File \u001B[1;32m~\\anaconda3\\Lib\\site-packages\\pandas\\core\\indexes\\base.py:3805\u001B[0m, in \u001B[0;36mIndex.get_loc\u001B[1;34m(self, key)\u001B[0m\n\u001B[0;32m   3804\u001B[0m \u001B[38;5;28;01mtry\u001B[39;00m:\n\u001B[1;32m-> 3805\u001B[0m     \u001B[38;5;28;01mreturn\u001B[39;00m \u001B[38;5;28mself\u001B[39m\u001B[38;5;241m.\u001B[39m_engine\u001B[38;5;241m.\u001B[39mget_loc(casted_key)\n\u001B[0;32m   3806\u001B[0m \u001B[38;5;28;01mexcept\u001B[39;00m \u001B[38;5;167;01mKeyError\u001B[39;00m \u001B[38;5;28;01mas\u001B[39;00m err:\n",
      "File \u001B[1;32mindex.pyx:167\u001B[0m, in \u001B[0;36mpandas._libs.index.IndexEngine.get_loc\u001B[1;34m()\u001B[0m\n",
      "File \u001B[1;32mindex.pyx:196\u001B[0m, in \u001B[0;36mpandas._libs.index.IndexEngine.get_loc\u001B[1;34m()\u001B[0m\n",
      "File \u001B[1;32mpandas\\\\_libs\\\\hashtable_class_helper.pxi:2606\u001B[0m, in \u001B[0;36mpandas._libs.hashtable.Int64HashTable.get_item\u001B[1;34m()\u001B[0m\n",
      "File \u001B[1;32mpandas\\\\_libs\\\\hashtable_class_helper.pxi:2630\u001B[0m, in \u001B[0;36mpandas._libs.hashtable.Int64HashTable.get_item\u001B[1;34m()\u001B[0m\n",
      "\u001B[1;31mKeyError\u001B[0m: 23",
      "\nThe above exception was the direct cause of the following exception:\n",
      "\u001B[1;31mKeyError\u001B[0m                                  Traceback (most recent call last)",
      "Cell \u001B[1;32mIn[169], line 19\u001B[0m\n\u001B[0;32m     12\u001B[0m     \u001B[38;5;28;01mreturn\u001B[39;00m pd\u001B[38;5;241m.\u001B[39mDataFrame({\n\u001B[0;32m     13\u001B[0m         \u001B[38;5;124m'\u001B[39m\u001B[38;5;124mtitle\u001B[39m\u001B[38;5;124m'\u001B[39m: temp\u001B[38;5;241m.\u001B[39mindex,\n\u001B[0;32m     14\u001B[0m         \u001B[38;5;124m'\u001B[39m\u001B[38;5;124mpred_rating\u001B[39m\u001B[38;5;124m'\u001B[39m: temp\u001B[38;5;241m.\u001B[39mvalues,\n\u001B[0;32m     15\u001B[0m         \u001B[38;5;124m'\u001B[39m\u001B[38;5;124muser_rating\u001B[39m\u001B[38;5;124m'\u001B[39m: user_ratings_df\u001B[38;5;241m.\u001B[39mvalues\n\u001B[0;32m     16\u001B[0m     })\n\u001B[0;32m     18\u001B[0m \u001B[38;5;66;03m# 추천 함수 호출\u001B[39;00m\n\u001B[1;32m---> 19\u001B[0m recommend_book(\u001B[38;5;241m23\u001B[39m)\n",
      "Cell \u001B[1;32mIn[169], line 6\u001B[0m, in \u001B[0;36mrecommend_book\u001B[1;34m(user_idx, topn)\u001B[0m\n\u001B[0;32m      3\u001B[0m unseen \u001B[38;5;241m=\u001B[39m get_unseen_book(user_idx)\u001B[38;5;241m.\u001B[39mindex\n\u001B[0;32m      5\u001B[0m \u001B[38;5;66;03m# 예측 평점 상위 topn 개의 책 추천\u001B[39;00m\n\u001B[1;32m----> 6\u001B[0m temp \u001B[38;5;241m=\u001B[39m ratings_pred_df\u001B[38;5;241m.\u001B[39mloc[user_idx, unseen]\u001B[38;5;241m.\u001B[39msort_values(ascending\u001B[38;5;241m=\u001B[39m\u001B[38;5;28;01mFalse\u001B[39;00m)[:topn]\n\u001B[0;32m      8\u001B[0m \u001B[38;5;66;03m# 사용자 평점 조회\u001B[39;00m\n\u001B[0;32m      9\u001B[0m user_ratings_df \u001B[38;5;241m=\u001B[39m user_book_df\u001B[38;5;241m.\u001B[39mloc[user_idx, temp\u001B[38;5;241m.\u001B[39mindex]\n",
      "File \u001B[1;32m~\\anaconda3\\Lib\\site-packages\\pandas\\core\\indexing.py:1184\u001B[0m, in \u001B[0;36m_LocationIndexer.__getitem__\u001B[1;34m(self, key)\u001B[0m\n\u001B[0;32m   1182\u001B[0m     \u001B[38;5;28;01mif\u001B[39;00m \u001B[38;5;28mself\u001B[39m\u001B[38;5;241m.\u001B[39m_is_scalar_access(key):\n\u001B[0;32m   1183\u001B[0m         \u001B[38;5;28;01mreturn\u001B[39;00m \u001B[38;5;28mself\u001B[39m\u001B[38;5;241m.\u001B[39mobj\u001B[38;5;241m.\u001B[39m_get_value(\u001B[38;5;241m*\u001B[39mkey, takeable\u001B[38;5;241m=\u001B[39m\u001B[38;5;28mself\u001B[39m\u001B[38;5;241m.\u001B[39m_takeable)\n\u001B[1;32m-> 1184\u001B[0m     \u001B[38;5;28;01mreturn\u001B[39;00m \u001B[38;5;28mself\u001B[39m\u001B[38;5;241m.\u001B[39m_getitem_tuple(key)\n\u001B[0;32m   1185\u001B[0m \u001B[38;5;28;01melse\u001B[39;00m:\n\u001B[0;32m   1186\u001B[0m     \u001B[38;5;66;03m# we by definition only have the 0th axis\u001B[39;00m\n\u001B[0;32m   1187\u001B[0m     axis \u001B[38;5;241m=\u001B[39m \u001B[38;5;28mself\u001B[39m\u001B[38;5;241m.\u001B[39maxis \u001B[38;5;129;01mor\u001B[39;00m \u001B[38;5;241m0\u001B[39m\n",
      "File \u001B[1;32m~\\anaconda3\\Lib\\site-packages\\pandas\\core\\indexing.py:1368\u001B[0m, in \u001B[0;36m_LocIndexer._getitem_tuple\u001B[1;34m(self, tup)\u001B[0m\n\u001B[0;32m   1366\u001B[0m \u001B[38;5;28;01mwith\u001B[39;00m suppress(IndexingError):\n\u001B[0;32m   1367\u001B[0m     tup \u001B[38;5;241m=\u001B[39m \u001B[38;5;28mself\u001B[39m\u001B[38;5;241m.\u001B[39m_expand_ellipsis(tup)\n\u001B[1;32m-> 1368\u001B[0m     \u001B[38;5;28;01mreturn\u001B[39;00m \u001B[38;5;28mself\u001B[39m\u001B[38;5;241m.\u001B[39m_getitem_lowerdim(tup)\n\u001B[0;32m   1370\u001B[0m \u001B[38;5;66;03m# no multi-index, so validate all of the indexers\u001B[39;00m\n\u001B[0;32m   1371\u001B[0m tup \u001B[38;5;241m=\u001B[39m \u001B[38;5;28mself\u001B[39m\u001B[38;5;241m.\u001B[39m_validate_tuple_indexer(tup)\n",
      "File \u001B[1;32m~\\anaconda3\\Lib\\site-packages\\pandas\\core\\indexing.py:1065\u001B[0m, in \u001B[0;36m_LocationIndexer._getitem_lowerdim\u001B[1;34m(self, tup)\u001B[0m\n\u001B[0;32m   1061\u001B[0m \u001B[38;5;28;01mfor\u001B[39;00m i, key \u001B[38;5;129;01min\u001B[39;00m \u001B[38;5;28menumerate\u001B[39m(tup):\n\u001B[0;32m   1062\u001B[0m     \u001B[38;5;28;01mif\u001B[39;00m is_label_like(key):\n\u001B[0;32m   1063\u001B[0m         \u001B[38;5;66;03m# We don't need to check for tuples here because those are\u001B[39;00m\n\u001B[0;32m   1064\u001B[0m         \u001B[38;5;66;03m#  caught by the _is_nested_tuple_indexer check above.\u001B[39;00m\n\u001B[1;32m-> 1065\u001B[0m         section \u001B[38;5;241m=\u001B[39m \u001B[38;5;28mself\u001B[39m\u001B[38;5;241m.\u001B[39m_getitem_axis(key, axis\u001B[38;5;241m=\u001B[39mi)\n\u001B[0;32m   1067\u001B[0m         \u001B[38;5;66;03m# We should never have a scalar section here, because\u001B[39;00m\n\u001B[0;32m   1068\u001B[0m         \u001B[38;5;66;03m#  _getitem_lowerdim is only called after a check for\u001B[39;00m\n\u001B[0;32m   1069\u001B[0m         \u001B[38;5;66;03m#  is_scalar_access, which that would be.\u001B[39;00m\n\u001B[0;32m   1070\u001B[0m         \u001B[38;5;28;01mif\u001B[39;00m section\u001B[38;5;241m.\u001B[39mndim \u001B[38;5;241m==\u001B[39m \u001B[38;5;28mself\u001B[39m\u001B[38;5;241m.\u001B[39mndim:\n\u001B[0;32m   1071\u001B[0m             \u001B[38;5;66;03m# we're in the middle of slicing through a MultiIndex\u001B[39;00m\n\u001B[0;32m   1072\u001B[0m             \u001B[38;5;66;03m# revise the key wrt to `section` by inserting an _NS\u001B[39;00m\n",
      "File \u001B[1;32m~\\anaconda3\\Lib\\site-packages\\pandas\\core\\indexing.py:1431\u001B[0m, in \u001B[0;36m_LocIndexer._getitem_axis\u001B[1;34m(self, key, axis)\u001B[0m\n\u001B[0;32m   1429\u001B[0m \u001B[38;5;66;03m# fall thru to straight lookup\u001B[39;00m\n\u001B[0;32m   1430\u001B[0m \u001B[38;5;28mself\u001B[39m\u001B[38;5;241m.\u001B[39m_validate_key(key, axis)\n\u001B[1;32m-> 1431\u001B[0m \u001B[38;5;28;01mreturn\u001B[39;00m \u001B[38;5;28mself\u001B[39m\u001B[38;5;241m.\u001B[39m_get_label(key, axis\u001B[38;5;241m=\u001B[39maxis)\n",
      "File \u001B[1;32m~\\anaconda3\\Lib\\site-packages\\pandas\\core\\indexing.py:1381\u001B[0m, in \u001B[0;36m_LocIndexer._get_label\u001B[1;34m(self, label, axis)\u001B[0m\n\u001B[0;32m   1379\u001B[0m \u001B[38;5;28;01mdef\u001B[39;00m \u001B[38;5;21m_get_label\u001B[39m(\u001B[38;5;28mself\u001B[39m, label, axis: AxisInt):\n\u001B[0;32m   1380\u001B[0m     \u001B[38;5;66;03m# GH#5567 this will fail if the label is not present in the axis.\u001B[39;00m\n\u001B[1;32m-> 1381\u001B[0m     \u001B[38;5;28;01mreturn\u001B[39;00m \u001B[38;5;28mself\u001B[39m\u001B[38;5;241m.\u001B[39mobj\u001B[38;5;241m.\u001B[39mxs(label, axis\u001B[38;5;241m=\u001B[39maxis)\n",
      "File \u001B[1;32m~\\anaconda3\\Lib\\site-packages\\pandas\\core\\generic.py:4301\u001B[0m, in \u001B[0;36mNDFrame.xs\u001B[1;34m(self, key, axis, level, drop_level)\u001B[0m\n\u001B[0;32m   4299\u001B[0m             new_index \u001B[38;5;241m=\u001B[39m index[loc]\n\u001B[0;32m   4300\u001B[0m \u001B[38;5;28;01melse\u001B[39;00m:\n\u001B[1;32m-> 4301\u001B[0m     loc \u001B[38;5;241m=\u001B[39m index\u001B[38;5;241m.\u001B[39mget_loc(key)\n\u001B[0;32m   4303\u001B[0m     \u001B[38;5;28;01mif\u001B[39;00m \u001B[38;5;28misinstance\u001B[39m(loc, np\u001B[38;5;241m.\u001B[39mndarray):\n\u001B[0;32m   4304\u001B[0m         \u001B[38;5;28;01mif\u001B[39;00m loc\u001B[38;5;241m.\u001B[39mdtype \u001B[38;5;241m==\u001B[39m np\u001B[38;5;241m.\u001B[39mbool_:\n",
      "File \u001B[1;32m~\\anaconda3\\Lib\\site-packages\\pandas\\core\\indexes\\base.py:3812\u001B[0m, in \u001B[0;36mIndex.get_loc\u001B[1;34m(self, key)\u001B[0m\n\u001B[0;32m   3807\u001B[0m     \u001B[38;5;28;01mif\u001B[39;00m \u001B[38;5;28misinstance\u001B[39m(casted_key, \u001B[38;5;28mslice\u001B[39m) \u001B[38;5;129;01mor\u001B[39;00m (\n\u001B[0;32m   3808\u001B[0m         \u001B[38;5;28misinstance\u001B[39m(casted_key, abc\u001B[38;5;241m.\u001B[39mIterable)\n\u001B[0;32m   3809\u001B[0m         \u001B[38;5;129;01mand\u001B[39;00m \u001B[38;5;28many\u001B[39m(\u001B[38;5;28misinstance\u001B[39m(x, \u001B[38;5;28mslice\u001B[39m) \u001B[38;5;28;01mfor\u001B[39;00m x \u001B[38;5;129;01min\u001B[39;00m casted_key)\n\u001B[0;32m   3810\u001B[0m     ):\n\u001B[0;32m   3811\u001B[0m         \u001B[38;5;28;01mraise\u001B[39;00m InvalidIndexError(key)\n\u001B[1;32m-> 3812\u001B[0m     \u001B[38;5;28;01mraise\u001B[39;00m \u001B[38;5;167;01mKeyError\u001B[39;00m(key) \u001B[38;5;28;01mfrom\u001B[39;00m \u001B[38;5;21;01merr\u001B[39;00m\n\u001B[0;32m   3813\u001B[0m \u001B[38;5;28;01mexcept\u001B[39;00m \u001B[38;5;167;01mTypeError\u001B[39;00m:\n\u001B[0;32m   3814\u001B[0m     \u001B[38;5;66;03m# If we have a listlike key, _check_indexing_error will raise\u001B[39;00m\n\u001B[0;32m   3815\u001B[0m     \u001B[38;5;66;03m#  InvalidIndexError. Otherwise we fall through and re-raise\u001B[39;00m\n\u001B[0;32m   3816\u001B[0m     \u001B[38;5;66;03m#  the TypeError.\u001B[39;00m\n\u001B[0;32m   3817\u001B[0m     \u001B[38;5;28mself\u001B[39m\u001B[38;5;241m.\u001B[39m_check_indexing_error(key)\n",
      "\u001B[1;31mKeyError\u001B[0m: 23"
     ]
    }
   ],
   "execution_count": 169
  },
  {
   "metadata": {
    "ExecuteTime": {
     "end_time": "2024-11-08T06:41:18.441680Z",
     "start_time": "2024-11-08T06:41:18.427514Z"
    }
   },
   "cell_type": "code",
   "source": [
    "# 사용자별 영화 추천\n",
    "'''\n",
    "def recommend_book(user_idx, topn=10):\n",
    "    #안본 책 (series 반환 후 , index 책 제목을 label로 변환)\n",
    "    unseen = get_unseen_book(user_idx).index\n",
    "# 예측 평점 상위 topn 개의 영화 추천\n",
    "    temp = ratings_pred_df.loc[user_idx, unseen].sort_values(ascending=False)[:topn]\n",
    "# 사용자 평점 조회 ( 모두 안본 책 확인):\n",
    "# loc는 라벨조회 이므로, 올바른 user ID 조회를 위해 \n",
    "# user_idx + 1로 처리함\n",
    "    \n",
    "    user_ratings_df = user_book_df.loc[user_idx + 1, temp.index]\n",
    "\n",
    "    return pd.DataFrame({\n",
    "        'title': temp.index,\n",
    "        'pred_rating': temp.values,\n",
    "        'user_rating': user_ratings_df.values\n",
    "    })\n",
    "\n",
    "recommend_book(23)'''"
   ],
   "id": "d99753e0938db226",
   "outputs": [
    {
     "data": {
      "text/plain": [
       "\"\\ndef recommend_book(user_idx, topn=10):\\n    #안본 책 (series 반환 후 , index 책 제목을 label로 변환)\\n    unseen = get_unseen_book(user_idx).index\\n# 예측 평점 상위 topn 개의 영화 추천\\n    temp = ratings_pred_df.loc[user_idx, unseen].sort_values(ascending=False)[:topn]\\n# 사용자 평점 조회 ( 모두 안본 책 확인):\\n# loc는 라벨조회 이므로, 올바른 user ID 조회를 위해 \\n# user_idx + 1로 처리함\\n    \\n    user_ratings_df = user_book_df.loc[user_idx + 1, temp.index]\\n\\n    return pd.DataFrame({\\n        'title': temp.index,\\n        'pred_rating': temp.values,\\n        'user_rating': user_ratings_df.values\\n    })\\n\\nrecommend_book(23)\""
      ]
     },
     "execution_count": 170,
     "metadata": {},
     "output_type": "execute_result"
    }
   ],
   "execution_count": 170
  },
  {
   "metadata": {
    "ExecuteTime": {
     "end_time": "2024-11-08T07:19:25.811786Z",
     "start_time": "2024-11-08T07:19:25.804872Z"
    }
   },
   "cell_type": "code",
   "source": [
    "# 특정 도서의 상위 평점 도서 조회\n",
    "\n",
    "def get_user_topn_book(user_idx, topn=10):\n",
    "    return user_book_df.iloc[user_idx].sort_values(ascending=False)[:topn]\n",
    "get_user_topn_book(33)\n"
   ],
   "id": "cc0577ab7de701c3",
   "outputs": [
    {
     "data": {
      "text/plain": [
       "book_title\n",
       "hinds' feet on high places                         10.0\n",
       "number the stars (yearling newbery)                10.0\n",
       "atlas shrugged                                      9.0\n",
       "the mists of avalon                                 9.0\n",
       "divine secrets of the ya-ya sisterhood: a novel     9.0\n",
       "the good earth (enriched classics)                  8.0\n",
       "the fountainhead                                    8.0\n",
       "the secret life of bees                             8.0\n",
       "skipping christmas                                  7.0\n",
       "to the nines: a stephanie plum novel                7.0\n",
       "Name: 2337, dtype: float64"
      ]
     },
     "execution_count": 195,
     "metadata": {},
     "output_type": "execute_result"
    }
   ],
   "execution_count": 195
  }
 ],
 "metadata": {
  "kernelspec": {
   "display_name": "Python 3",
   "language": "python",
   "name": "python3"
  },
  "language_info": {
   "codemirror_mode": {
    "name": "ipython",
    "version": 2
   },
   "file_extension": ".py",
   "mimetype": "text/x-python",
   "name": "python",
   "nbconvert_exporter": "python",
   "pygments_lexer": "ipython2",
   "version": "2.7.6"
  }
 },
 "nbformat": 4,
 "nbformat_minor": 5
}
