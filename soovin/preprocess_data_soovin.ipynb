{
 "cells": [
  {
   "cell_type": "code",
   "id": "initial_id",
   "metadata": {
    "collapsed": true,
    "ExecuteTime": {
     "end_time": "2024-11-08T00:14:40.561552Z",
     "start_time": "2024-11-08T00:14:40.558135Z"
    }
   },
   "source": [
    "import pandas as pd\n",
    "import numpy as np\n",
    "import matplotlib.pyplot as plt\n",
    "import seaborn as sns"
   ],
   "outputs": [],
   "execution_count": 1
  },
  {
   "metadata": {},
   "cell_type": "markdown",
   "source": [
    "#### 데이터 전처리\n",
    "- kaggle dataset "
   ],
   "id": "7ebc78c0a259c775"
  },
  {
   "metadata": {
    "ExecuteTime": {
     "end_time": "2024-11-08T00:14:47.623170Z",
     "start_time": "2024-11-08T00:14:40.580554Z"
    }
   },
   "cell_type": "code",
   "source": "book_df=pd.read_csv('./data/book_review_data.csv')",
   "id": "c5b6e4a98a06dfbe",
   "outputs": [],
   "execution_count": 2
  },
  {
   "metadata": {
    "ExecuteTime": {
     "end_time": "2024-11-08T00:14:48.489611Z",
     "start_time": "2024-11-08T00:14:48.296970Z"
    }
   },
   "cell_type": "code",
   "source": [
    "# 1) 필요한 컬럼 도출\n",
    "# 2) 형변환 (float > int)\n",
    "\n",
    "book_df=book_df[['user_id',\"age\",\"rating\",\"book_title\",'book_author','year_of_publication','img_m','Summary','Category','country','Language']]\n",
    "book_df[['age',\"year_of_publication\"]]=book_df[['age',\"year_of_publication\"]].astype(int)"
   ],
   "id": "a91a7feaa0d36a4a",
   "outputs": [],
   "execution_count": 3
  },
  {
   "metadata": {
    "ExecuteTime": {
     "end_time": "2024-11-08T00:14:48.929012Z",
     "start_time": "2024-11-08T00:14:48.507848Z"
    }
   },
   "cell_type": "code",
   "source": [
    "# 최소 평가 개수 ( 평가가 30개보다 많은 책만 추출 )\n",
    "counts=book_df['book_title'].value_counts()\n",
    "title = counts[counts > 30].index\n",
    "book_filter_df=book_df[book_df['book_title'].isin(title)]\n"
   ],
   "id": "538437861c6b56cb",
   "outputs": [],
   "execution_count": 4
  },
  {
   "metadata": {
    "ExecuteTime": {
     "end_time": "2024-11-08T00:14:49.029635Z",
     "start_time": "2024-11-08T00:14:48.951046Z"
    }
   },
   "cell_type": "code",
   "source": [
    "# 최소 평가 개수 ( 평가가 20개보다 많은 사용자만 추출 )\n",
    "counts=book_filter_df[\"user_id\"].value_counts()\n",
    "user_id_=counts[counts>10].index\n",
    "book_filter_df = book_filter_df[book_filter_df['user_id'].isin(user_id_)]"
   ],
   "id": "394e64cd0b88a858",
   "outputs": [],
   "execution_count": 5
  },
  {
   "metadata": {
    "ExecuteTime": {
     "end_time": "2024-11-08T00:14:49.120827Z",
     "start_time": "2024-11-08T00:14:49.052051Z"
    }
   },
   "cell_type": "code",
   "source": [
    "# 무의미한 0점 평가 제거\n",
    "rating_zero=book_filter_df[book_filter_df['rating']==0].index\n",
    "book_filter_df.drop(rating_zero, axis=0, inplace=True)"
   ],
   "id": "8da03a2eae0c9e69",
   "outputs": [],
   "execution_count": 6
  },
  {
   "metadata": {},
   "cell_type": "markdown",
   "source": "",
   "id": "e509a8503bc2ce77"
  },
  {
   "metadata": {
    "ExecuteTime": {
     "end_time": "2024-11-08T00:14:49.232518Z",
     "start_time": "2024-11-08T00:14:49.153619Z"
    }
   },
   "cell_type": "code",
   "source": [
    "# 한 카테고리안에 책이 5권 미만인 경우 제거\n",
    "counts=book_filter_df[\"Category\"].value_counts()\n",
    "categories = counts[counts > 5].index\n",
    "book_filter_df = book_filter_df[book_filter_df['Category'].isin(categories)]\n",
    "\n",
    "idx=book_filter_df[book_filter_df[\"Summary\"]=='9'].index\n",
    "book_filter_df.drop(idx,axis=0,inplace=True)\n",
    "\n",
    "book_filter_df[\"book_title\"]=book_filter_df['book_title'].str.lower()\n",
    "book_filter_df[\"Summary\"]=book_filter_df[\"Summary\"].str.lower()"
   ],
   "id": "b779c5ab7eb237d7",
   "outputs": [],
   "execution_count": 7
  },
  {
   "metadata": {
    "ExecuteTime": {
     "end_time": "2024-11-08T00:14:49.279500Z",
     "start_time": "2024-11-08T00:14:49.254084Z"
    }
   },
   "cell_type": "code",
   "source": [
    "book_filter_df.shape\n",
    "len(book_filter_df['book_title'].unique())"
   ],
   "id": "2d6073259aeb1ef",
   "outputs": [
    {
     "data": {
      "text/plain": [
       "3450"
      ]
     },
     "execution_count": 8,
     "metadata": {},
     "output_type": "execute_result"
    }
   ],
   "execution_count": 8
  },
  {
   "metadata": {},
   "cell_type": "markdown",
   "source": "#### user_book_rating dataframe",
   "id": "9e240d4c93668c34"
  },
  {
   "metadata": {
    "ExecuteTime": {
     "end_time": "2024-11-08T00:14:49.737817Z",
     "start_time": "2024-11-08T00:14:49.304920Z"
    }
   },
   "cell_type": "code",
   "source": [
    "user_book_df=book_filter_df.pivot_table(index='user_id',columns='book_title',values='rating',fill_value=0)\n",
    "book_user_df=user_book_df.T\n",
    "user_book_df.shape # user간 유사도 구할거 아니니까"
   ],
   "id": "27a4ecd611c9f240",
   "outputs": [
    {
     "data": {
      "text/plain": [
       "(4836, 3450)"
      ]
     },
     "execution_count": 9,
     "metadata": {},
     "output_type": "execute_result"
    }
   ],
   "execution_count": 9
  },
  {
   "metadata": {
    "ExecuteTime": {
     "end_time": "2024-11-08T00:14:49.800788Z",
     "start_time": "2024-11-08T00:14:49.783951Z"
    }
   },
   "cell_type": "code",
   "source": "user_book_df.iloc[55].sort_values(ascending=False)[:10]",
   "id": "ad73a8291a2fff5e",
   "outputs": [
    {
     "data": {
      "text/plain": [
       "book_title\n",
       "thinner                                                                     8.0\n",
       "christine                                                                   8.0\n",
       "stupid white men ...and other sorry excuses for the state of the nation!    6.0\n",
       "cujo                                                                        6.0\n",
       "'salem's lot                                                                0.0\n",
       "sweet hereafter movie tie-in : a novel                                      0.0\n",
       "sunset in st. tropez                                                        0.0\n",
       "superfudge (yearling books (paperback))                                     0.0\n",
       "superstitious                                                               0.0\n",
       "surfacing                                                                   0.0\n",
       "Name: 4334, dtype: float64"
      ]
     },
     "execution_count": 10,
     "metadata": {},
     "output_type": "execute_result"
    }
   ],
   "execution_count": 10
  },
  {
   "metadata": {},
   "cell_type": "markdown",
   "source": "#### age_title_count dataframe",
   "id": "fc30f1dca0d21f9e"
  },
  {
   "metadata": {
    "ExecuteTime": {
     "end_time": "2024-11-08T00:14:50.375631Z",
     "start_time": "2024-11-08T00:14:50.351947Z"
    }
   },
   "cell_type": "code",
   "source": "book_filter_df[\"age\"].value_counts()",
   "id": "b19b1497e1710b5e",
   "outputs": [
    {
     "data": {
      "text/plain": [
       "age\n",
       "34    16829\n",
       "33     1882\n",
       "29     1708\n",
       "28     1689\n",
       "32     1585\n",
       "      ...  \n",
       "76        6\n",
       "11        5\n",
       "84        5\n",
       "10        3\n",
       "97        2\n",
       "Name: count, Length: 78, dtype: int64"
      ]
     },
     "execution_count": 11,
     "metadata": {},
     "output_type": "execute_result"
    }
   ],
   "execution_count": 11
  },
  {
   "metadata": {
    "ExecuteTime": {
     "end_time": "2024-11-08T00:14:50.517146Z",
     "start_time": "2024-11-08T00:14:50.511952Z"
    }
   },
   "cell_type": "code",
   "source": [
    "def make_ages(age):\n",
    "    if 10<=age<20:\n",
    "        return 10\n",
    "    elif 20<=age<30:\n",
    "        return 20\n",
    "    elif 30<=age<40:\n",
    "        return 30\n",
    "    elif 40<=age<50:\n",
    "        return 40\n",
    "    elif 50<=age<60:\n",
    "        return 50\n",
    "    elif 60<=age<70:\n",
    "        return 60\n",
    "    else:\n",
    "        return 70"
   ],
   "id": "5c222ce5cf52ff8d",
   "outputs": [],
   "execution_count": 12
  },
  {
   "metadata": {
    "ExecuteTime": {
     "end_time": "2024-11-08T00:14:50.664444Z",
     "start_time": "2024-11-08T00:14:50.620481Z"
    }
   },
   "cell_type": "code",
   "source": "book_filter_df['ages'] = book_filter_df['age'].apply(make_ages)",
   "id": "5e4bb23935af805a",
   "outputs": [],
   "execution_count": 13
  },
  {
   "metadata": {
    "ExecuteTime": {
     "end_time": "2024-11-08T00:14:50.798121Z",
     "start_time": "2024-11-08T00:14:50.768514Z"
    }
   },
   "cell_type": "code",
   "source": "ages_book_=book_filter_df.groupby(['ages','book_title']).size().reset_index(name='count')",
   "id": "c3157ad7d03f7a60",
   "outputs": [],
   "execution_count": 14
  },
  {
   "metadata": {
    "ExecuteTime": {
     "end_time": "2024-11-08T00:14:50.906962Z",
     "start_time": "2024-11-08T00:14:50.871002Z"
    }
   },
   "cell_type": "code",
   "source": [
    "ages_book_df=ages_book_.pivot_table(index='ages',columns='book_title',values='count',fill_value=0)\n",
    "book_ages_df=ages_book_df.T\n",
    "book_ages_df[:100]"
   ],
   "id": "3ba5858d68532ae5",
   "outputs": [
    {
     "data": {
      "text/plain": [
       "ages                                       10    20    30   40   50   60   70\n",
       "book_title                                                                   \n",
       "'salem's lot                              0.0   0.0   4.0  1.0  0.0  0.0  0.0\n",
       "10 lb. penalty                            0.0   1.0   5.0  4.0  1.0  1.0  1.0\n",
       "101 dalmatians                            0.0   2.0   0.0  1.0  0.0  0.0  0.0\n",
       "16 lighthouse road                        1.0   1.0   6.0  3.0  2.0  0.0  0.0\n",
       "1984                                      3.0  26.0  18.0  8.0  1.0  0.0  0.0\n",
       "...                                       ...   ...   ...  ...  ...  ...  ...\n",
       "a stitch in time (needlecraft mysteries)  0.0   1.0   4.0  1.0  3.0  0.0  0.0\n",
       "a streetcar named desire                  1.0   7.0   3.0  0.0  1.0  0.0  0.0\n",
       "a sudden change of heart                  0.0   1.0   5.0  1.0  0.0  0.0  0.0\n",
       "a suitable vengeance                      0.0   0.0   4.0  1.0  2.0  0.0  0.0\n",
       "a superior death                          0.0   0.0   4.0  1.0  3.0  0.0  0.0\n",
       "\n",
       "[100 rows x 7 columns]"
      ],
      "text/html": [
       "<div>\n",
       "<style scoped>\n",
       "    .dataframe tbody tr th:only-of-type {\n",
       "        vertical-align: middle;\n",
       "    }\n",
       "\n",
       "    .dataframe tbody tr th {\n",
       "        vertical-align: top;\n",
       "    }\n",
       "\n",
       "    .dataframe thead th {\n",
       "        text-align: right;\n",
       "    }\n",
       "</style>\n",
       "<table border=\"1\" class=\"dataframe\">\n",
       "  <thead>\n",
       "    <tr style=\"text-align: right;\">\n",
       "      <th>ages</th>\n",
       "      <th>10</th>\n",
       "      <th>20</th>\n",
       "      <th>30</th>\n",
       "      <th>40</th>\n",
       "      <th>50</th>\n",
       "      <th>60</th>\n",
       "      <th>70</th>\n",
       "    </tr>\n",
       "    <tr>\n",
       "      <th>book_title</th>\n",
       "      <th></th>\n",
       "      <th></th>\n",
       "      <th></th>\n",
       "      <th></th>\n",
       "      <th></th>\n",
       "      <th></th>\n",
       "      <th></th>\n",
       "    </tr>\n",
       "  </thead>\n",
       "  <tbody>\n",
       "    <tr>\n",
       "      <th>'salem's lot</th>\n",
       "      <td>0.0</td>\n",
       "      <td>0.0</td>\n",
       "      <td>4.0</td>\n",
       "      <td>1.0</td>\n",
       "      <td>0.0</td>\n",
       "      <td>0.0</td>\n",
       "      <td>0.0</td>\n",
       "    </tr>\n",
       "    <tr>\n",
       "      <th>10 lb. penalty</th>\n",
       "      <td>0.0</td>\n",
       "      <td>1.0</td>\n",
       "      <td>5.0</td>\n",
       "      <td>4.0</td>\n",
       "      <td>1.0</td>\n",
       "      <td>1.0</td>\n",
       "      <td>1.0</td>\n",
       "    </tr>\n",
       "    <tr>\n",
       "      <th>101 dalmatians</th>\n",
       "      <td>0.0</td>\n",
       "      <td>2.0</td>\n",
       "      <td>0.0</td>\n",
       "      <td>1.0</td>\n",
       "      <td>0.0</td>\n",
       "      <td>0.0</td>\n",
       "      <td>0.0</td>\n",
       "    </tr>\n",
       "    <tr>\n",
       "      <th>16 lighthouse road</th>\n",
       "      <td>1.0</td>\n",
       "      <td>1.0</td>\n",
       "      <td>6.0</td>\n",
       "      <td>3.0</td>\n",
       "      <td>2.0</td>\n",
       "      <td>0.0</td>\n",
       "      <td>0.0</td>\n",
       "    </tr>\n",
       "    <tr>\n",
       "      <th>1984</th>\n",
       "      <td>3.0</td>\n",
       "      <td>26.0</td>\n",
       "      <td>18.0</td>\n",
       "      <td>8.0</td>\n",
       "      <td>1.0</td>\n",
       "      <td>0.0</td>\n",
       "      <td>0.0</td>\n",
       "    </tr>\n",
       "    <tr>\n",
       "      <th>...</th>\n",
       "      <td>...</td>\n",
       "      <td>...</td>\n",
       "      <td>...</td>\n",
       "      <td>...</td>\n",
       "      <td>...</td>\n",
       "      <td>...</td>\n",
       "      <td>...</td>\n",
       "    </tr>\n",
       "    <tr>\n",
       "      <th>a stitch in time (needlecraft mysteries)</th>\n",
       "      <td>0.0</td>\n",
       "      <td>1.0</td>\n",
       "      <td>4.0</td>\n",
       "      <td>1.0</td>\n",
       "      <td>3.0</td>\n",
       "      <td>0.0</td>\n",
       "      <td>0.0</td>\n",
       "    </tr>\n",
       "    <tr>\n",
       "      <th>a streetcar named desire</th>\n",
       "      <td>1.0</td>\n",
       "      <td>7.0</td>\n",
       "      <td>3.0</td>\n",
       "      <td>0.0</td>\n",
       "      <td>1.0</td>\n",
       "      <td>0.0</td>\n",
       "      <td>0.0</td>\n",
       "    </tr>\n",
       "    <tr>\n",
       "      <th>a sudden change of heart</th>\n",
       "      <td>0.0</td>\n",
       "      <td>1.0</td>\n",
       "      <td>5.0</td>\n",
       "      <td>1.0</td>\n",
       "      <td>0.0</td>\n",
       "      <td>0.0</td>\n",
       "      <td>0.0</td>\n",
       "    </tr>\n",
       "    <tr>\n",
       "      <th>a suitable vengeance</th>\n",
       "      <td>0.0</td>\n",
       "      <td>0.0</td>\n",
       "      <td>4.0</td>\n",
       "      <td>1.0</td>\n",
       "      <td>2.0</td>\n",
       "      <td>0.0</td>\n",
       "      <td>0.0</td>\n",
       "    </tr>\n",
       "    <tr>\n",
       "      <th>a superior death</th>\n",
       "      <td>0.0</td>\n",
       "      <td>0.0</td>\n",
       "      <td>4.0</td>\n",
       "      <td>1.0</td>\n",
       "      <td>3.0</td>\n",
       "      <td>0.0</td>\n",
       "      <td>0.0</td>\n",
       "    </tr>\n",
       "  </tbody>\n",
       "</table>\n",
       "<p>100 rows × 7 columns</p>\n",
       "</div>"
      ]
     },
     "execution_count": 15,
     "metadata": {},
     "output_type": "execute_result"
    }
   ],
   "execution_count": 15
  },
  {
   "metadata": {
    "ExecuteTime": {
     "end_time": "2024-11-08T00:14:53.551637Z",
     "start_time": "2024-11-08T00:14:51.012594Z"
    }
   },
   "cell_type": "code",
   "source": [
    "from sklearn.metrics.pairwise import cosine_similarity\n",
    "ages_similarity=cosine_similarity(book_ages_df,book_ages_df)\n",
    "ages_similarity_df=pd.DataFrame(ages_similarity,index=ages_book_df.columns, columns=ages_book_df.columns)"
   ],
   "id": "6987c525daaeae04",
   "outputs": [],
   "execution_count": 16
  },
  {
   "metadata": {
    "ExecuteTime": {
     "end_time": "2024-11-08T00:14:53.613044Z",
     "start_time": "2024-11-08T00:14:53.607307Z"
    }
   },
   "cell_type": "code",
   "source": "ages_similarity_df.shape",
   "id": "d275a063e545f456",
   "outputs": [
    {
     "data": {
      "text/plain": [
       "(3450, 3450)"
      ]
     },
     "execution_count": 17,
     "metadata": {},
     "output_type": "execute_result"
    }
   ],
   "execution_count": 17
  },
  {
   "metadata": {},
   "cell_type": "markdown",
   "source": "#### user별 안 읽은 책 추천",
   "id": "6d848eef72b55f9b"
  },
  {
   "metadata": {
    "ExecuteTime": {
     "end_time": "2024-11-08T00:14:53.709830Z",
     "start_time": "2024-11-08T00:14:53.695817Z"
    }
   },
   "cell_type": "code",
   "source": [
    "def get_unseen_books(user_idx):\n",
    "    user_read_df=user_book_df.iloc[user_idx,:]\n",
    "    return user_read_df[user_read_df==0].index"
   ],
   "id": "66c8d6674c448d8b",
   "outputs": [],
   "execution_count": 18
  },
  {
   "metadata": {
    "ExecuteTime": {
     "end_time": "2024-11-08T00:14:53.838193Z",
     "start_time": "2024-11-08T00:14:53.833004Z"
    }
   },
   "cell_type": "code",
   "source": [
    "def ages_popular_book(user_idx):\n",
    "    user_ages=book_filter_df.iloc[user_idx][\"ages\"]\n",
    "ages_popular_book(176)"
   ],
   "id": "58bb8ecb66d11050",
   "outputs": [],
   "execution_count": 19
  },
  {
   "metadata": {},
   "cell_type": "markdown",
   "source": "# 작가 평점 추천 전처리",
   "id": "afff5782e9c7e403"
  },
  {
   "metadata": {
    "ExecuteTime": {
     "end_time": "2024-11-08T00:14:54.014481Z",
     "start_time": "2024-11-08T00:14:53.974021Z"
    }
   },
   "cell_type": "code",
   "source": [
    "# 책의 평점으로 평균내기\n",
    "# user별 작가 평점으로 평균내기\n",
    "bm_df = book_filter_df.groupby(['user_id', 'book_author'])['rating'].mean().reset_index()\n",
    "print(bm_df.shape)\n",
    "bm_df=bm_df.rename(columns={'rating':'author_mean_rating'})\n",
    "bm_df"
   ],
   "id": "c612c6e457faf952",
   "outputs": [
    {
     "name": "stdout",
     "output_type": "stream",
     "text": [
      "(44332, 3)\n"
     ]
    },
    {
     "data": {
      "text/plain": [
       "       user_id      book_author  author_mean_rating\n",
       "0          243    Arthur Golden                10.0\n",
       "1          243    Arundhati Roy                 7.0\n",
       "2          243      Belva Plain                 6.0\n",
       "3          243        JOHN SAUL                 6.0\n",
       "4          243    Jack Canfield                 5.0\n",
       "...        ...              ...                 ...\n",
       "44327   278843    J. K. Rowling                 8.0\n",
       "44328   278843     Maeve Binchy                 7.0\n",
       "44329   278843    Rebecca Wells                 7.0\n",
       "44330   278843  Richard Carlson                 8.0\n",
       "44331   278843      TIM O'BRIEN                 9.0\n",
       "\n",
       "[44332 rows x 3 columns]"
      ],
      "text/html": [
       "<div>\n",
       "<style scoped>\n",
       "    .dataframe tbody tr th:only-of-type {\n",
       "        vertical-align: middle;\n",
       "    }\n",
       "\n",
       "    .dataframe tbody tr th {\n",
       "        vertical-align: top;\n",
       "    }\n",
       "\n",
       "    .dataframe thead th {\n",
       "        text-align: right;\n",
       "    }\n",
       "</style>\n",
       "<table border=\"1\" class=\"dataframe\">\n",
       "  <thead>\n",
       "    <tr style=\"text-align: right;\">\n",
       "      <th></th>\n",
       "      <th>user_id</th>\n",
       "      <th>book_author</th>\n",
       "      <th>author_mean_rating</th>\n",
       "    </tr>\n",
       "  </thead>\n",
       "  <tbody>\n",
       "    <tr>\n",
       "      <th>0</th>\n",
       "      <td>243</td>\n",
       "      <td>Arthur Golden</td>\n",
       "      <td>10.0</td>\n",
       "    </tr>\n",
       "    <tr>\n",
       "      <th>1</th>\n",
       "      <td>243</td>\n",
       "      <td>Arundhati Roy</td>\n",
       "      <td>7.0</td>\n",
       "    </tr>\n",
       "    <tr>\n",
       "      <th>2</th>\n",
       "      <td>243</td>\n",
       "      <td>Belva Plain</td>\n",
       "      <td>6.0</td>\n",
       "    </tr>\n",
       "    <tr>\n",
       "      <th>3</th>\n",
       "      <td>243</td>\n",
       "      <td>JOHN SAUL</td>\n",
       "      <td>6.0</td>\n",
       "    </tr>\n",
       "    <tr>\n",
       "      <th>4</th>\n",
       "      <td>243</td>\n",
       "      <td>Jack Canfield</td>\n",
       "      <td>5.0</td>\n",
       "    </tr>\n",
       "    <tr>\n",
       "      <th>...</th>\n",
       "      <td>...</td>\n",
       "      <td>...</td>\n",
       "      <td>...</td>\n",
       "    </tr>\n",
       "    <tr>\n",
       "      <th>44327</th>\n",
       "      <td>278843</td>\n",
       "      <td>J. K. Rowling</td>\n",
       "      <td>8.0</td>\n",
       "    </tr>\n",
       "    <tr>\n",
       "      <th>44328</th>\n",
       "      <td>278843</td>\n",
       "      <td>Maeve Binchy</td>\n",
       "      <td>7.0</td>\n",
       "    </tr>\n",
       "    <tr>\n",
       "      <th>44329</th>\n",
       "      <td>278843</td>\n",
       "      <td>Rebecca Wells</td>\n",
       "      <td>7.0</td>\n",
       "    </tr>\n",
       "    <tr>\n",
       "      <th>44330</th>\n",
       "      <td>278843</td>\n",
       "      <td>Richard Carlson</td>\n",
       "      <td>8.0</td>\n",
       "    </tr>\n",
       "    <tr>\n",
       "      <th>44331</th>\n",
       "      <td>278843</td>\n",
       "      <td>TIM O'BRIEN</td>\n",
       "      <td>9.0</td>\n",
       "    </tr>\n",
       "  </tbody>\n",
       "</table>\n",
       "<p>44332 rows × 3 columns</p>\n",
       "</div>"
      ]
     },
     "execution_count": 20,
     "metadata": {},
     "output_type": "execute_result"
    }
   ],
   "execution_count": 20
  },
  {
   "metadata": {
    "ExecuteTime": {
     "end_time": "2024-11-08T00:14:54.830166Z",
     "start_time": "2024-11-08T00:14:54.266489Z"
    }
   },
   "cell_type": "code",
   "source": [
    "user_author_df=bm_df.pivot_table(index=\"user_id\",columns=\"book_author\",values=\"author_mean_rating\",fill_value=0)\n",
    "print(user_author_df.shape)\n",
    "author_user_df = user_author_df.T\n",
    "print(author_user_df.shape)"
   ],
   "id": "32293f666ff06514",
   "outputs": [
    {
     "name": "stdout",
     "output_type": "stream",
     "text": [
      "(4836, 1721)\n",
      "(1721, 4836)\n"
     ]
    }
   ],
   "execution_count": 21
  },
  {
   "metadata": {
    "ExecuteTime": {
     "end_time": "2024-11-08T00:14:55.446713Z",
     "start_time": "2024-11-08T00:14:54.887143Z"
    }
   },
   "cell_type": "code",
   "source": [
    "from sklearn.metrics.pairwise import cosine_similarity\n",
    "\n",
    "user_author_sim = cosine_similarity(author_user_df,author_user_df)\n",
    "\n",
    "user_author_sim_df = pd.DataFrame(user_author_sim, index=author_user_df.index, columns=author_user_df.index)\n",
    "user_author_sim_df['ANN BENSON'].head(10).sort_values(ascending=False)"
   ],
   "id": "18e2020481aa2fec",
   "outputs": [
    {
     "data": {
      "text/plain": [
       "book_author\n",
       "ANN BENSON          1.000000\n",
       "ALICE STEINBACH     0.122211\n",
       "ALEXANDRA FULLER    0.081019\n",
       "ANN PACKER          0.044426\n",
       "A. Manette Ansay    0.000000\n",
       "A. N. Roquelaure    0.000000\n",
       "ADRIANA TRIGIANI    0.000000\n",
       "ALBERT CAMUS        0.000000\n",
       "AMANDA QUICK        0.000000\n",
       "ANN BRASHARES       0.000000\n",
       "Name: ANN BENSON, dtype: float64"
      ]
     },
     "execution_count": 22,
     "metadata": {},
     "output_type": "execute_result"
    }
   ],
   "execution_count": 22
  },
  {
   "metadata": {
    "ExecuteTime": {
     "end_time": "2024-11-08T00:14:55.523154Z",
     "start_time": "2024-11-08T00:14:55.508854Z"
    }
   },
   "cell_type": "code",
   "source": [
    "def recommend_authors_books(author_name, top_n=5):\n",
    "    \"\"\"\n",
    "    특정 작가와 유사한 작가들의 책을 추천하는 함수\n",
    "    :param author_name: 추천의 기준이 될 작가명 \n",
    "    :param top_n: 유사도가 높은 상위 작가 수 . 미설정시 5개 기본\n",
    "    :return: 유사 작가들 리스트\n",
    "    \"\"\"\n",
    "    # 입력된 작가와 유사한 작가 top_n 선정\n",
    "    if author_name not in user_author_sim_df.index:\n",
    "        return f\"작가 '{author_name}'를 찾을 수 없습니다.\"\n",
    "    \n",
    "    # 작가 유사도 상위 top_n 작가 선택\n",
    "    similar_authors = user_author_sim_df[author_name].sort_values(ascending=False)[1:top_n+1].index\n",
    "\n",
    "    # 유사한 작가들의 책 추천\n",
    "    recommended_books = bm_df[bm_df['book_author'].isin(similar_authors)]\n",
    "    unique_authors = recommended_books['book_author'].unique()\n",
    "\n",
    "    return display(unique_authors)\n",
    "\n",
    "# 예시 사용\n",
    "print(recommend_authors_books('TONI MORRISON', top_n=10))"
   ],
   "id": "9145238b14af3cca",
   "outputs": [
    {
     "data": {
      "text/plain": [
       "array(['David McCullough', 'Iris, D. Rainer', 'John Ashbery',\n",
       "       'John J. Edward', 'Judith Reeves-Stevens', 'Kathleen Cross',\n",
       "       'Linda Sunshine', 'MICHAEL POLLAN', 'Paul Vincent',\n",
       "       'Ruthanne Lum McCunn'], dtype=object)"
      ]
     },
     "metadata": {},
     "output_type": "display_data"
    },
    {
     "name": "stdout",
     "output_type": "stream",
     "text": [
      "None\n"
     ]
    }
   ],
   "execution_count": 23
  },
  {
   "metadata": {},
   "cell_type": "markdown",
   "source": "# 가중평점",
   "id": "565802c510bc72a8"
  },
  {
   "metadata": {
    "ExecuteTime": {
     "end_time": "2024-11-08T00:14:56.118452Z",
     "start_time": "2024-11-08T00:14:55.704422Z"
    }
   },
   "cell_type": "code",
   "source": [
    "import numpy as np\n",
    "\n",
    "def predict_ratings(author_user_df, user_author_sim):\n",
    "    \"\"\"\n",
    "    :param author_user_df: 사용자와 작가 간의 평점 행렬 (사용자 수 x 작가 수)\n",
    "    :param user_author_sim: 사용자 간의 유사도 행렬 (사용자 수 x 사용자 수)\n",
    "    \"\"\"\n",
    "    # 사용자-유사도 행렬과 작가 평점 행렬의 곱셈\n",
    "    ratings_pred = np.dot(user_author_sim, author_user_df) / np.abs(user_author_sim).sum(axis=1)[:, np.newaxis]\n",
    "    return ratings_pred\n",
    "\n",
    "ratings_pred = predict_ratings(author_user_df, user_author_sim)\n",
    "print(ratings_pred.shape)\n",
    "type(ratings_pred)  # 첫 5개의 예측 평점 확인\n",
    "ratings_pred_df= pd.DataFrame(ratings_pred)"
   ],
   "id": "f0919f0b940087e8",
   "outputs": [
    {
     "name": "stdout",
     "output_type": "stream",
     "text": [
      "(1721, 4836)\n"
     ]
    }
   ],
   "execution_count": 24
  },
  {
   "metadata": {
    "ExecuteTime": {
     "end_time": "2024-11-08T00:16:40.608088Z",
     "start_time": "2024-11-08T00:16:40.517884Z"
    }
   },
   "cell_type": "code",
   "source": [
    "#MSE 측정\n",
    "def get_mse(actual, pred):\n",
    "    \n",
    "    non_zero_idx = actual.nonzero() #0이 아닌 겂의 인덱스\n",
    "    #print(non_zero_idx) #([row_idx, row_idx,...], [col_idx, col_idx,...]) 비교해서 분석\n",
    "    actual = actual[non_zero_idx]\n",
    "    pred = pred[non_zero_idx]\n",
    "    return ((actual - pred) ** 2).mean()\n",
    "\n",
    "get_mse(author_user_df.values,ratings_pred_df.values)"
   ],
   "id": "5cae9f578284969b",
   "outputs": [
    {
     "data": {
      "text/plain": [
       "53.32529737478435"
      ]
     },
     "execution_count": 25,
     "metadata": {},
     "output_type": "execute_result"
    }
   ],
   "execution_count": 25
  },
  {
   "metadata": {
    "ExecuteTime": {
     "end_time": "2024-11-08T00:49:10.459408Z",
     "start_time": "2024-11-08T00:49:10.403787Z"
    }
   },
   "cell_type": "code",
   "source": [
    "# 유저별 사용자별 가중평점 예측\n",
    "def predict_ratings_by_user(user_idx,author_idx,topn_sim_idx):\n",
    "    \"\"\"\n",
    "    \n",
    "    :param user_idx: 작가의 아이디 고유한 번호\n",
    "    :param author_idx: 가중 평점을 예측해보고자 할 작가의 고유한 번호\n",
    "    :param topn_sim_idx : movie_idx별 평점유사도 상위 topn건의 인덱스  \n",
    "    :return: \n",
    "    \"\"\"\n",
    "    \n",
    "\n",
    "\n",
    "    topn_sim = user_author_sim_df.iloc[author_idx, :].values[topn_sim_idx]  # 가중평점 계산식의 S\n",
    "    topn_rating = author_user_df.values[user_idx,:][topn_sim_idx] # 가중평점 계산식의 R\n",
    "    # 예측 평점 계산\n",
    "    return topn_sim.dot(topn_rating) / np.abs(topn_sim).sum()\n",
    "topn=20\n",
    "user_idx = 1721\n",
    "author_idx = 2500\n",
    "topn_sim_idx = user_author_sim_df.iloc[author_idx].argsort()[:-(topn+1):-1]\n",
    "\n",
    "predict_ratings_by_user(user_idx,author_idx,topn_sim_idx)"
   ],
   "id": "37ba6f8bec3d4529",
   "outputs": [
    {
     "ename": "IndexError",
     "evalue": "single positional indexer is out-of-bounds",
     "output_type": "error",
     "traceback": [
      "\u001B[1;31m---------------------------------------------------------------------------\u001B[0m",
      "\u001B[1;31mIndexError\u001B[0m                                Traceback (most recent call last)",
      "Cell \u001B[1;32mIn[40], line 20\u001B[0m\n\u001B[0;32m     18\u001B[0m user_idx \u001B[38;5;241m=\u001B[39m \u001B[38;5;241m1721\u001B[39m\n\u001B[0;32m     19\u001B[0m author_idx \u001B[38;5;241m=\u001B[39m \u001B[38;5;241m2500\u001B[39m\n\u001B[1;32m---> 20\u001B[0m topn_sim_idx \u001B[38;5;241m=\u001B[39m \u001B[43muser_author_sim_df\u001B[49m\u001B[38;5;241;43m.\u001B[39;49m\u001B[43miloc\u001B[49m\u001B[43m[\u001B[49m\u001B[43mauthor_idx\u001B[49m\u001B[43m]\u001B[49m\u001B[38;5;241m.\u001B[39margsort()[:\u001B[38;5;241m-\u001B[39m(topn\u001B[38;5;241m+\u001B[39m\u001B[38;5;241m1\u001B[39m):\u001B[38;5;241m-\u001B[39m\u001B[38;5;241m1\u001B[39m]\n\u001B[0;32m     22\u001B[0m predict_ratings_by_user(user_idx,author_idx,topn_sim_idx)\n",
      "File \u001B[1;32m~\\anaconda3\\envs\\ml_env\\Lib\\site-packages\\pandas\\core\\indexing.py:1191\u001B[0m, in \u001B[0;36m_LocationIndexer.__getitem__\u001B[1;34m(self, key)\u001B[0m\n\u001B[0;32m   1189\u001B[0m maybe_callable \u001B[38;5;241m=\u001B[39m com\u001B[38;5;241m.\u001B[39mapply_if_callable(key, \u001B[38;5;28mself\u001B[39m\u001B[38;5;241m.\u001B[39mobj)\n\u001B[0;32m   1190\u001B[0m maybe_callable \u001B[38;5;241m=\u001B[39m \u001B[38;5;28mself\u001B[39m\u001B[38;5;241m.\u001B[39m_check_deprecated_callable_usage(key, maybe_callable)\n\u001B[1;32m-> 1191\u001B[0m \u001B[38;5;28;01mreturn\u001B[39;00m \u001B[38;5;28;43mself\u001B[39;49m\u001B[38;5;241;43m.\u001B[39;49m\u001B[43m_getitem_axis\u001B[49m\u001B[43m(\u001B[49m\u001B[43mmaybe_callable\u001B[49m\u001B[43m,\u001B[49m\u001B[43m \u001B[49m\u001B[43maxis\u001B[49m\u001B[38;5;241;43m=\u001B[39;49m\u001B[43maxis\u001B[49m\u001B[43m)\u001B[49m\n",
      "File \u001B[1;32m~\\anaconda3\\envs\\ml_env\\Lib\\site-packages\\pandas\\core\\indexing.py:1752\u001B[0m, in \u001B[0;36m_iLocIndexer._getitem_axis\u001B[1;34m(self, key, axis)\u001B[0m\n\u001B[0;32m   1749\u001B[0m     \u001B[38;5;28;01mraise\u001B[39;00m \u001B[38;5;167;01mTypeError\u001B[39;00m(\u001B[38;5;124m\"\u001B[39m\u001B[38;5;124mCannot index by location index with a non-integer key\u001B[39m\u001B[38;5;124m\"\u001B[39m)\n\u001B[0;32m   1751\u001B[0m \u001B[38;5;66;03m# validate the location\u001B[39;00m\n\u001B[1;32m-> 1752\u001B[0m \u001B[38;5;28;43mself\u001B[39;49m\u001B[38;5;241;43m.\u001B[39;49m\u001B[43m_validate_integer\u001B[49m\u001B[43m(\u001B[49m\u001B[43mkey\u001B[49m\u001B[43m,\u001B[49m\u001B[43m \u001B[49m\u001B[43maxis\u001B[49m\u001B[43m)\u001B[49m\n\u001B[0;32m   1754\u001B[0m \u001B[38;5;28;01mreturn\u001B[39;00m \u001B[38;5;28mself\u001B[39m\u001B[38;5;241m.\u001B[39mobj\u001B[38;5;241m.\u001B[39m_ixs(key, axis\u001B[38;5;241m=\u001B[39maxis)\n",
      "File \u001B[1;32m~\\anaconda3\\envs\\ml_env\\Lib\\site-packages\\pandas\\core\\indexing.py:1685\u001B[0m, in \u001B[0;36m_iLocIndexer._validate_integer\u001B[1;34m(self, key, axis)\u001B[0m\n\u001B[0;32m   1683\u001B[0m len_axis \u001B[38;5;241m=\u001B[39m \u001B[38;5;28mlen\u001B[39m(\u001B[38;5;28mself\u001B[39m\u001B[38;5;241m.\u001B[39mobj\u001B[38;5;241m.\u001B[39m_get_axis(axis))\n\u001B[0;32m   1684\u001B[0m \u001B[38;5;28;01mif\u001B[39;00m key \u001B[38;5;241m>\u001B[39m\u001B[38;5;241m=\u001B[39m len_axis \u001B[38;5;129;01mor\u001B[39;00m key \u001B[38;5;241m<\u001B[39m \u001B[38;5;241m-\u001B[39mlen_axis:\n\u001B[1;32m-> 1685\u001B[0m     \u001B[38;5;28;01mraise\u001B[39;00m \u001B[38;5;167;01mIndexError\u001B[39;00m(\u001B[38;5;124m\"\u001B[39m\u001B[38;5;124msingle positional indexer is out-of-bounds\u001B[39m\u001B[38;5;124m\"\u001B[39m)\n",
      "\u001B[1;31mIndexError\u001B[0m: single positional indexer is out-of-bounds"
     ]
    }
   ],
   "execution_count": 40
  }
 ],
 "metadata": {
  "kernelspec": {
   "display_name": "Python 3",
   "language": "python",
   "name": "python3"
  },
  "language_info": {
   "codemirror_mode": {
    "name": "ipython",
    "version": 2
   },
   "file_extension": ".py",
   "mimetype": "text/x-python",
   "name": "python",
   "nbconvert_exporter": "python",
   "pygments_lexer": "ipython2",
   "version": "2.7.6"
  }
 },
 "nbformat": 4,
 "nbformat_minor": 5
}
