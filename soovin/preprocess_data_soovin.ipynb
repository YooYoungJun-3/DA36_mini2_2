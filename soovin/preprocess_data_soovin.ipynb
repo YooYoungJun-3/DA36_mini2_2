{
 "cells": [
  {
   "cell_type": "code",
   "id": "initial_id",
   "metadata": {
    "collapsed": true,
    "ExecuteTime": {
     "end_time": "2024-11-07T09:32:50.425447Z",
     "start_time": "2024-11-07T09:32:50.421227Z"
    }
   },
   "source": [
    "import pandas as pd\n",
    "import numpy as np\n",
    "import matplotlib.pyplot as plt\n",
    "import seaborn as sns"
   ],
   "outputs": [],
   "execution_count": 24
  },
  {
   "metadata": {},
   "cell_type": "markdown",
   "source": [
    "#### 데이터 전처리\n",
    "- kaggle dataset "
   ],
   "id": "7ebc78c0a259c775"
  },
  {
   "metadata": {
    "ExecuteTime": {
     "end_time": "2024-11-07T09:32:56.318425Z",
     "start_time": "2024-11-07T09:32:50.480695Z"
    }
   },
   "cell_type": "code",
   "source": "book_df=pd.read_csv('./data/book_review_data.csv')",
   "id": "c5b6e4a98a06dfbe",
   "outputs": [],
   "execution_count": 25
  },
  {
   "metadata": {
    "ExecuteTime": {
     "end_time": "2024-11-07T09:32:56.583993Z",
     "start_time": "2024-11-07T09:32:56.428529Z"
    }
   },
   "cell_type": "code",
   "source": [
    "# 1) 필요한 컬럼 도출\n",
    "# 2) 형변환 (float > int)\n",
    "\n",
    "book_df=book_df[['user_id',\"age\",\"rating\",\"book_title\",'book_author','year_of_publication','img_m','Summary','Category','country','Language']]\n",
    "book_df[['age',\"year_of_publication\"]]=book_df[['age',\"year_of_publication\"]].astype(int)"
   ],
   "id": "a91a7feaa0d36a4a",
   "outputs": [],
   "execution_count": 26
  },
  {
   "metadata": {
    "ExecuteTime": {
     "end_time": "2024-11-07T09:32:56.889247Z",
     "start_time": "2024-11-07T09:32:56.630848Z"
    }
   },
   "cell_type": "code",
   "source": [
    "# 최소 평가 개수 ( 평가가 30개보다 많은 책만 추출 )\n",
    "counts=book_df['book_title'].value_counts()\n",
    "title = counts[counts > 30].index\n",
    "book_filter_df=book_df[book_df['book_title'].isin(title)]\n"
   ],
   "id": "538437861c6b56cb",
   "outputs": [],
   "execution_count": 27
  },
  {
   "metadata": {
    "ExecuteTime": {
     "end_time": "2024-11-07T09:32:57.004136Z",
     "start_time": "2024-11-07T09:32:56.950689Z"
    }
   },
   "cell_type": "code",
   "source": [
    "# 최소 평가 개수 ( 평가가 20개보다 많은 사용자만 추출 )\n",
    "counts=book_filter_df[\"user_id\"].value_counts()\n",
    "user_id_=counts[counts>10].index\n",
    "book_filter_df = book_filter_df[book_filter_df['user_id'].isin(user_id_)]"
   ],
   "id": "394e64cd0b88a858",
   "outputs": [],
   "execution_count": 28
  },
  {
   "metadata": {
    "ExecuteTime": {
     "end_time": "2024-11-07T09:32:57.099989Z",
     "start_time": "2024-11-07T09:32:57.052881Z"
    }
   },
   "cell_type": "code",
   "source": [
    "# 무의미한 0점 평가 제거\n",
    "rating_zero=book_filter_df[book_filter_df['rating']==0].index\n",
    "book_filter_df.drop(rating_zero, axis=0, inplace=True)"
   ],
   "id": "8da03a2eae0c9e69",
   "outputs": [],
   "execution_count": 29
  },
  {
   "metadata": {},
   "cell_type": "markdown",
   "source": "",
   "id": "e509a8503bc2ce77"
  },
  {
   "metadata": {
    "ExecuteTime": {
     "end_time": "2024-11-07T09:32:57.218165Z",
     "start_time": "2024-11-07T09:32:57.155732Z"
    }
   },
   "cell_type": "code",
   "source": [
    "# 한 카테고리안에 책이 5권 미만인 경우 제거\n",
    "counts=book_filter_df[\"Category\"].value_counts()\n",
    "categories = counts[counts > 5].index\n",
    "book_filter_df = book_filter_df[book_filter_df['Category'].isin(categories)]\n",
    "\n",
    "idx=book_filter_df[book_filter_df[\"Summary\"]=='9'].index\n",
    "book_filter_df.drop(idx,axis=0,inplace=True)\n",
    "\n",
    "book_filter_df[\"book_title\"]=book_filter_df['book_title'].str.lower()\n",
    "book_filter_df[\"Summary\"]=book_filter_df[\"Summary\"].str.lower()"
   ],
   "id": "b779c5ab7eb237d7",
   "outputs": [],
   "execution_count": 30
  },
  {
   "metadata": {
    "ExecuteTime": {
     "end_time": "2024-11-07T09:32:57.280343Z",
     "start_time": "2024-11-07T09:32:57.268932Z"
    }
   },
   "cell_type": "code",
   "source": [
    "book_filter_df.shape\n",
    "len(book_filter_df['book_title'].unique())"
   ],
   "id": "2d6073259aeb1ef",
   "outputs": [
    {
     "data": {
      "text/plain": [
       "3450"
      ]
     },
     "execution_count": 31,
     "metadata": {},
     "output_type": "execute_result"
    }
   ],
   "execution_count": 31
  },
  {
   "metadata": {},
   "cell_type": "markdown",
   "source": "#### user_book_rating dataframe",
   "id": "9e240d4c93668c34"
  },
  {
   "metadata": {
    "ExecuteTime": {
     "end_time": "2024-11-07T09:32:57.639649Z",
     "start_time": "2024-11-07T09:32:57.345838Z"
    }
   },
   "cell_type": "code",
   "source": [
    "user_book_df=book_filter_df.pivot_table(index='user_id',columns='book_title',values='rating',fill_value=0)\n",
    "book_user_df=user_book_df.T\n",
    "user_book_df.shape # user간 유사도 구할거 아니니까"
   ],
   "id": "27a4ecd611c9f240",
   "outputs": [
    {
     "data": {
      "text/plain": [
       "(4836, 3450)"
      ]
     },
     "execution_count": 32,
     "metadata": {},
     "output_type": "execute_result"
    }
   ],
   "execution_count": 32
  },
  {
   "metadata": {
    "ExecuteTime": {
     "end_time": "2024-11-07T09:32:57.709138Z",
     "start_time": "2024-11-07T09:32:57.701386Z"
    }
   },
   "cell_type": "code",
   "source": "user_book_df.iloc[55].sort_values(ascending=False)[:10]",
   "id": "ad73a8291a2fff5e",
   "outputs": [
    {
     "data": {
      "text/plain": [
       "book_title\n",
       "thinner                                                                     8.0\n",
       "christine                                                                   8.0\n",
       "stupid white men ...and other sorry excuses for the state of the nation!    6.0\n",
       "cujo                                                                        6.0\n",
       "'salem's lot                                                                0.0\n",
       "sweet hereafter movie tie-in : a novel                                      0.0\n",
       "sunset in st. tropez                                                        0.0\n",
       "superfudge (yearling books (paperback))                                     0.0\n",
       "superstitious                                                               0.0\n",
       "surfacing                                                                   0.0\n",
       "Name: 4334, dtype: float64"
      ]
     },
     "execution_count": 33,
     "metadata": {},
     "output_type": "execute_result"
    }
   ],
   "execution_count": 33
  },
  {
   "metadata": {},
   "cell_type": "markdown",
   "source": "#### age_title_count dataframe",
   "id": "fc30f1dca0d21f9e"
  },
  {
   "metadata": {
    "ExecuteTime": {
     "end_time": "2024-11-07T09:32:57.802706Z",
     "start_time": "2024-11-07T09:32:57.796417Z"
    }
   },
   "cell_type": "code",
   "source": "book_filter_df[\"age\"].value_counts()",
   "id": "b19b1497e1710b5e",
   "outputs": [
    {
     "data": {
      "text/plain": [
       "age\n",
       "34    16829\n",
       "33     1882\n",
       "29     1708\n",
       "28     1689\n",
       "32     1585\n",
       "      ...  \n",
       "76        6\n",
       "11        5\n",
       "84        5\n",
       "10        3\n",
       "97        2\n",
       "Name: count, Length: 78, dtype: int64"
      ]
     },
     "execution_count": 34,
     "metadata": {},
     "output_type": "execute_result"
    }
   ],
   "execution_count": 34
  },
  {
   "metadata": {
    "ExecuteTime": {
     "end_time": "2024-11-07T09:32:57.880260Z",
     "start_time": "2024-11-07T09:32:57.875753Z"
    }
   },
   "cell_type": "code",
   "source": [
    "def make_ages(age):\n",
    "    if 10<=age<20:\n",
    "        return 10\n",
    "    elif 20<=age<30:\n",
    "        return 20\n",
    "    elif 30<=age<40:\n",
    "        return 30\n",
    "    elif 40<=age<50:\n",
    "        return 40\n",
    "    elif 50<=age<60:\n",
    "        return 50\n",
    "    elif 60<=age<70:\n",
    "        return 60\n",
    "    else:\n",
    "        return 70"
   ],
   "id": "5c222ce5cf52ff8d",
   "outputs": [],
   "execution_count": 35
  },
  {
   "metadata": {
    "ExecuteTime": {
     "end_time": "2024-11-07T09:32:57.961946Z",
     "start_time": "2024-11-07T09:32:57.940712Z"
    }
   },
   "cell_type": "code",
   "source": "book_filter_df['ages'] = book_filter_df['age'].apply(make_ages)",
   "id": "5e4bb23935af805a",
   "outputs": [],
   "execution_count": 36
  },
  {
   "metadata": {
    "ExecuteTime": {
     "end_time": "2024-11-07T09:32:58.013326Z",
     "start_time": "2024-11-07T09:32:57.995531Z"
    }
   },
   "cell_type": "code",
   "source": "ages_book_=book_filter_df.groupby(['ages','book_title']).size().reset_index(name='count')",
   "id": "c3157ad7d03f7a60",
   "outputs": [],
   "execution_count": 37
  },
  {
   "metadata": {
    "ExecuteTime": {
     "end_time": "2024-11-07T09:32:58.087424Z",
     "start_time": "2024-11-07T09:32:58.064800Z"
    }
   },
   "cell_type": "code",
   "source": [
    "ages_book_df=ages_book_.pivot_table(index='ages',columns='book_title',values='count',fill_value=0)\n",
    "book_ages_df=ages_book_df.T\n",
    "book_ages_df[:100]"
   ],
   "id": "3ba5858d68532ae5",
   "outputs": [
    {
     "data": {
      "text/plain": [
       "ages                                       10    20    30   40   50   60   70\n",
       "book_title                                                                   \n",
       "'salem's lot                              0.0   0.0   4.0  1.0  0.0  0.0  0.0\n",
       "10 lb. penalty                            0.0   1.0   5.0  4.0  1.0  1.0  1.0\n",
       "101 dalmatians                            0.0   2.0   0.0  1.0  0.0  0.0  0.0\n",
       "16 lighthouse road                        1.0   1.0   6.0  3.0  2.0  0.0  0.0\n",
       "1984                                      3.0  26.0  18.0  8.0  1.0  0.0  0.0\n",
       "...                                       ...   ...   ...  ...  ...  ...  ...\n",
       "a stitch in time (needlecraft mysteries)  0.0   1.0   4.0  1.0  3.0  0.0  0.0\n",
       "a streetcar named desire                  1.0   7.0   3.0  0.0  1.0  0.0  0.0\n",
       "a sudden change of heart                  0.0   1.0   5.0  1.0  0.0  0.0  0.0\n",
       "a suitable vengeance                      0.0   0.0   4.0  1.0  2.0  0.0  0.0\n",
       "a superior death                          0.0   0.0   4.0  1.0  3.0  0.0  0.0\n",
       "\n",
       "[100 rows x 7 columns]"
      ],
      "text/html": [
       "<div>\n",
       "<style scoped>\n",
       "    .dataframe tbody tr th:only-of-type {\n",
       "        vertical-align: middle;\n",
       "    }\n",
       "\n",
       "    .dataframe tbody tr th {\n",
       "        vertical-align: top;\n",
       "    }\n",
       "\n",
       "    .dataframe thead th {\n",
       "        text-align: right;\n",
       "    }\n",
       "</style>\n",
       "<table border=\"1\" class=\"dataframe\">\n",
       "  <thead>\n",
       "    <tr style=\"text-align: right;\">\n",
       "      <th>ages</th>\n",
       "      <th>10</th>\n",
       "      <th>20</th>\n",
       "      <th>30</th>\n",
       "      <th>40</th>\n",
       "      <th>50</th>\n",
       "      <th>60</th>\n",
       "      <th>70</th>\n",
       "    </tr>\n",
       "    <tr>\n",
       "      <th>book_title</th>\n",
       "      <th></th>\n",
       "      <th></th>\n",
       "      <th></th>\n",
       "      <th></th>\n",
       "      <th></th>\n",
       "      <th></th>\n",
       "      <th></th>\n",
       "    </tr>\n",
       "  </thead>\n",
       "  <tbody>\n",
       "    <tr>\n",
       "      <th>'salem's lot</th>\n",
       "      <td>0.0</td>\n",
       "      <td>0.0</td>\n",
       "      <td>4.0</td>\n",
       "      <td>1.0</td>\n",
       "      <td>0.0</td>\n",
       "      <td>0.0</td>\n",
       "      <td>0.0</td>\n",
       "    </tr>\n",
       "    <tr>\n",
       "      <th>10 lb. penalty</th>\n",
       "      <td>0.0</td>\n",
       "      <td>1.0</td>\n",
       "      <td>5.0</td>\n",
       "      <td>4.0</td>\n",
       "      <td>1.0</td>\n",
       "      <td>1.0</td>\n",
       "      <td>1.0</td>\n",
       "    </tr>\n",
       "    <tr>\n",
       "      <th>101 dalmatians</th>\n",
       "      <td>0.0</td>\n",
       "      <td>2.0</td>\n",
       "      <td>0.0</td>\n",
       "      <td>1.0</td>\n",
       "      <td>0.0</td>\n",
       "      <td>0.0</td>\n",
       "      <td>0.0</td>\n",
       "    </tr>\n",
       "    <tr>\n",
       "      <th>16 lighthouse road</th>\n",
       "      <td>1.0</td>\n",
       "      <td>1.0</td>\n",
       "      <td>6.0</td>\n",
       "      <td>3.0</td>\n",
       "      <td>2.0</td>\n",
       "      <td>0.0</td>\n",
       "      <td>0.0</td>\n",
       "    </tr>\n",
       "    <tr>\n",
       "      <th>1984</th>\n",
       "      <td>3.0</td>\n",
       "      <td>26.0</td>\n",
       "      <td>18.0</td>\n",
       "      <td>8.0</td>\n",
       "      <td>1.0</td>\n",
       "      <td>0.0</td>\n",
       "      <td>0.0</td>\n",
       "    </tr>\n",
       "    <tr>\n",
       "      <th>...</th>\n",
       "      <td>...</td>\n",
       "      <td>...</td>\n",
       "      <td>...</td>\n",
       "      <td>...</td>\n",
       "      <td>...</td>\n",
       "      <td>...</td>\n",
       "      <td>...</td>\n",
       "    </tr>\n",
       "    <tr>\n",
       "      <th>a stitch in time (needlecraft mysteries)</th>\n",
       "      <td>0.0</td>\n",
       "      <td>1.0</td>\n",
       "      <td>4.0</td>\n",
       "      <td>1.0</td>\n",
       "      <td>3.0</td>\n",
       "      <td>0.0</td>\n",
       "      <td>0.0</td>\n",
       "    </tr>\n",
       "    <tr>\n",
       "      <th>a streetcar named desire</th>\n",
       "      <td>1.0</td>\n",
       "      <td>7.0</td>\n",
       "      <td>3.0</td>\n",
       "      <td>0.0</td>\n",
       "      <td>1.0</td>\n",
       "      <td>0.0</td>\n",
       "      <td>0.0</td>\n",
       "    </tr>\n",
       "    <tr>\n",
       "      <th>a sudden change of heart</th>\n",
       "      <td>0.0</td>\n",
       "      <td>1.0</td>\n",
       "      <td>5.0</td>\n",
       "      <td>1.0</td>\n",
       "      <td>0.0</td>\n",
       "      <td>0.0</td>\n",
       "      <td>0.0</td>\n",
       "    </tr>\n",
       "    <tr>\n",
       "      <th>a suitable vengeance</th>\n",
       "      <td>0.0</td>\n",
       "      <td>0.0</td>\n",
       "      <td>4.0</td>\n",
       "      <td>1.0</td>\n",
       "      <td>2.0</td>\n",
       "      <td>0.0</td>\n",
       "      <td>0.0</td>\n",
       "    </tr>\n",
       "    <tr>\n",
       "      <th>a superior death</th>\n",
       "      <td>0.0</td>\n",
       "      <td>0.0</td>\n",
       "      <td>4.0</td>\n",
       "      <td>1.0</td>\n",
       "      <td>3.0</td>\n",
       "      <td>0.0</td>\n",
       "      <td>0.0</td>\n",
       "    </tr>\n",
       "  </tbody>\n",
       "</table>\n",
       "<p>100 rows × 7 columns</p>\n",
       "</div>"
      ]
     },
     "execution_count": 38,
     "metadata": {},
     "output_type": "execute_result"
    }
   ],
   "execution_count": 38
  },
  {
   "metadata": {
    "ExecuteTime": {
     "end_time": "2024-11-07T09:32:58.206138Z",
     "start_time": "2024-11-07T09:32:58.173913Z"
    }
   },
   "cell_type": "code",
   "source": [
    "from sklearn.metrics.pairwise import cosine_similarity\n",
    "ages_similarity=cosine_similarity(book_ages_df,book_ages_df)\n",
    "ages_similarity_df=pd.DataFrame(ages_similarity,index=ages_book_df.columns, columns=ages_book_df.columns)"
   ],
   "id": "6987c525daaeae04",
   "outputs": [],
   "execution_count": 39
  },
  {
   "metadata": {
    "ExecuteTime": {
     "end_time": "2024-11-07T09:32:58.262956Z",
     "start_time": "2024-11-07T09:32:58.257784Z"
    }
   },
   "cell_type": "code",
   "source": "ages_similarity_df.shape",
   "id": "d275a063e545f456",
   "outputs": [
    {
     "data": {
      "text/plain": [
       "(3450, 3450)"
      ]
     },
     "execution_count": 40,
     "metadata": {},
     "output_type": "execute_result"
    }
   ],
   "execution_count": 40
  },
  {
   "metadata": {},
   "cell_type": "markdown",
   "source": "#### user별 안 읽은 책 추천",
   "id": "6d848eef72b55f9b"
  },
  {
   "metadata": {
    "ExecuteTime": {
     "end_time": "2024-11-07T09:32:58.353893Z",
     "start_time": "2024-11-07T09:32:58.350028Z"
    }
   },
   "cell_type": "code",
   "source": [
    "def get_unseen_books(user_idx):\n",
    "    user_read_df=user_book_df.iloc[user_idx,:]\n",
    "    return user_read_df[user_read_df==0].index"
   ],
   "id": "66c8d6674c448d8b",
   "outputs": [],
   "execution_count": 41
  },
  {
   "metadata": {
    "ExecuteTime": {
     "end_time": "2024-11-07T09:32:58.432506Z",
     "start_time": "2024-11-07T09:32:58.428209Z"
    }
   },
   "cell_type": "code",
   "source": [
    "def ages_popular_book(user_idx):\n",
    "    user_ages=book_filter_df.iloc[user_idx][\"ages\"]\n",
    "ages_popular_book(176)"
   ],
   "id": "58bb8ecb66d11050",
   "outputs": [],
   "execution_count": 42
  },
  {
   "metadata": {},
   "cell_type": "markdown",
   "source": "# 작가 평점 추천 전처리",
   "id": "afff5782e9c7e403"
  },
  {
   "metadata": {
    "ExecuteTime": {
     "end_time": "2024-11-07T09:32:58.575908Z",
     "start_time": "2024-11-07T09:32:58.548349Z"
    }
   },
   "cell_type": "code",
   "source": [
    "# 책의 평점으로 평균내기\n",
    "# user별 작가 평점으로 평균내기\n",
    "bm_df = book_filter_df.groupby(['user_id', 'book_author'])['rating'].mean().reset_index()\n",
    "print(bm_df.shape)\n",
    "bm_df=bm_df.rename(columns={'rating':'author_mean_rating'})\n",
    "bm_df"
   ],
   "id": "c612c6e457faf952",
   "outputs": [
    {
     "name": "stdout",
     "output_type": "stream",
     "text": [
      "(44332, 3)\n"
     ]
    },
    {
     "data": {
      "text/plain": [
       "       user_id      book_author  author_mean_rating\n",
       "0          243    Arthur Golden                10.0\n",
       "1          243    Arundhati Roy                 7.0\n",
       "2          243      Belva Plain                 6.0\n",
       "3          243        JOHN SAUL                 6.0\n",
       "4          243    Jack Canfield                 5.0\n",
       "...        ...              ...                 ...\n",
       "44327   278843    J. K. Rowling                 8.0\n",
       "44328   278843     Maeve Binchy                 7.0\n",
       "44329   278843    Rebecca Wells                 7.0\n",
       "44330   278843  Richard Carlson                 8.0\n",
       "44331   278843      TIM O'BRIEN                 9.0\n",
       "\n",
       "[44332 rows x 3 columns]"
      ],
      "text/html": [
       "<div>\n",
       "<style scoped>\n",
       "    .dataframe tbody tr th:only-of-type {\n",
       "        vertical-align: middle;\n",
       "    }\n",
       "\n",
       "    .dataframe tbody tr th {\n",
       "        vertical-align: top;\n",
       "    }\n",
       "\n",
       "    .dataframe thead th {\n",
       "        text-align: right;\n",
       "    }\n",
       "</style>\n",
       "<table border=\"1\" class=\"dataframe\">\n",
       "  <thead>\n",
       "    <tr style=\"text-align: right;\">\n",
       "      <th></th>\n",
       "      <th>user_id</th>\n",
       "      <th>book_author</th>\n",
       "      <th>author_mean_rating</th>\n",
       "    </tr>\n",
       "  </thead>\n",
       "  <tbody>\n",
       "    <tr>\n",
       "      <th>0</th>\n",
       "      <td>243</td>\n",
       "      <td>Arthur Golden</td>\n",
       "      <td>10.0</td>\n",
       "    </tr>\n",
       "    <tr>\n",
       "      <th>1</th>\n",
       "      <td>243</td>\n",
       "      <td>Arundhati Roy</td>\n",
       "      <td>7.0</td>\n",
       "    </tr>\n",
       "    <tr>\n",
       "      <th>2</th>\n",
       "      <td>243</td>\n",
       "      <td>Belva Plain</td>\n",
       "      <td>6.0</td>\n",
       "    </tr>\n",
       "    <tr>\n",
       "      <th>3</th>\n",
       "      <td>243</td>\n",
       "      <td>JOHN SAUL</td>\n",
       "      <td>6.0</td>\n",
       "    </tr>\n",
       "    <tr>\n",
       "      <th>4</th>\n",
       "      <td>243</td>\n",
       "      <td>Jack Canfield</td>\n",
       "      <td>5.0</td>\n",
       "    </tr>\n",
       "    <tr>\n",
       "      <th>...</th>\n",
       "      <td>...</td>\n",
       "      <td>...</td>\n",
       "      <td>...</td>\n",
       "    </tr>\n",
       "    <tr>\n",
       "      <th>44327</th>\n",
       "      <td>278843</td>\n",
       "      <td>J. K. Rowling</td>\n",
       "      <td>8.0</td>\n",
       "    </tr>\n",
       "    <tr>\n",
       "      <th>44328</th>\n",
       "      <td>278843</td>\n",
       "      <td>Maeve Binchy</td>\n",
       "      <td>7.0</td>\n",
       "    </tr>\n",
       "    <tr>\n",
       "      <th>44329</th>\n",
       "      <td>278843</td>\n",
       "      <td>Rebecca Wells</td>\n",
       "      <td>7.0</td>\n",
       "    </tr>\n",
       "    <tr>\n",
       "      <th>44330</th>\n",
       "      <td>278843</td>\n",
       "      <td>Richard Carlson</td>\n",
       "      <td>8.0</td>\n",
       "    </tr>\n",
       "    <tr>\n",
       "      <th>44331</th>\n",
       "      <td>278843</td>\n",
       "      <td>TIM O'BRIEN</td>\n",
       "      <td>9.0</td>\n",
       "    </tr>\n",
       "  </tbody>\n",
       "</table>\n",
       "<p>44332 rows × 3 columns</p>\n",
       "</div>"
      ]
     },
     "execution_count": 43,
     "metadata": {},
     "output_type": "execute_result"
    }
   ],
   "execution_count": 43
  },
  {
   "metadata": {
    "ExecuteTime": {
     "end_time": "2024-11-07T09:32:58.754235Z",
     "start_time": "2024-11-07T09:32:58.616561Z"
    }
   },
   "cell_type": "code",
   "source": [
    "user_author_df=bm_df.pivot_table(index=\"user_id\",columns=\"book_author\",values=\"author_mean_rating\",fill_value=0)\n",
    "print(user_author_df.shape)\n",
    "author_user_df = user_author_df.T\n",
    "print(author_user_df.shape)"
   ],
   "id": "32293f666ff06514",
   "outputs": [
    {
     "name": "stdout",
     "output_type": "stream",
     "text": [
      "(4836, 1721)\n",
      "(1721, 4836)\n"
     ]
    }
   ],
   "execution_count": 44
  },
  {
   "metadata": {
    "ExecuteTime": {
     "end_time": "2024-11-07T09:32:59.297680Z",
     "start_time": "2024-11-07T09:32:58.796248Z"
    }
   },
   "cell_type": "code",
   "source": [
    "from sklearn.metrics.pairwise import cosine_similarity\n",
    "\n",
    "user_author_sim = cosine_similarity(author_user_df,author_user_df)\n",
    "\n",
    "user_author_sim_df = pd.DataFrame(user_author_sim, index=author_user_df.index, columns=author_user_df.index)\n",
    "user_author_sim_df['ANN BENSON'].head(10).sort_values(ascending=False)"
   ],
   "id": "18e2020481aa2fec",
   "outputs": [
    {
     "data": {
      "text/plain": [
       "book_author\n",
       "ANN BENSON          1.000000\n",
       "ALICE STEINBACH     0.122211\n",
       "ALEXANDRA FULLER    0.081019\n",
       "ANN PACKER          0.044426\n",
       "A. Manette Ansay    0.000000\n",
       "A. N. Roquelaure    0.000000\n",
       "ADRIANA TRIGIANI    0.000000\n",
       "ALBERT CAMUS        0.000000\n",
       "AMANDA QUICK        0.000000\n",
       "ANN BRASHARES       0.000000\n",
       "Name: ANN BENSON, dtype: float64"
      ]
     },
     "execution_count": 45,
     "metadata": {},
     "output_type": "execute_result"
    }
   ],
   "execution_count": 45
  },
  {
   "metadata": {
    "ExecuteTime": {
     "end_time": "2024-11-07T09:39:15.869299Z",
     "start_time": "2024-11-07T09:39:15.858122Z"
    }
   },
   "cell_type": "code",
   "source": [
    "def recommend_authors_books(author_name, top_n=5):\n",
    "    \"\"\"\n",
    "    특정 작가와 유사한 작가들의 책을 추천하는 함수\n",
    "    :param author_name: 추천의 기준이 될 작가명 \n",
    "    :param top_n: 유사도가 높은 상위 작가 수 . 미설정시 5개 기본\n",
    "    :return: 유사 작가들 리스트\n",
    "    \"\"\"\n",
    "    # 입력된 작가와 유사한 작가 top_n 선정\n",
    "    if author_name not in user_author_sim_df.index:\n",
    "        return f\"작가 '{author_name}'를 찾을 수 없습니다.\"\n",
    "    \n",
    "    # 작가 유사도 상위 top_n 작가 선택\n",
    "    similar_authors = user_author_sim_df[author_name].sort_values(ascending=False)[1:top_n+1].index\n",
    "\n",
    "    # 유사한 작가들의 책 추천\n",
    "    recommended_books = bm_df[bm_df['book_author'].isin(similar_authors)]\n",
    "    unique_authors = recommended_books['book_author'].unique()\n",
    "\n",
    "    return display(unique_authors)\n",
    "\n",
    "# 예시 사용\n",
    "print(recommend_authors_books('TONI MORRISON', top_n=10))"
   ],
   "id": "9145238b14af3cca",
   "outputs": [
    {
     "data": {
      "text/plain": [
       "array(['David McCullough', 'Iris, D. Rainer', 'John Ashbery',\n",
       "       'John J. Edward', 'Judith Reeves-Stevens', 'Kathleen Cross',\n",
       "       'Linda Sunshine', 'MICHAEL POLLAN', 'Paul Vincent',\n",
       "       'Ruthanne Lum McCunn'], dtype=object)"
      ]
     },
     "metadata": {},
     "output_type": "display_data"
    },
    {
     "name": "stdout",
     "output_type": "stream",
     "text": [
      "None\n"
     ]
    }
   ],
   "execution_count": 56
  },
  {
   "metadata": {
    "ExecuteTime": {
     "end_time": "2024-11-07T09:32:59.624623Z",
     "start_time": "2024-11-07T09:32:59.621627Z"
    }
   },
   "cell_type": "code",
   "source": "",
   "id": "f0919f0b940087e8",
   "outputs": [],
   "execution_count": null
  }
 ],
 "metadata": {
  "kernelspec": {
   "display_name": "Python 3",
   "language": "python",
   "name": "python3"
  },
  "language_info": {
   "codemirror_mode": {
    "name": "ipython",
    "version": 2
   },
   "file_extension": ".py",
   "mimetype": "text/x-python",
   "name": "python",
   "nbconvert_exporter": "python",
   "pygments_lexer": "ipython2",
   "version": "2.7.6"
  }
 },
 "nbformat": 4,
 "nbformat_minor": 5
}
