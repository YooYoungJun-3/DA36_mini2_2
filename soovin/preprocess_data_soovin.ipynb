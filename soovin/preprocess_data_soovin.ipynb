{
 "cells": [
  {
   "metadata": {
    "collapsed": true,
    "ExecuteTime": {
     "end_time": "2024-11-08T06:22:31.445235Z",
     "start_time": "2024-11-08T06:22:31.441745Z"
    }
   },
   "cell_type": "code",
   "source": [
    "import pandas as pd\n",
    "import numpy as np\n",
    "import matplotlib.pyplot as plt\n",
    "import seaborn as sns"
   ],
   "id": "initial_id",
   "outputs": [],
   "execution_count": 1
  },
  {
   "metadata": {},
   "cell_type": "markdown",
   "source": [
    "#### 데이터 전처리\n",
    "- kaggle dataset "
   ],
   "id": "7ebc78c0a259c775"
  },
  {
   "metadata": {
    "ExecuteTime": {
     "end_time": "2024-11-08T06:22:45.155253Z",
     "start_time": "2024-11-08T06:22:39.320937Z"
    }
   },
   "cell_type": "code",
   "source": "book_df=pd.read_csv('./data/book_review_data.csv')",
   "id": "c5b6e4a98a06dfbe",
   "outputs": [],
   "execution_count": 3
  },
  {
   "metadata": {
    "ExecuteTime": {
     "end_time": "2024-11-08T06:22:45.466985Z",
     "start_time": "2024-11-08T06:22:45.278177Z"
    }
   },
   "cell_type": "code",
   "source": [
    "# 1) 필요한 컬럼 도출\n",
    "# 2) 형변환 (float > int)\n",
    "\n",
    "book_df=book_df[['user_id',\"age\",\"rating\",\"book_title\",'book_author','year_of_publication','img_m','Summary','Category','country','Language']]\n",
    "book_df[['age',\"year_of_publication\"]]=book_df[['age',\"year_of_publication\"]].astype(int)"
   ],
   "id": "a91a7feaa0d36a4a",
   "outputs": [],
   "execution_count": 4
  },
  {
   "metadata": {
    "ExecuteTime": {
     "end_time": "2024-11-08T06:22:45.758723Z",
     "start_time": "2024-11-08T06:22:45.482494Z"
    }
   },
   "cell_type": "code",
   "source": [
    "# 최소 평가 개수 ( 평가가 30개보다 많은 책만 추출 )\n",
    "counts=book_df['book_title'].value_counts()\n",
    "title = counts[counts > 30].index\n",
    "book_filter_df=book_df[book_df['book_title'].isin(title)]\n"
   ],
   "id": "538437861c6b56cb",
   "outputs": [],
   "execution_count": 5
  },
  {
   "metadata": {
    "ExecuteTime": {
     "end_time": "2024-11-08T06:22:45.835689Z",
     "start_time": "2024-11-08T06:22:45.774974Z"
    }
   },
   "cell_type": "code",
   "source": [
    "# 최소 평가 개수 ( 평가가 20개보다 많은 사용자만 추출 )\n",
    "counts=book_filter_df[\"user_id\"].value_counts()\n",
    "user_id_=counts[counts>10].index\n",
    "book_filter_df = book_filter_df[book_filter_df['user_id'].isin(user_id_)]"
   ],
   "id": "394e64cd0b88a858",
   "outputs": [],
   "execution_count": 6
  },
  {
   "metadata": {
    "ExecuteTime": {
     "end_time": "2024-11-08T06:22:45.912744Z",
     "start_time": "2024-11-08T06:22:45.852075Z"
    }
   },
   "cell_type": "code",
   "source": [
    "# 무의미한 0점 평가 제거\n",
    "rating_zero=book_filter_df[book_filter_df['rating']==0].index\n",
    "book_filter_df.drop(rating_zero, axis=0, inplace=True)"
   ],
   "id": "8da03a2eae0c9e69",
   "outputs": [],
   "execution_count": 7
  },
  {
   "metadata": {},
   "cell_type": "markdown",
   "source": "",
   "id": "e509a8503bc2ce77"
  },
  {
   "metadata": {
    "ExecuteTime": {
     "end_time": "2024-11-08T06:22:45.997819Z",
     "start_time": "2024-11-08T06:22:45.927754Z"
    }
   },
   "cell_type": "code",
   "source": [
    "# 한 카테고리안에 책이 5권 미만인 경우 제거\n",
    "counts=book_filter_df[\"Category\"].value_counts()\n",
    "categories = counts[counts > 5].index\n",
    "book_filter_df = book_filter_df[book_filter_df['Category'].isin(categories)]\n",
    "\n",
    "idx=book_filter_df[book_filter_df[\"Summary\"]=='9'].index\n",
    "book_filter_df.drop(idx,axis=0,inplace=True)\n",
    "\n",
    "book_filter_df[\"book_title\"]=book_filter_df['book_title'].str.lower()\n",
    "book_filter_df[\"Summary\"]=book_filter_df[\"Summary\"].str.lower()"
   ],
   "id": "b779c5ab7eb237d7",
   "outputs": [],
   "execution_count": 8
  },
  {
   "metadata": {
    "ExecuteTime": {
     "end_time": "2024-11-08T06:22:46.043160Z",
     "start_time": "2024-11-08T06:22:46.013859Z"
    }
   },
   "cell_type": "code",
   "source": [
    "#book_filter_df.shape\n",
    "len(book_filter_df['book_title'].unique())"
   ],
   "id": "2d6073259aeb1ef",
   "outputs": [
    {
     "data": {
      "text/plain": [
       "3450"
      ]
     },
     "execution_count": 9,
     "metadata": {},
     "output_type": "execute_result"
    }
   ],
   "execution_count": 9
  },
  {
   "metadata": {},
   "cell_type": "markdown",
   "source": "#### user_book_rating dataframe",
   "id": "9e240d4c93668c34"
  },
  {
   "metadata": {
    "ExecuteTime": {
     "end_time": "2024-11-08T06:22:46.391322Z",
     "start_time": "2024-11-08T06:22:46.071980Z"
    }
   },
   "cell_type": "code",
   "source": [
    "user_book_df=book_filter_df.pivot_table(index='user_id',columns='book_title',values='rating',fill_value=0)\n",
    "book_user_df=user_book_df.T\n",
    "user_book_df.shape # user간 유사도 구할거 아니니까"
   ],
   "id": "27a4ecd611c9f240",
   "outputs": [
    {
     "data": {
      "text/plain": [
       "(4836, 3450)"
      ]
     },
     "execution_count": 10,
     "metadata": {},
     "output_type": "execute_result"
    }
   ],
   "execution_count": 10
  },
  {
   "metadata": {
    "ExecuteTime": {
     "end_time": "2024-11-08T06:22:46.429412Z",
     "start_time": "2024-11-08T06:22:46.419770Z"
    }
   },
   "cell_type": "code",
   "source": "user_book_df.iloc[55].sort_values(ascending=False)[:10]",
   "id": "ad73a8291a2fff5e",
   "outputs": [
    {
     "data": {
      "text/plain": [
       "book_title\n",
       "thinner                                                                     8.0\n",
       "christine                                                                   8.0\n",
       "stupid white men ...and other sorry excuses for the state of the nation!    6.0\n",
       "cujo                                                                        6.0\n",
       "'salem's lot                                                                0.0\n",
       "sweet hereafter movie tie-in : a novel                                      0.0\n",
       "sunset in st. tropez                                                        0.0\n",
       "superfudge (yearling books (paperback))                                     0.0\n",
       "superstitious                                                               0.0\n",
       "surfacing                                                                   0.0\n",
       "Name: 4334, dtype: float64"
      ]
     },
     "execution_count": 11,
     "metadata": {},
     "output_type": "execute_result"
    }
   ],
   "execution_count": 11
  },
  {
   "metadata": {},
   "cell_type": "markdown",
   "source": "#### age_title_count dataframe",
   "id": "fc30f1dca0d21f9e"
  },
  {
   "metadata": {
    "ExecuteTime": {
     "end_time": "2024-11-08T06:22:46.468222Z",
     "start_time": "2024-11-08T06:22:46.462088Z"
    }
   },
   "cell_type": "code",
   "source": "book_filter_df[\"age\"].value_counts()",
   "id": "b19b1497e1710b5e",
   "outputs": [
    {
     "data": {
      "text/plain": [
       "age\n",
       "34    16829\n",
       "33     1882\n",
       "29     1708\n",
       "28     1689\n",
       "32     1585\n",
       "      ...  \n",
       "76        6\n",
       "11        5\n",
       "84        5\n",
       "10        3\n",
       "97        2\n",
       "Name: count, Length: 78, dtype: int64"
      ]
     },
     "execution_count": 12,
     "metadata": {},
     "output_type": "execute_result"
    }
   ],
   "execution_count": 12
  },
  {
   "metadata": {
    "ExecuteTime": {
     "end_time": "2024-11-08T06:22:46.767919Z",
     "start_time": "2024-11-08T06:22:46.764106Z"
    }
   },
   "cell_type": "code",
   "source": [
    "def make_ages(age):\n",
    "    if 10<=age<20:\n",
    "        return 10\n",
    "    elif 20<=age<30:\n",
    "        return 20\n",
    "    elif 30<=age<40:\n",
    "        return 30\n",
    "    elif 40<=age<50:\n",
    "        return 40\n",
    "    elif 50<=age<60:\n",
    "        return 50\n",
    "    elif 60<=age<70:\n",
    "        return 60\n",
    "    else:\n",
    "        return 70"
   ],
   "id": "5c222ce5cf52ff8d",
   "outputs": [],
   "execution_count": 13
  },
  {
   "metadata": {
    "ExecuteTime": {
     "end_time": "2024-11-08T06:22:46.793630Z",
     "start_time": "2024-11-08T06:22:46.771975Z"
    }
   },
   "cell_type": "code",
   "source": "book_filter_df['ages'] = book_filter_df['age'].apply(make_ages)",
   "id": "5e4bb23935af805a",
   "outputs": [],
   "execution_count": 14
  },
  {
   "metadata": {
    "ExecuteTime": {
     "end_time": "2024-11-08T06:22:46.849125Z",
     "start_time": "2024-11-08T06:22:46.830008Z"
    }
   },
   "cell_type": "code",
   "source": "ages_book_=book_filter_df.groupby(['ages','book_title']).size().reset_index(name='count')",
   "id": "c3157ad7d03f7a60",
   "outputs": [],
   "execution_count": 15
  },
  {
   "metadata": {
    "ExecuteTime": {
     "end_time": "2024-11-08T06:22:46.903979Z",
     "start_time": "2024-11-08T06:22:46.881777Z"
    }
   },
   "cell_type": "code",
   "source": [
    "ages_book_df=ages_book_.pivot_table(index='ages',columns='book_title',values='count',fill_value=0)\n",
    "book_ages_df=ages_book_df.T\n",
    "book_ages_df[:100]"
   ],
   "id": "3ba5858d68532ae5",
   "outputs": [
    {
     "data": {
      "text/plain": [
       "ages                                       10    20    30   40   50   60   70\n",
       "book_title                                                                   \n",
       "'salem's lot                              0.0   0.0   4.0  1.0  0.0  0.0  0.0\n",
       "10 lb. penalty                            0.0   1.0   5.0  4.0  1.0  1.0  1.0\n",
       "101 dalmatians                            0.0   2.0   0.0  1.0  0.0  0.0  0.0\n",
       "16 lighthouse road                        1.0   1.0   6.0  3.0  2.0  0.0  0.0\n",
       "1984                                      3.0  26.0  18.0  8.0  1.0  0.0  0.0\n",
       "...                                       ...   ...   ...  ...  ...  ...  ...\n",
       "a stitch in time (needlecraft mysteries)  0.0   1.0   4.0  1.0  3.0  0.0  0.0\n",
       "a streetcar named desire                  1.0   7.0   3.0  0.0  1.0  0.0  0.0\n",
       "a sudden change of heart                  0.0   1.0   5.0  1.0  0.0  0.0  0.0\n",
       "a suitable vengeance                      0.0   0.0   4.0  1.0  2.0  0.0  0.0\n",
       "a superior death                          0.0   0.0   4.0  1.0  3.0  0.0  0.0\n",
       "\n",
       "[100 rows x 7 columns]"
      ],
      "text/html": [
       "<div>\n",
       "<style scoped>\n",
       "    .dataframe tbody tr th:only-of-type {\n",
       "        vertical-align: middle;\n",
       "    }\n",
       "\n",
       "    .dataframe tbody tr th {\n",
       "        vertical-align: top;\n",
       "    }\n",
       "\n",
       "    .dataframe thead th {\n",
       "        text-align: right;\n",
       "    }\n",
       "</style>\n",
       "<table border=\"1\" class=\"dataframe\">\n",
       "  <thead>\n",
       "    <tr style=\"text-align: right;\">\n",
       "      <th>ages</th>\n",
       "      <th>10</th>\n",
       "      <th>20</th>\n",
       "      <th>30</th>\n",
       "      <th>40</th>\n",
       "      <th>50</th>\n",
       "      <th>60</th>\n",
       "      <th>70</th>\n",
       "    </tr>\n",
       "    <tr>\n",
       "      <th>book_title</th>\n",
       "      <th></th>\n",
       "      <th></th>\n",
       "      <th></th>\n",
       "      <th></th>\n",
       "      <th></th>\n",
       "      <th></th>\n",
       "      <th></th>\n",
       "    </tr>\n",
       "  </thead>\n",
       "  <tbody>\n",
       "    <tr>\n",
       "      <th>'salem's lot</th>\n",
       "      <td>0.0</td>\n",
       "      <td>0.0</td>\n",
       "      <td>4.0</td>\n",
       "      <td>1.0</td>\n",
       "      <td>0.0</td>\n",
       "      <td>0.0</td>\n",
       "      <td>0.0</td>\n",
       "    </tr>\n",
       "    <tr>\n",
       "      <th>10 lb. penalty</th>\n",
       "      <td>0.0</td>\n",
       "      <td>1.0</td>\n",
       "      <td>5.0</td>\n",
       "      <td>4.0</td>\n",
       "      <td>1.0</td>\n",
       "      <td>1.0</td>\n",
       "      <td>1.0</td>\n",
       "    </tr>\n",
       "    <tr>\n",
       "      <th>101 dalmatians</th>\n",
       "      <td>0.0</td>\n",
       "      <td>2.0</td>\n",
       "      <td>0.0</td>\n",
       "      <td>1.0</td>\n",
       "      <td>0.0</td>\n",
       "      <td>0.0</td>\n",
       "      <td>0.0</td>\n",
       "    </tr>\n",
       "    <tr>\n",
       "      <th>16 lighthouse road</th>\n",
       "      <td>1.0</td>\n",
       "      <td>1.0</td>\n",
       "      <td>6.0</td>\n",
       "      <td>3.0</td>\n",
       "      <td>2.0</td>\n",
       "      <td>0.0</td>\n",
       "      <td>0.0</td>\n",
       "    </tr>\n",
       "    <tr>\n",
       "      <th>1984</th>\n",
       "      <td>3.0</td>\n",
       "      <td>26.0</td>\n",
       "      <td>18.0</td>\n",
       "      <td>8.0</td>\n",
       "      <td>1.0</td>\n",
       "      <td>0.0</td>\n",
       "      <td>0.0</td>\n",
       "    </tr>\n",
       "    <tr>\n",
       "      <th>...</th>\n",
       "      <td>...</td>\n",
       "      <td>...</td>\n",
       "      <td>...</td>\n",
       "      <td>...</td>\n",
       "      <td>...</td>\n",
       "      <td>...</td>\n",
       "      <td>...</td>\n",
       "    </tr>\n",
       "    <tr>\n",
       "      <th>a stitch in time (needlecraft mysteries)</th>\n",
       "      <td>0.0</td>\n",
       "      <td>1.0</td>\n",
       "      <td>4.0</td>\n",
       "      <td>1.0</td>\n",
       "      <td>3.0</td>\n",
       "      <td>0.0</td>\n",
       "      <td>0.0</td>\n",
       "    </tr>\n",
       "    <tr>\n",
       "      <th>a streetcar named desire</th>\n",
       "      <td>1.0</td>\n",
       "      <td>7.0</td>\n",
       "      <td>3.0</td>\n",
       "      <td>0.0</td>\n",
       "      <td>1.0</td>\n",
       "      <td>0.0</td>\n",
       "      <td>0.0</td>\n",
       "    </tr>\n",
       "    <tr>\n",
       "      <th>a sudden change of heart</th>\n",
       "      <td>0.0</td>\n",
       "      <td>1.0</td>\n",
       "      <td>5.0</td>\n",
       "      <td>1.0</td>\n",
       "      <td>0.0</td>\n",
       "      <td>0.0</td>\n",
       "      <td>0.0</td>\n",
       "    </tr>\n",
       "    <tr>\n",
       "      <th>a suitable vengeance</th>\n",
       "      <td>0.0</td>\n",
       "      <td>0.0</td>\n",
       "      <td>4.0</td>\n",
       "      <td>1.0</td>\n",
       "      <td>2.0</td>\n",
       "      <td>0.0</td>\n",
       "      <td>0.0</td>\n",
       "    </tr>\n",
       "    <tr>\n",
       "      <th>a superior death</th>\n",
       "      <td>0.0</td>\n",
       "      <td>0.0</td>\n",
       "      <td>4.0</td>\n",
       "      <td>1.0</td>\n",
       "      <td>3.0</td>\n",
       "      <td>0.0</td>\n",
       "      <td>0.0</td>\n",
       "    </tr>\n",
       "  </tbody>\n",
       "</table>\n",
       "<p>100 rows × 7 columns</p>\n",
       "</div>"
      ]
     },
     "execution_count": 16,
     "metadata": {},
     "output_type": "execute_result"
    }
   ],
   "execution_count": 16
  },
  {
   "metadata": {
    "ExecuteTime": {
     "end_time": "2024-11-08T06:22:47.367844Z",
     "start_time": "2024-11-08T06:22:46.972789Z"
    }
   },
   "cell_type": "code",
   "source": [
    "from sklearn.metrics.pairwise import cosine_similarity\n",
    "ages_similarity=cosine_similarity(book_ages_df,book_ages_df)\n",
    "ages_similarity_df=pd.DataFrame(ages_similarity,index=ages_book_df.columns, columns=ages_book_df.columns)"
   ],
   "id": "6987c525daaeae04",
   "outputs": [],
   "execution_count": 17
  },
  {
   "metadata": {
    "ExecuteTime": {
     "end_time": "2024-11-08T06:22:47.445365Z",
     "start_time": "2024-11-08T06:22:47.439205Z"
    }
   },
   "cell_type": "code",
   "source": "ages_similarity_df.shape",
   "id": "d275a063e545f456",
   "outputs": [
    {
     "data": {
      "text/plain": [
       "(3450, 3450)"
      ]
     },
     "execution_count": 18,
     "metadata": {},
     "output_type": "execute_result"
    }
   ],
   "execution_count": 18
  },
  {
   "metadata": {},
   "cell_type": "markdown",
   "source": "#### user별 안 읽은 책 추천",
   "id": "6d848eef72b55f9b"
  },
  {
   "metadata": {
    "ExecuteTime": {
     "end_time": "2024-11-08T06:22:47.590514Z",
     "start_time": "2024-11-08T06:22:47.587012Z"
    }
   },
   "cell_type": "code",
   "source": [
    "def get_unseen_books(user_idx):\n",
    "    user_read_df=user_book_df.iloc[user_idx,:]\n",
    "    return user_read_df[user_read_df==0].index"
   ],
   "id": "66c8d6674c448d8b",
   "outputs": [],
   "execution_count": 19
  },
  {
   "metadata": {
    "ExecuteTime": {
     "end_time": "2024-11-08T06:22:47.785642Z",
     "start_time": "2024-11-08T06:22:47.781007Z"
    }
   },
   "cell_type": "code",
   "source": [
    "def ages_popular_book(user_idx):\n",
    "    user_ages=book_filter_df.iloc[user_idx][\"ages\"]\n",
    "ages_popular_book(176)"
   ],
   "id": "58bb8ecb66d11050",
   "outputs": [],
   "execution_count": 20
  },
  {
   "metadata": {},
   "cell_type": "markdown",
   "source": "# 작가 평점 추천 전처리",
   "id": "afff5782e9c7e403"
  },
  {
   "metadata": {
    "ExecuteTime": {
     "end_time": "2024-11-08T06:22:48.032382Z",
     "start_time": "2024-11-08T06:22:48.026775Z"
    }
   },
   "cell_type": "code",
   "source": [
    "# TODO\n",
    "'''\n",
    "bm_df 이름을 바꾸고 V\n",
    "유저 아이디를 받아서 그 유저가 가장 높게 평을 준 작가를 저장하는 함수를 만들고 V\n",
    "그 작가를 기준으로 recommend_authors_books의 작가을 대입하도록 하자. V\n",
    "user_idx값을 user_id값으로 받기\n",
    "'''"
   ],
   "id": "854f9995f194eeb5",
   "outputs": [
    {
     "data": {
      "text/plain": [
       "'\\nbm_df 이름을 바꾸고 V\\n유저 아이디를 받아서 그 유저가 가장 높게 평을 준 작가를 저장하는 함수를 만들고\\n그 작가를 기준으로 recommend_authors_books의 작가을 대입하도록 하자.\\nuser_idx값을 user_id값으로 받기\\n'"
      ]
     },
     "execution_count": 21,
     "metadata": {},
     "output_type": "execute_result"
    }
   ],
   "execution_count": 21
  },
  {
   "metadata": {
    "ExecuteTime": {
     "end_time": "2024-11-08T06:22:48.095928Z",
     "start_time": "2024-11-08T06:22:48.068117Z"
    }
   },
   "cell_type": "code",
   "source": [
    "# 책의 평점으로 평균내기\n",
    "# user별 작가 평점으로 평균내기\n",
    "\n",
    "user_author_rating_df = book_filter_df.groupby(['user_id', 'book_author'])['rating'].mean().reset_index()\n",
    "print(user_author_rating_df.shape)\n",
    "user_author_rating_df=user_author_rating_df.rename(columns={'rating':'author_mean_rating'})\n",
    "user_author_rating_df"
   ],
   "id": "c612c6e457faf952",
   "outputs": [
    {
     "name": "stdout",
     "output_type": "stream",
     "text": [
      "(44332, 3)\n"
     ]
    },
    {
     "data": {
      "text/plain": [
       "       user_id      book_author  author_mean_rating\n",
       "0          243    Arthur Golden                10.0\n",
       "1          243    Arundhati Roy                 7.0\n",
       "2          243      Belva Plain                 6.0\n",
       "3          243        JOHN SAUL                 6.0\n",
       "4          243    Jack Canfield                 5.0\n",
       "...        ...              ...                 ...\n",
       "44327   278843    J. K. Rowling                 8.0\n",
       "44328   278843     Maeve Binchy                 7.0\n",
       "44329   278843    Rebecca Wells                 7.0\n",
       "44330   278843  Richard Carlson                 8.0\n",
       "44331   278843      TIM O'BRIEN                 9.0\n",
       "\n",
       "[44332 rows x 3 columns]"
      ],
      "text/html": [
       "<div>\n",
       "<style scoped>\n",
       "    .dataframe tbody tr th:only-of-type {\n",
       "        vertical-align: middle;\n",
       "    }\n",
       "\n",
       "    .dataframe tbody tr th {\n",
       "        vertical-align: top;\n",
       "    }\n",
       "\n",
       "    .dataframe thead th {\n",
       "        text-align: right;\n",
       "    }\n",
       "</style>\n",
       "<table border=\"1\" class=\"dataframe\">\n",
       "  <thead>\n",
       "    <tr style=\"text-align: right;\">\n",
       "      <th></th>\n",
       "      <th>user_id</th>\n",
       "      <th>book_author</th>\n",
       "      <th>author_mean_rating</th>\n",
       "    </tr>\n",
       "  </thead>\n",
       "  <tbody>\n",
       "    <tr>\n",
       "      <th>0</th>\n",
       "      <td>243</td>\n",
       "      <td>Arthur Golden</td>\n",
       "      <td>10.0</td>\n",
       "    </tr>\n",
       "    <tr>\n",
       "      <th>1</th>\n",
       "      <td>243</td>\n",
       "      <td>Arundhati Roy</td>\n",
       "      <td>7.0</td>\n",
       "    </tr>\n",
       "    <tr>\n",
       "      <th>2</th>\n",
       "      <td>243</td>\n",
       "      <td>Belva Plain</td>\n",
       "      <td>6.0</td>\n",
       "    </tr>\n",
       "    <tr>\n",
       "      <th>3</th>\n",
       "      <td>243</td>\n",
       "      <td>JOHN SAUL</td>\n",
       "      <td>6.0</td>\n",
       "    </tr>\n",
       "    <tr>\n",
       "      <th>4</th>\n",
       "      <td>243</td>\n",
       "      <td>Jack Canfield</td>\n",
       "      <td>5.0</td>\n",
       "    </tr>\n",
       "    <tr>\n",
       "      <th>...</th>\n",
       "      <td>...</td>\n",
       "      <td>...</td>\n",
       "      <td>...</td>\n",
       "    </tr>\n",
       "    <tr>\n",
       "      <th>44327</th>\n",
       "      <td>278843</td>\n",
       "      <td>J. K. Rowling</td>\n",
       "      <td>8.0</td>\n",
       "    </tr>\n",
       "    <tr>\n",
       "      <th>44328</th>\n",
       "      <td>278843</td>\n",
       "      <td>Maeve Binchy</td>\n",
       "      <td>7.0</td>\n",
       "    </tr>\n",
       "    <tr>\n",
       "      <th>44329</th>\n",
       "      <td>278843</td>\n",
       "      <td>Rebecca Wells</td>\n",
       "      <td>7.0</td>\n",
       "    </tr>\n",
       "    <tr>\n",
       "      <th>44330</th>\n",
       "      <td>278843</td>\n",
       "      <td>Richard Carlson</td>\n",
       "      <td>8.0</td>\n",
       "    </tr>\n",
       "    <tr>\n",
       "      <th>44331</th>\n",
       "      <td>278843</td>\n",
       "      <td>TIM O'BRIEN</td>\n",
       "      <td>9.0</td>\n",
       "    </tr>\n",
       "  </tbody>\n",
       "</table>\n",
       "<p>44332 rows × 3 columns</p>\n",
       "</div>"
      ]
     },
     "execution_count": 22,
     "metadata": {},
     "output_type": "execute_result"
    }
   ],
   "execution_count": 22
  },
  {
   "metadata": {
    "ExecuteTime": {
     "end_time": "2024-11-08T06:22:48.436683Z",
     "start_time": "2024-11-08T06:22:48.190131Z"
    }
   },
   "cell_type": "code",
   "source": [
    "user_author_df=user_author_rating_df.pivot_table(index=\"user_id\",columns=\"book_author\",values=\"author_mean_rating\",fill_value=0)\n",
    "print(user_author_df.shape)\n",
    "author_user_df = user_author_df.T\n",
    "print(author_user_df.shape)\n",
    "author_user_df.iloc[:5, :10]"
   ],
   "id": "32293f666ff06514",
   "outputs": [
    {
     "name": "stdout",
     "output_type": "stream",
     "text": [
      "(4836, 1721)\n",
      "(1721, 4836)\n"
     ]
    },
    {
     "data": {
      "text/plain": [
       "user_id           243  254  383  388  487  503  507  638  735  741\n",
       "book_author                                                       \n",
       "A. Manette Ansay  0.0  0.0  0.0  0.0  0.0  0.0  0.0  0.0  0.0  0.0\n",
       "A. N. Roquelaure  0.0  0.0  0.0  0.0  0.0  0.0  0.0  0.0  0.0  0.0\n",
       "ADRIANA TRIGIANI  0.0  0.0  0.0  0.0  0.0  0.0  0.0  0.0  0.0  0.0\n",
       "ALBERT CAMUS      0.0  0.0  0.0  0.0  0.0  0.0  0.0  0.0  0.0  0.0\n",
       "ALEXANDRA FULLER  0.0  0.0  0.0  0.0  0.0  0.0  0.0  0.0  0.0  0.0"
      ],
      "text/html": [
       "<div>\n",
       "<style scoped>\n",
       "    .dataframe tbody tr th:only-of-type {\n",
       "        vertical-align: middle;\n",
       "    }\n",
       "\n",
       "    .dataframe tbody tr th {\n",
       "        vertical-align: top;\n",
       "    }\n",
       "\n",
       "    .dataframe thead th {\n",
       "        text-align: right;\n",
       "    }\n",
       "</style>\n",
       "<table border=\"1\" class=\"dataframe\">\n",
       "  <thead>\n",
       "    <tr style=\"text-align: right;\">\n",
       "      <th>user_id</th>\n",
       "      <th>243</th>\n",
       "      <th>254</th>\n",
       "      <th>383</th>\n",
       "      <th>388</th>\n",
       "      <th>487</th>\n",
       "      <th>503</th>\n",
       "      <th>507</th>\n",
       "      <th>638</th>\n",
       "      <th>735</th>\n",
       "      <th>741</th>\n",
       "    </tr>\n",
       "    <tr>\n",
       "      <th>book_author</th>\n",
       "      <th></th>\n",
       "      <th></th>\n",
       "      <th></th>\n",
       "      <th></th>\n",
       "      <th></th>\n",
       "      <th></th>\n",
       "      <th></th>\n",
       "      <th></th>\n",
       "      <th></th>\n",
       "      <th></th>\n",
       "    </tr>\n",
       "  </thead>\n",
       "  <tbody>\n",
       "    <tr>\n",
       "      <th>A. Manette Ansay</th>\n",
       "      <td>0.0</td>\n",
       "      <td>0.0</td>\n",
       "      <td>0.0</td>\n",
       "      <td>0.0</td>\n",
       "      <td>0.0</td>\n",
       "      <td>0.0</td>\n",
       "      <td>0.0</td>\n",
       "      <td>0.0</td>\n",
       "      <td>0.0</td>\n",
       "      <td>0.0</td>\n",
       "    </tr>\n",
       "    <tr>\n",
       "      <th>A. N. Roquelaure</th>\n",
       "      <td>0.0</td>\n",
       "      <td>0.0</td>\n",
       "      <td>0.0</td>\n",
       "      <td>0.0</td>\n",
       "      <td>0.0</td>\n",
       "      <td>0.0</td>\n",
       "      <td>0.0</td>\n",
       "      <td>0.0</td>\n",
       "      <td>0.0</td>\n",
       "      <td>0.0</td>\n",
       "    </tr>\n",
       "    <tr>\n",
       "      <th>ADRIANA TRIGIANI</th>\n",
       "      <td>0.0</td>\n",
       "      <td>0.0</td>\n",
       "      <td>0.0</td>\n",
       "      <td>0.0</td>\n",
       "      <td>0.0</td>\n",
       "      <td>0.0</td>\n",
       "      <td>0.0</td>\n",
       "      <td>0.0</td>\n",
       "      <td>0.0</td>\n",
       "      <td>0.0</td>\n",
       "    </tr>\n",
       "    <tr>\n",
       "      <th>ALBERT CAMUS</th>\n",
       "      <td>0.0</td>\n",
       "      <td>0.0</td>\n",
       "      <td>0.0</td>\n",
       "      <td>0.0</td>\n",
       "      <td>0.0</td>\n",
       "      <td>0.0</td>\n",
       "      <td>0.0</td>\n",
       "      <td>0.0</td>\n",
       "      <td>0.0</td>\n",
       "      <td>0.0</td>\n",
       "    </tr>\n",
       "    <tr>\n",
       "      <th>ALEXANDRA FULLER</th>\n",
       "      <td>0.0</td>\n",
       "      <td>0.0</td>\n",
       "      <td>0.0</td>\n",
       "      <td>0.0</td>\n",
       "      <td>0.0</td>\n",
       "      <td>0.0</td>\n",
       "      <td>0.0</td>\n",
       "      <td>0.0</td>\n",
       "      <td>0.0</td>\n",
       "      <td>0.0</td>\n",
       "    </tr>\n",
       "  </tbody>\n",
       "</table>\n",
       "</div>"
      ]
     },
     "execution_count": 23,
     "metadata": {},
     "output_type": "execute_result"
    }
   ],
   "execution_count": 23
  },
  {
   "metadata": {
    "ExecuteTime": {
     "end_time": "2024-11-08T06:22:48.934573Z",
     "start_time": "2024-11-08T06:22:48.503834Z"
    }
   },
   "cell_type": "code",
   "source": [
    "from sklearn.metrics.pairwise import cosine_similarity\n",
    "\n",
    "user_author_sim = cosine_similarity(author_user_df,author_user_df)\n",
    "\n",
    "user_author_sim_df = pd.DataFrame(user_author_sim, index=author_user_df.index, columns=author_user_df.index)\n",
    "user_author_sim_df['ANN BENSON'].head(10).sort_values(ascending=False)"
   ],
   "id": "18e2020481aa2fec",
   "outputs": [
    {
     "data": {
      "text/plain": [
       "book_author\n",
       "ANN BENSON          1.000000\n",
       "ALICE STEINBACH     0.122211\n",
       "ALEXANDRA FULLER    0.081019\n",
       "ANN PACKER          0.044426\n",
       "A. Manette Ansay    0.000000\n",
       "A. N. Roquelaure    0.000000\n",
       "ADRIANA TRIGIANI    0.000000\n",
       "ALBERT CAMUS        0.000000\n",
       "AMANDA QUICK        0.000000\n",
       "ANN BRASHARES       0.000000\n",
       "Name: ANN BENSON, dtype: float64"
      ]
     },
     "execution_count": 24,
     "metadata": {},
     "output_type": "execute_result"
    }
   ],
   "execution_count": 24
  },
  {
   "metadata": {
    "ExecuteTime": {
     "end_time": "2024-11-08T07:31:31.015269Z",
     "start_time": "2024-11-08T07:31:28.679461Z"
    }
   },
   "cell_type": "code",
   "source": [
    "#유저 아이디 입력받기\n",
    "def input_user_id():\n",
    "    user_idx = int(input('아이디를 입력하세요! : '))\n",
    "\n",
    "    # 입력한 아이디가 데이터프레임에 존재하는지 확인\n",
    "    if user_idx in user_author_rating_df['user_id'].values:\n",
    "        print(f'{user_idx}님 환영합니다!')\n",
    "        return user_idx\n",
    "    else:\n",
    "        print('올바른 아이디를 입력하세요.')\n",
    "        return input_user_id()\n",
    "        \n",
    "user_id = input_user_id()"
   ],
   "id": "896cb7bc765431c0",
   "outputs": [
    {
     "name": "stdout",
     "output_type": "stream",
     "text": [
      "243님 환영합니다!\n"
     ]
    }
   ],
   "execution_count": 47
  },
  {
   "metadata": {
    "ExecuteTime": {
     "end_time": "2024-11-08T08:05:23.671308Z",
     "start_time": "2024-11-08T08:05:20.718612Z"
    }
   },
   "cell_type": "code",
   "source": [
    "def recommend_authors_books(author_name, top_n=5):\n",
    "    \"\"\"\n",
    "    특정 작가와 유사한 작가들의 책을 추천하는 함수\n",
    "    :param author_name: 추천의 기준이 될 작가명 \n",
    "    :param top_n: 유사도가 높은 상위 작가 수 . 미설정시 5개 기본\n",
    "    :return: 유사 작가들 리스트\n",
    "    \"\"\"\n",
    "    \n",
    "        # 입력된 작가와 유사한 작가 top_n 선정\n",
    "    #순서 정리\n",
    "    #유저 아이디 입력받기 => 입력받은 유저가 평점 준 작가 조회 => 그 중 가장 높은 평점 조회 => 가장 높게 준 작가 기준으로 높은 유사도 조회\n",
    "    \n",
    "    user_ratings = user_author_rating_df[user_author_rating_df['user_id'] == user_id]\n",
    "    \n",
    "    # 유저가 높은 평점을 준 작가를 기준으로 정렬\n",
    "    user_ratings = user_ratings.sort_values(by='author_mean_rating', ascending=False)\n",
    "    \n",
    "    \n",
    "    top_author = user_ratings.iloc[0]['book_author']\n",
    "    print(f\"유저 {user_id}님이 좋아하는 작가: {top_author} 작가님입니다.\")\n",
    "    \n",
    "        # 작가 유사도 상위 top_n 작가 선택\n",
    "    similar_authors = user_author_sim_df[top_author].sort_values(ascending=False)[1:top_n+1].index\n",
    "\n",
    "    # 유사한 작가들 추천\n",
    "    recommended_books = user_author_rating_df[user_author_rating_df['book_author'].isin(similar_authors)]\n",
    "    unique_authors = recommended_books['book_author'].unique()\n",
    "\n",
    "    return display(unique_authors)\n",
    "\n",
    "# 예시 사용\n",
    "user_id = input_user_id()\n",
    "recommend_authors_books(user_id, top_n=10)"
   ],
   "id": "9145238b14af3cca",
   "outputs": [
    {
     "name": "stdout",
     "output_type": "stream",
     "text": [
      "507님 환영합니다!\n",
      "유저 507님이 좋아하는 작가: Sue Monk Kidd 작가님입니다.\n"
     ]
    },
    {
     "data": {
      "text/plain": [
       "array(['Rebecca Wells', 'Dan Brown', 'Tracy Chevalier', 'Jennifer Weiner',\n",
       "       'Mitch Albom', 'Gregory Maguire', 'Janet Evanovich',\n",
       "       'Alexander McCall Smith', 'Leif Enger', 'Sheri Reynolds'],\n",
       "      dtype=object)"
      ]
     },
     "metadata": {},
     "output_type": "display_data"
    }
   ],
   "execution_count": 58
  },
  {
   "metadata": {},
   "cell_type": "markdown",
   "source": "# 가중평점",
   "id": "565802c510bc72a8"
  },
  {
   "metadata": {
    "ExecuteTime": {
     "end_time": "2024-11-08T08:05:30.577356Z",
     "start_time": "2024-11-08T08:05:30.295984Z"
    }
   },
   "cell_type": "code",
   "source": [
    "\n",
    "def predict_ratings(author_user_df, user_author_sim):\n",
    "    \"\"\"\n",
    "    :param author_user_df: 사용자와 작가 간의 평점 행렬 (사용자 수 x 작가 수)\n",
    "    :param user_author_sim: 사용자 간의 유사도 행렬 (사용자 수 x 사용자 수)\n",
    "    \"\"\"\n",
    "    # 사용자-유사도 행렬과 작가 평점 행렬의 곱셈\n",
    "    ratings_pred = np.dot(user_author_sim, author_user_df) / np.abs(user_author_sim).sum(axis=1)[:, np.newaxis]\n",
    "    return ratings_pred\n",
    "\n",
    "ratings_pred = predict_ratings(author_user_df, user_author_sim)\n",
    "print(ratings_pred.shape)\n",
    "type(ratings_pred)  # 첫 5개의 예측 평점 확인\n",
    "ratings_pred_df= pd.DataFrame(ratings_pred)"
   ],
   "id": "f0919f0b940087e8",
   "outputs": [
    {
     "name": "stdout",
     "output_type": "stream",
     "text": [
      "(1721, 4836)\n"
     ]
    }
   ],
   "execution_count": 59
  },
  {
   "metadata": {
    "ExecuteTime": {
     "end_time": "2024-11-08T08:05:32.884160Z",
     "start_time": "2024-11-08T08:05:32.828747Z"
    }
   },
   "cell_type": "code",
   "source": [
    "#MSE 측정\n",
    "def get_mse(actual, pred):\n",
    "    \n",
    "    non_zero_idx = actual.nonzero() #0이 아닌 겂의 인덱스\n",
    "    #print(non_zero_idx) #([row_idx, row_idx,...], [col_idx, col_idx,...]) 비교해서 분석\n",
    "    actual = actual[non_zero_idx]\n",
    "    pred = pred[non_zero_idx]\n",
    "    return ((actual - pred) ** 2).mean()\n",
    "\n",
    "get_mse(author_user_df.values,ratings_pred_df.values)"
   ],
   "id": "5cae9f578284969b",
   "outputs": [
    {
     "data": {
      "text/plain": [
       "53.32529737478435"
      ]
     },
     "execution_count": 60,
     "metadata": {},
     "output_type": "execute_result"
    }
   ],
   "execution_count": 60
  },
  {
   "metadata": {
    "ExecuteTime": {
     "end_time": "2024-11-08T08:05:42.279241Z",
     "start_time": "2024-11-08T08:05:34.410265Z"
    }
   },
   "cell_type": "code",
   "source": [
    "# 작가별 가중평점\n",
    "def predict_ratings_for_user(user_idx,author_idx,topn_sim_idx):\n",
    "    \"\"\"\n",
    "    #내용에 알맞게 주석 수적\n",
    "    :param user_idx: 유저의 아이디. 고유한 번호\n",
    "    :param author_idx: 예측하고자 하는 작가의 고유 번호\n",
    "    :param topn_sim_idx : author_idx별 평점유사도 상위 topn건의 인덱스  \n",
    "    :return: \n",
    "    \"\"\"\n",
    "    \n",
    "    # user_idx는 user에게 부여되는 유저 번호를 받아올 것.\n",
    "    # author_idx값을 구하는 받아오는 코드 작성 \n",
    "    topn_sim = user_author_sim[author_idx,:][topn_sim_idx] # 가중평점 계산식의 S\n",
    "    # 평점유사도 topn건에 대한 사용자 평점\n",
    "    topn_rating = user_author_df.values[user_idx,:][topn_sim_idx] # 가중평점 계산식의 R\n",
    "    # 예측 평점 계산\n",
    "    return topn_sim.dot(topn_rating) / np.abs(topn_sim).sum()\n",
    "    \n",
    "topn=20\n",
    "user_idx = input_user_id() # 1721개이나 0부터 시작하기 때문에 0~1720 사이의 숫자를 넣어야 한다.\n",
    "author_idx = 95\n",
    "topn_sim_idx = user_author_sim_df.iloc[author_idx].argsort()[:-(topn+1):-1]\n",
    "\n",
    "pred_rating=predict_ratings_for_user(user_idx,author_idx,topn_sim_idx)"
   ],
   "id": "37ba6f8bec3d4529",
   "outputs": [
    {
     "name": "stdout",
     "output_type": "stream",
     "text": [
      "503님 환영합니다!\n"
     ]
    }
   ],
   "execution_count": 61
  },
  {
   "metadata": {
    "ExecuteTime": {
     "end_time": "2024-11-08T08:10:01.190913Z",
     "start_time": "2024-11-08T08:05:48.869999Z"
    }
   },
   "cell_type": "code",
   "source": [
    "def predict_ratings_user_to_author(topn=20):\n",
    "    # 최종 반환된 예측 평점 ndarray\n",
    "    pred = np.zeros(user_author_df.shape)  # (1721, 4836)\n",
    "    \n",
    "    # 작가별 루프\n",
    "    for author_idx in range(pred.shape[1]):\n",
    "        # 작가별 평점 유사도 topn건 인덱스\n",
    "        topn_sim_idx = user_author_sim_df.iloc[author_idx].argsort()[:-(topn + 1):-1]\n",
    "        \n",
    "        # 사용자 루프\n",
    "        for user_idx in range(pred.shape[0]):\n",
    "            # 개별 사용자와 작가에 대해 가중평점 예측\n",
    "            pred[user_idx, author_idx] = predict_ratings_for_user(user_idx, author_idx, topn_sim_idx)\n",
    "            \n",
    "    return pred\n",
    "\n",
    "# 예측 평점 생성\n",
    "ratings_pred = predict_ratings_user_to_author(20)\n",
    "print(ratings_pred.shape)\n"
   ],
   "id": "8128f5b9060f8ec0",
   "outputs": [
    {
     "name": "stdout",
     "output_type": "stream",
     "text": [
      "(4836, 1721)\n"
     ]
    }
   ],
   "execution_count": 62
  },
  {
   "metadata": {
    "ExecuteTime": {
     "end_time": "2024-11-08T08:10:01.619539Z",
     "start_time": "2024-11-08T08:10:01.608934Z"
    }
   },
   "cell_type": "code",
   "source": [
    "\"\"\"\n",
    "오류 메시지를 보면, ratings_pred 배열의 크기 (4836, 1721)이지만, author_user_df의 index와 columns는 (1721, 4836) 형식을 가지고 있다는 점에서 불일치가 발생했습니다.\n",
    "\n",
    "문제의 원인:\n",
    "\n",
    "ratings_pred의 크기가 (4836, 1721)인데, 이를 pred_rating_df로 변환할 때 index와 columns를 author_user_df.index와 author_user_df.columns를 그대로 사용하려고 합니다.\n",
    "그러나 author_user_df.index는 1721개의 사용자, author_user_df.columns는 4836개의 작가에 해당합니다. 따라서 ratings_pred 배열의 크기 (4836, 1721)과 author_user_df의 행렬 형식이 맞지 않아서 에러가 발생한 것입니다.\n",
    "해결 방법:\n",
    "ratings_pred 배열의 크기 (4836, 1721)을 적절히 반영하려면, index와 columns를 반대로 지정해야 합니다.\n",
    "\"\"\"\n",
    "# 예측 평점을 데이터프레임으로 변환\n",
    "# (4836, 1721) 행에는 유저 수. 열에는 작가 수\n",
    "pred_rating_df = pd.DataFrame(ratings_pred, index=author_user_df.columns, columns=author_user_df.index)\n",
    "pred_rating_df.head(100)\n",
    "print(pred_rating_df.shape)"
   ],
   "id": "b202e1c184e6d529",
   "outputs": [
    {
     "name": "stdout",
     "output_type": "stream",
     "text": [
      "(4836, 1721)\n"
     ]
    }
   ],
   "execution_count": 63
  },
  {
   "metadata": {
    "ExecuteTime": {
     "end_time": "2024-11-08T08:10:01.742045Z",
     "start_time": "2024-11-08T08:10:01.684543Z"
    }
   },
   "cell_type": "code",
   "source": [
    "ratings_pred=ratings_pred.T\n",
    "get_mse(author_user_df.values, ratings_pred)"
   ],
   "id": "ae3f963072b2df23",
   "outputs": [
    {
     "data": {
      "text/plain": [
       "28.970193006576743"
      ]
     },
     "execution_count": 64,
     "metadata": {},
     "output_type": "execute_result"
    }
   ],
   "execution_count": 64
  },
  {
   "metadata": {
    "ExecuteTime": {
     "end_time": "2024-11-08T08:10:01.829731Z",
     "start_time": "2024-11-08T08:10:01.814297Z"
    }
   },
   "cell_type": "code",
   "source": [
    "# 안 읽은 작가 조회\n",
    "def get_unread_author(user_idx):\n",
    "    user_ratings_df = user_author_df.iloc[user_idx]\n",
    "    return user_ratings_df[user_ratings_df==0]\n",
    "\n",
    "get_unread_author(150)"
   ],
   "id": "5db79e2a07ed4b89",
   "outputs": [
    {
     "data": {
      "text/plain": [
       "book_author\n",
       "A. Manette Ansay         0.0\n",
       "A. N. Roquelaure         0.0\n",
       "ADRIANA TRIGIANI         0.0\n",
       "ALBERT CAMUS             0.0\n",
       "ALEXANDRA FULLER         0.0\n",
       "                        ... \n",
       "Zachary Fox              0.0\n",
       "Zadie Smith              0.0\n",
       "Zilpha Keatley Snyder    0.0\n",
       "Zlata Filipovic          0.0\n",
       "Zora Neale Hurston       0.0\n",
       "Name: 10241, Length: 1719, dtype: float64"
      ]
     },
     "execution_count": 65,
     "metadata": {},
     "output_type": "execute_result"
    }
   ],
   "execution_count": 65
  },
  {
   "metadata": {
    "ExecuteTime": {
     "end_time": "2024-11-08T06:27:07.910669Z",
     "start_time": "2024-11-08T06:27:07.884184Z"
    }
   },
   "cell_type": "code",
   "source": "pred_rating_df.iloc[:5, :10]",
   "id": "53b33060245b6dd0",
   "outputs": [
    {
     "data": {
      "text/plain": [
       "book_author  A. Manette Ansay  A. N. Roquelaure  ADRIANA TRIGIANI  \\\n",
       "user_id                                                             \n",
       "243                  0.534839               0.0               0.0   \n",
       "254                  0.000000               0.0               0.0   \n",
       "383                  0.000000               0.0               0.0   \n",
       "388                  0.000000               0.0               0.0   \n",
       "487                  0.000000               0.0               0.0   \n",
       "\n",
       "book_author  ALBERT CAMUS  ALEXANDRA FULLER  ALICE STEINBACH  AMANDA QUICK  \\\n",
       "user_id                                                                      \n",
       "243                   0.0               0.0              0.0           0.0   \n",
       "254                   0.0               0.0              0.0           0.0   \n",
       "383                   0.0               0.0              0.0           0.0   \n",
       "388                   0.0               0.0              0.0           0.0   \n",
       "487                   0.0               0.0              0.0           0.0   \n",
       "\n",
       "book_author  ANN BENSON  ANN BRASHARES  ANN PACKER  \n",
       "user_id                                             \n",
       "243                 0.0            0.0         0.0  \n",
       "254                 0.0            0.0         0.0  \n",
       "383                 0.0            0.0         0.0  \n",
       "388                 0.0            0.0         0.0  \n",
       "487                 0.0            0.0         0.0  "
      ],
      "text/html": [
       "<div>\n",
       "<style scoped>\n",
       "    .dataframe tbody tr th:only-of-type {\n",
       "        vertical-align: middle;\n",
       "    }\n",
       "\n",
       "    .dataframe tbody tr th {\n",
       "        vertical-align: top;\n",
       "    }\n",
       "\n",
       "    .dataframe thead th {\n",
       "        text-align: right;\n",
       "    }\n",
       "</style>\n",
       "<table border=\"1\" class=\"dataframe\">\n",
       "  <thead>\n",
       "    <tr style=\"text-align: right;\">\n",
       "      <th>book_author</th>\n",
       "      <th>A. Manette Ansay</th>\n",
       "      <th>A. N. Roquelaure</th>\n",
       "      <th>ADRIANA TRIGIANI</th>\n",
       "      <th>ALBERT CAMUS</th>\n",
       "      <th>ALEXANDRA FULLER</th>\n",
       "      <th>ALICE STEINBACH</th>\n",
       "      <th>AMANDA QUICK</th>\n",
       "      <th>ANN BENSON</th>\n",
       "      <th>ANN BRASHARES</th>\n",
       "      <th>ANN PACKER</th>\n",
       "    </tr>\n",
       "    <tr>\n",
       "      <th>user_id</th>\n",
       "      <th></th>\n",
       "      <th></th>\n",
       "      <th></th>\n",
       "      <th></th>\n",
       "      <th></th>\n",
       "      <th></th>\n",
       "      <th></th>\n",
       "      <th></th>\n",
       "      <th></th>\n",
       "      <th></th>\n",
       "    </tr>\n",
       "  </thead>\n",
       "  <tbody>\n",
       "    <tr>\n",
       "      <th>243</th>\n",
       "      <td>0.534839</td>\n",
       "      <td>0.0</td>\n",
       "      <td>0.0</td>\n",
       "      <td>0.0</td>\n",
       "      <td>0.0</td>\n",
       "      <td>0.0</td>\n",
       "      <td>0.0</td>\n",
       "      <td>0.0</td>\n",
       "      <td>0.0</td>\n",
       "      <td>0.0</td>\n",
       "    </tr>\n",
       "    <tr>\n",
       "      <th>254</th>\n",
       "      <td>0.000000</td>\n",
       "      <td>0.0</td>\n",
       "      <td>0.0</td>\n",
       "      <td>0.0</td>\n",
       "      <td>0.0</td>\n",
       "      <td>0.0</td>\n",
       "      <td>0.0</td>\n",
       "      <td>0.0</td>\n",
       "      <td>0.0</td>\n",
       "      <td>0.0</td>\n",
       "    </tr>\n",
       "    <tr>\n",
       "      <th>383</th>\n",
       "      <td>0.000000</td>\n",
       "      <td>0.0</td>\n",
       "      <td>0.0</td>\n",
       "      <td>0.0</td>\n",
       "      <td>0.0</td>\n",
       "      <td>0.0</td>\n",
       "      <td>0.0</td>\n",
       "      <td>0.0</td>\n",
       "      <td>0.0</td>\n",
       "      <td>0.0</td>\n",
       "    </tr>\n",
       "    <tr>\n",
       "      <th>388</th>\n",
       "      <td>0.000000</td>\n",
       "      <td>0.0</td>\n",
       "      <td>0.0</td>\n",
       "      <td>0.0</td>\n",
       "      <td>0.0</td>\n",
       "      <td>0.0</td>\n",
       "      <td>0.0</td>\n",
       "      <td>0.0</td>\n",
       "      <td>0.0</td>\n",
       "      <td>0.0</td>\n",
       "    </tr>\n",
       "    <tr>\n",
       "      <th>487</th>\n",
       "      <td>0.000000</td>\n",
       "      <td>0.0</td>\n",
       "      <td>0.0</td>\n",
       "      <td>0.0</td>\n",
       "      <td>0.0</td>\n",
       "      <td>0.0</td>\n",
       "      <td>0.0</td>\n",
       "      <td>0.0</td>\n",
       "      <td>0.0</td>\n",
       "      <td>0.0</td>\n",
       "    </tr>\n",
       "  </tbody>\n",
       "</table>\n",
       "</div>"
      ]
     },
     "execution_count": 34,
     "metadata": {},
     "output_type": "execute_result"
    }
   ],
   "execution_count": 34
  },
  {
   "metadata": {
    "ExecuteTime": {
     "end_time": "2024-11-08T08:10:02.036266Z",
     "start_time": "2024-11-08T08:10:01.999463Z"
    }
   },
   "cell_type": "code",
   "source": [
    "def recommand_authors(user_idx,topn=20):\n",
    "    # 안본 책 (Series로 반환 받고, index(책제목) label로 변환\n",
    "    unread = get_unread_author(user_idx).index\n",
    "    print(unread)\n",
    "    # 예측 평점 상위 topn개의 영화 추천 | 입력받은 사용자가 안 본 것들 중에서, 평점이 높은 순으로 정렬.\n",
    "    temp = pred_rating_df.iloc[user_idx].loc[unread].sort_values(ascending=False)[:topn]\n",
    "    # user_rating_df = author_user_df.loc[user_idx - 1, temp.index]\n",
    "    return pd.DataFrame({\n",
    "        'book_author': temp.index,\n",
    "        'pred_rating': temp.values,\n",
    "        # 'user_rating': user_rating_df.values,\n",
    "    })\n",
    "\n",
    "recommand_authors(175,20)"
   ],
   "id": "b3bf4a1e3b3e0aaf",
   "outputs": [
    {
     "name": "stdout",
     "output_type": "stream",
     "text": [
      "Index(['A. Manette Ansay', 'A. N. Roquelaure', 'ADRIANA TRIGIANI',\n",
      "       'ALBERT CAMUS', 'ALEXANDRA FULLER', 'ALICE STEINBACH', 'AMANDA QUICK',\n",
      "       'ANN BENSON', 'ANN BRASHARES', 'ANN PACKER',\n",
      "       ...\n",
      "       'Witi Ihimaera', 'Wollstonecraft Mary Shelley', 'Yann Martel',\n",
      "       'Yxta Maya Murray', 'Zachary Alan Fox', 'Zachary Fox', 'Zadie Smith',\n",
      "       'Zilpha Keatley Snyder', 'Zlata Filipovic', 'Zora Neale Hurston'],\n",
      "      dtype='object', name='book_author', length=1718)\n"
     ]
    },
    {
     "data": {
      "text/plain": [
       "               book_author  pred_rating\n",
       "0             Wilbur Smith     0.671083\n",
       "1          Alice Borchardt     0.444523\n",
       "2     William W. Johnstone     0.384802\n",
       "3              Susan Power     0.384246\n",
       "4            Dawna Markova     0.358128\n",
       "5                Anne Rice     0.354160\n",
       "6              Larry Brown     0.344272\n",
       "7             Stephen King     0.343002\n",
       "8                ANNE RICE     0.342794\n",
       "9            Laurie Notaro     0.330478\n",
       "10            Mark Nykanen     0.308053\n",
       "11              Robin Cook     0.305406\n",
       "12              Pat Conroy     0.291412\n",
       "13              Dan Savage     0.284513\n",
       "14            JOHN GRISHAM     0.284444\n",
       "15  Oriah Mountain Dreamer     0.281207\n",
       "16             Lucy Grealy     0.276979\n",
       "17        Michael Crichton     0.274292\n",
       "18            John Grisham     0.261993\n",
       "19            Michael Ende     0.257935"
      ],
      "text/html": [
       "<div>\n",
       "<style scoped>\n",
       "    .dataframe tbody tr th:only-of-type {\n",
       "        vertical-align: middle;\n",
       "    }\n",
       "\n",
       "    .dataframe tbody tr th {\n",
       "        vertical-align: top;\n",
       "    }\n",
       "\n",
       "    .dataframe thead th {\n",
       "        text-align: right;\n",
       "    }\n",
       "</style>\n",
       "<table border=\"1\" class=\"dataframe\">\n",
       "  <thead>\n",
       "    <tr style=\"text-align: right;\">\n",
       "      <th></th>\n",
       "      <th>book_author</th>\n",
       "      <th>pred_rating</th>\n",
       "    </tr>\n",
       "  </thead>\n",
       "  <tbody>\n",
       "    <tr>\n",
       "      <th>0</th>\n",
       "      <td>Wilbur Smith</td>\n",
       "      <td>0.671083</td>\n",
       "    </tr>\n",
       "    <tr>\n",
       "      <th>1</th>\n",
       "      <td>Alice Borchardt</td>\n",
       "      <td>0.444523</td>\n",
       "    </tr>\n",
       "    <tr>\n",
       "      <th>2</th>\n",
       "      <td>William W. Johnstone</td>\n",
       "      <td>0.384802</td>\n",
       "    </tr>\n",
       "    <tr>\n",
       "      <th>3</th>\n",
       "      <td>Susan Power</td>\n",
       "      <td>0.384246</td>\n",
       "    </tr>\n",
       "    <tr>\n",
       "      <th>4</th>\n",
       "      <td>Dawna Markova</td>\n",
       "      <td>0.358128</td>\n",
       "    </tr>\n",
       "    <tr>\n",
       "      <th>5</th>\n",
       "      <td>Anne Rice</td>\n",
       "      <td>0.354160</td>\n",
       "    </tr>\n",
       "    <tr>\n",
       "      <th>6</th>\n",
       "      <td>Larry Brown</td>\n",
       "      <td>0.344272</td>\n",
       "    </tr>\n",
       "    <tr>\n",
       "      <th>7</th>\n",
       "      <td>Stephen King</td>\n",
       "      <td>0.343002</td>\n",
       "    </tr>\n",
       "    <tr>\n",
       "      <th>8</th>\n",
       "      <td>ANNE RICE</td>\n",
       "      <td>0.342794</td>\n",
       "    </tr>\n",
       "    <tr>\n",
       "      <th>9</th>\n",
       "      <td>Laurie Notaro</td>\n",
       "      <td>0.330478</td>\n",
       "    </tr>\n",
       "    <tr>\n",
       "      <th>10</th>\n",
       "      <td>Mark Nykanen</td>\n",
       "      <td>0.308053</td>\n",
       "    </tr>\n",
       "    <tr>\n",
       "      <th>11</th>\n",
       "      <td>Robin Cook</td>\n",
       "      <td>0.305406</td>\n",
       "    </tr>\n",
       "    <tr>\n",
       "      <th>12</th>\n",
       "      <td>Pat Conroy</td>\n",
       "      <td>0.291412</td>\n",
       "    </tr>\n",
       "    <tr>\n",
       "      <th>13</th>\n",
       "      <td>Dan Savage</td>\n",
       "      <td>0.284513</td>\n",
       "    </tr>\n",
       "    <tr>\n",
       "      <th>14</th>\n",
       "      <td>JOHN GRISHAM</td>\n",
       "      <td>0.284444</td>\n",
       "    </tr>\n",
       "    <tr>\n",
       "      <th>15</th>\n",
       "      <td>Oriah Mountain Dreamer</td>\n",
       "      <td>0.281207</td>\n",
       "    </tr>\n",
       "    <tr>\n",
       "      <th>16</th>\n",
       "      <td>Lucy Grealy</td>\n",
       "      <td>0.276979</td>\n",
       "    </tr>\n",
       "    <tr>\n",
       "      <th>17</th>\n",
       "      <td>Michael Crichton</td>\n",
       "      <td>0.274292</td>\n",
       "    </tr>\n",
       "    <tr>\n",
       "      <th>18</th>\n",
       "      <td>John Grisham</td>\n",
       "      <td>0.261993</td>\n",
       "    </tr>\n",
       "    <tr>\n",
       "      <th>19</th>\n",
       "      <td>Michael Ende</td>\n",
       "      <td>0.257935</td>\n",
       "    </tr>\n",
       "  </tbody>\n",
       "</table>\n",
       "</div>"
      ]
     },
     "execution_count": 66,
     "metadata": {},
     "output_type": "execute_result"
    }
   ],
   "execution_count": 66
  }
 ],
 "metadata": {
  "kernelspec": {
   "display_name": "Python 3",
   "language": "python",
   "name": "python3"
  },
  "language_info": {
   "codemirror_mode": {
    "name": "ipython",
    "version": 2
   },
   "file_extension": ".py",
   "mimetype": "text/x-python",
   "name": "python",
   "nbconvert_exporter": "python",
   "pygments_lexer": "ipython2",
   "version": "2.7.6"
  }
 },
 "nbformat": 4,
 "nbformat_minor": 5
}
